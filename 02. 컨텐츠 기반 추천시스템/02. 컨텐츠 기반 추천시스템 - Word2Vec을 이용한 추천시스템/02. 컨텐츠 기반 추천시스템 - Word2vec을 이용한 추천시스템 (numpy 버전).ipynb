{
 "cells": [
  {
   "cell_type": "markdown",
   "metadata": {},
   "source": [
    "## Word2Vec알고리즘 (CBOW)\n",
    "- 내부의 Weight가 업데이트 되는 과정을 자세하게 살펴보는 코드"
   ]
  },
  {
   "cell_type": "markdown",
   "metadata": {},
   "source": [
    "\"You say goodbye and I say hello.\""
   ]
  },
  {
   "cell_type": "code",
   "execution_count": 1,
   "metadata": {},
   "outputs": [],
   "source": [
    "import numpy as np\n",
    "# 입력값은 원-핫 벡터형태를 가짐 \n",
    "input1 = np.array([[1, 0, 0, 0, 0, 0, 0]]) # You\n",
    "\n",
    "input2 = np.array([[0, 0, 1, 0, 0, 0, 0]]) # goodbye"
   ]
  },
  {
   "cell_type": "code",
   "execution_count": 2,
   "metadata": {},
   "outputs": [],
   "source": [
    "# (입력 x 차원의 크기) - 차원의 크기는 사용자가 선정 \n",
    "## 초기의 Weight는 랜덤하게 결정됨 \n",
    "W_in = np.random.randn(7, 3)"
   ]
  },
  {
   "cell_type": "code",
   "execution_count": 3,
   "metadata": {},
   "outputs": [],
   "source": [
    "h_1 = np.matmul(input1, W_in) # 은닉층의 값 \n",
    "h_2 = np.matmul(input2, W_in) # 은닉층의 값 "
   ]
  },
  {
   "cell_type": "code",
   "execution_count": 5,
   "metadata": {},
   "outputs": [
    {
     "name": "stdout",
     "output_type": "stream",
     "text": [
      "[[0.20274156 0.10486586 0.34333331]]\n"
     ]
    }
   ],
   "source": [
    "h = (h_1+h_2)/2\n",
    "print(h)"
   ]
  },
  {
   "attachments": {
    "image.png": {
     "image/png": "[encoded data removed]"
    }
   },
   "cell_type": "markdown",
   "metadata": {},
   "source": [
    "![image.png](attachment:image.png)"
   ]
  },
  {
   "cell_type": "code",
   "execution_count": 29,
   "metadata": {},
   "outputs": [
    {
     "name": "stdout",
     "output_type": "stream",
     "text": [
      "[[ 0.4879 -0.508   0.1455 -0.4045 -0.0041 -0.559   0.5599]]\n"
     ]
    }
   ],
   "source": [
    "W_out = np.random.randn(3, 7)\n",
    "score = np.matmul(h, W_out)\n",
    "print(np.round(score, 4))"
   ]
  },
  {
   "cell_type": "code",
   "execution_count": 16,
   "metadata": {},
   "outputs": [],
   "source": [
    "def softmax(x): \n",
    "    exp_x = np.exp(x)\n",
    "    sum_exp_x = np.sum(exp_x)\n",
    "    y = exp_x / sum_exp_x\n",
    "    return y"
   ]
  },
  {
   "cell_type": "code",
   "execution_count": 28,
   "metadata": {},
   "outputs": [
    {
     "name": "stdout",
     "output_type": "stream",
     "text": [
      "[[0.174  0.1222 0.0988 0.1765 0.2168 0.1134 0.0982]]\n"
     ]
    }
   ],
   "source": [
    "pred = softmax(score)\n",
    "print(np.round(pred, 4))"
   ]
  },
  {
   "cell_type": "code",
   "execution_count": 30,
   "metadata": {},
   "outputs": [],
   "source": [
    "# Cross Entropy Loss 계산 \n",
    "def cross_entropy_error(y, t):\n",
    "    '''\n",
    "    y : prediction \n",
    "    t : target \n",
    "    '''\n",
    "    delta = 1e-7 # log의 내부가 0이 되는 것을 방지 \n",
    "    \n",
    "    # y.shape[0]으로 나눠주는 이유는 배치 사이즈 반영 \n",
    "    return -np.sum(t * np.log(y + delta)) / y.shape[0]"
   ]
  },
  {
   "cell_type": "code",
   "execution_count": 31,
   "metadata": {},
   "outputs": [
    {
     "data": {
      "text/plain": [
       "2.101924544240407"
      ]
     },
     "execution_count": 31,
     "metadata": {},
     "output_type": "execute_result"
    }
   ],
   "source": [
    "cross_entropy_error(pred, [0, 1, 0, 0, 0, 0, 0])"
   ]
  },
  {
   "cell_type": "code",
   "execution_count": 42,
   "metadata": {},
   "outputs": [
    {
     "name": "stdout",
     "output_type": "stream",
     "text": [
      "[[ 0.174  -0.8778  0.0988  0.1765  0.2168  0.1134  0.0982]]\n"
     ]
    }
   ],
   "source": [
    "# Loss를 통해서 Weight를 업데이트 \n",
    "# Softmax의 미분값 \n",
    "ans = [0, 1, 0, 0, 0, 0, 0]\n",
    "ds = np.round(pred - ans, 4)\n",
    "print(ds)"
   ]
  },
  {
   "cell_type": "code",
   "execution_count": 51,
   "metadata": {},
   "outputs": [
    {
     "name": "stdout",
     "output_type": "stream",
     "text": [
      "[[ 0.0353 -0.178   0.02    0.0358  0.044   0.023   0.0199]\n",
      " [ 0.0182 -0.0921  0.0104  0.0185  0.0227  0.0119  0.0103]\n",
      " [ 0.0597 -0.3014  0.0339  0.0606  0.0744  0.0389  0.0337]]\n"
     ]
    }
   ],
   "source": [
    "# ds (Delta for W_out) 계산 \n",
    "dW_out = np.outer(h, ds)\n",
    "print(np.round(dW_out, 4))"
   ]
  },
  {
   "cell_type": "code",
   "execution_count": 52,
   "metadata": {},
   "outputs": [
    {
     "name": "stdout",
     "output_type": "stream",
     "text": [
      "[[-0.3732  1.0494  1.2529]]\n"
     ]
    }
   ],
   "source": [
    "da = np.dot(ds, W_out.T)\n",
    "print(np.round(da, 4))"
   ]
  },
  {
   "cell_type": "code",
   "execution_count": 56,
   "metadata": {},
   "outputs": [
    {
     "name": "stdout",
     "output_type": "stream",
     "text": [
      "[[-0.1866  0.5247  0.6264]\n",
      " [-0.      0.      0.    ]\n",
      " [-0.      0.      0.    ]\n",
      " [-0.      0.      0.    ]\n",
      " [-0.      0.      0.    ]\n",
      " [-0.      0.      0.    ]\n",
      " [-0.      0.      0.    ]]\n"
     ]
    }
   ],
   "source": [
    "dw_1 = np.round(np.outer(np.array([[1,0,0,0,0,0,0]]), (da/2)), 4)\n",
    "print(dw_1)"
   ]
  },
  {
   "cell_type": "code",
   "execution_count": 57,
   "metadata": {},
   "outputs": [
    {
     "name": "stdout",
     "output_type": "stream",
     "text": [
      "[[-0.      0.      0.    ]\n",
      " [-0.      0.      0.    ]\n",
      " [-0.1866  0.5247  0.6264]\n",
      " [-0.      0.      0.    ]\n",
      " [-0.      0.      0.    ]\n",
      " [-0.      0.      0.    ]\n",
      " [-0.      0.      0.    ]]\n"
     ]
    }
   ],
   "source": [
    "dw_2 = np.round(np.outer(np.array([[0,0,1,0,0,0,0]]), (da/2)), 4)\n",
    "print(dw_2)"
   ]
  },
  {
   "cell_type": "code",
   "execution_count": 73,
   "metadata": {},
   "outputs": [
    {
     "name": "stdout",
     "output_type": "stream",
     "text": [
      "[[ 0.475  -0.3731 -0.4883]\n",
      " [-0.0261  1.4564  0.5001]\n",
      " [ 0.3037 -0.4666 -0.0778]\n",
      " [-1.0541  0.1681  0.4108]\n",
      " [-0.9173  0.6615  0.383 ]\n",
      " [-0.1627 -0.2639 -0.3442]\n",
      " [ 0.6816 -0.3252 -0.8528]]\n"
     ]
    }
   ],
   "source": [
    "learning_rate = 1\n",
    "W_in_new = W_in - learning_rate * dw_1\n",
    "W_in_new = W_in_new - learning_rate * dw_2\n",
    "print(np.round(W_in_new, 4))"
   ]
  },
  {
   "cell_type": "code",
   "execution_count": 74,
   "metadata": {},
   "outputs": [
    {
     "name": "stdout",
     "output_type": "stream",
     "text": [
      "[[ 0.2884  0.1516  0.1381]\n",
      " [-0.0261  1.4564  0.5001]\n",
      " [ 0.1171  0.0581  0.5486]\n",
      " [-1.0541  0.1681  0.4108]\n",
      " [-0.9173  0.6615  0.383 ]\n",
      " [-0.1627 -0.2639 -0.3442]\n",
      " [ 0.6816 -0.3252 -0.8528]]\n"
     ]
    }
   ],
   "source": [
    "print(np.round(W_in, 4))"
   ]
  },
  {
   "cell_type": "code",
   "execution_count": 70,
   "metadata": {},
   "outputs": [
    {
     "name": "stdout",
     "output_type": "stream",
     "text": [
      "[[-0.3421 -0.1997  1.786  -3.0867 -1.1163 -0.3515 -0.2393]\n",
      " [ 0.7465 -0.1937  0.3428  1.775   0.6387  0.3337  1.3281]\n",
      " [ 1.309  -0.868  -0.7845  0.015   0.3448 -1.5788  1.3178]]\n"
     ]
    }
   ],
   "source": [
    "learnoutg_rate = 1\n",
    "W_out_new = W_out - learnoutg_rate * dW_out\n",
    "print(np.round(W_out_new, 4))"
   ]
  },
  {
   "cell_type": "code",
   "execution_count": 72,
   "metadata": {},
   "outputs": [
    {
     "name": "stdout",
     "output_type": "stream",
     "text": [
      "[[ 0.0353 -0.178   0.02    0.0358  0.044   0.023   0.0199]\n",
      " [ 0.0182 -0.0921  0.0104  0.0185  0.0227  0.0119  0.0103]\n",
      " [ 0.0597 -0.3014  0.0339  0.0606  0.0744  0.0389  0.0337]]\n"
     ]
    }
   ],
   "source": [
    "print(np.round(dW_out, 4))"
   ]
  },
  {
   "cell_type": "markdown",
   "metadata": {},
   "source": [
    "## Word2Vec알고리즘 (Skip-Gram)"
   ]
  },
  {
   "cell_type": "code",
   "execution_count": 75,
   "metadata": {},
   "outputs": [],
   "source": [
    "import numpy as np\n",
    "# 입력값은 원-핫 벡터형태를 가짐 \n",
    "input = np.array([[0, 1, 0, 0, 0, 0, 0]]) # say\n",
    "\n",
    "output1 = np.array([[1, 0, 0, 0, 0, 0, 0]]) # you\n",
    "output2 = np.array([[0, 0, 1, 0, 0, 0, 0]]) # you"
   ]
  },
  {
   "cell_type": "code",
   "execution_count": 76,
   "metadata": {},
   "outputs": [],
   "source": [
    "# (입력 x 차원의 크기) - 차원의 크기는 사용자가 선정 \n",
    "## 초기의 Weight는 랜덤하게 결정됨 \n",
    "W_in = np.random.randn(7, 3)"
   ]
  },
  {
   "cell_type": "code",
   "execution_count": 77,
   "metadata": {},
   "outputs": [],
   "source": [
    "h = np.matmul(input, W_in) # 은닉층의 값 "
   ]
  },
  {
   "cell_type": "code",
   "execution_count": 78,
   "metadata": {},
   "outputs": [
    {
     "name": "stdout",
     "output_type": "stream",
     "text": [
      "[[ 1.73019885  0.25404839 -1.17196824]]\n"
     ]
    }
   ],
   "source": [
    "print(h)"
   ]
  },
  {
   "cell_type": "code",
   "execution_count": 79,
   "metadata": {},
   "outputs": [
    {
     "name": "stdout",
     "output_type": "stream",
     "text": [
      "[[ 2.7048  0.3958  4.2091 -0.5001  0.1066  0.2814  3.8254]]\n"
     ]
    }
   ],
   "source": [
    "W_out = np.random.randn(3, 7)\n",
    "score = np.matmul(h, W_out)\n",
    "print(np.round(score, 4))"
   ]
  },
  {
   "cell_type": "code",
   "execution_count": 80,
   "metadata": {},
   "outputs": [
    {
     "name": "stdout",
     "output_type": "stream",
     "text": [
      "[[0.1127 0.0112 0.5074 0.0046 0.0084 0.01   0.3457]]\n"
     ]
    }
   ],
   "source": [
    "pred = softmax(score)\n",
    "print(np.round(pred, 4))"
   ]
  },
  {
   "cell_type": "code",
   "execution_count": 83,
   "metadata": {},
   "outputs": [],
   "source": [
    "loss1 = cross_entropy_error(pred, [1, 0, 0, 0, 0, 0, 0])\n",
    "loss2 = cross_entropy_error(pred, [0, 0, 1, 0, 0, 0, 0])"
   ]
  },
  {
   "cell_type": "code",
   "execution_count": 85,
   "metadata": {},
   "outputs": [
    {
     "name": "stdout",
     "output_type": "stream",
     "text": [
      "2.1828 0.6785\n"
     ]
    }
   ],
   "source": [
    "print(np.round(loss1, 4), np.round(loss2, 4))"
   ]
  },
  {
   "cell_type": "code",
   "execution_count": 87,
   "metadata": {},
   "outputs": [
    {
     "name": "stdout",
     "output_type": "stream",
     "text": [
      "[[-0.7746  0.0224  0.0148  0.0092  0.0168  0.02    0.6914]]\n"
     ]
    }
   ],
   "source": [
    "ds1 = np.round(pred - output1, 4)\n",
    "ds2 = np.round(pred - output2, 4)\n",
    "ds = ds1 + ds2\n",
    "print(ds)"
   ]
  },
  {
   "cell_type": "code",
   "execution_count": 90,
   "metadata": {},
   "outputs": [
    {
     "name": "stdout",
     "output_type": "stream",
     "text": [
      "[[-1.3402  0.0388  0.0256  0.0159  0.0291  0.0346  1.1963]\n",
      " [-0.1968  0.0057  0.0038  0.0023  0.0043  0.0051  0.1756]\n",
      " [ 0.9078 -0.0263 -0.0173 -0.0108 -0.0197 -0.0234 -0.8103]]\n"
     ]
    }
   ],
   "source": [
    "dw_out = np.round(np.outer(h, ds), 4)\n",
    "print(dw_out)"
   ]
  },
  {
   "cell_type": "code",
   "execution_count": 91,
   "metadata": {},
   "outputs": [
    {
     "name": "stdout",
     "output_type": "stream",
     "text": [
      "[[ 0.8017 -0.4194  0.5604]]\n"
     ]
    }
   ],
   "source": [
    "da = np.dot(ds, W_out.T)\n",
    "print(np.round(da, 4))"
   ]
  },
  {
   "cell_type": "code",
   "execution_count": 92,
   "metadata": {},
   "outputs": [
    {
     "name": "stdout",
     "output_type": "stream",
     "text": [
      "[[ 0.     -0.      0.    ]\n",
      " [ 0.8017 -0.4194  0.5604]\n",
      " [ 0.     -0.      0.    ]\n",
      " [ 0.     -0.      0.    ]\n",
      " [ 0.     -0.      0.    ]\n",
      " [ 0.     -0.      0.    ]\n",
      " [ 0.     -0.      0.    ]]\n"
     ]
    }
   ],
   "source": [
    "dw_in = np.outer(np.array([[0,1,0,0,0,0,0]]), da)\n",
    "print(np.round(dw_in, 4))"
   ]
  },
  {
   "cell_type": "code",
   "execution_count": 93,
   "metadata": {},
   "outputs": [
    {
     "name": "stdout",
     "output_type": "stream",
     "text": [
      "[[ 0.1781 -0.5404 -0.0841]\n",
      " [ 0.9285  0.6734 -1.7324]\n",
      " [ 0.62    0.4294  0.487 ]\n",
      " [ 0.6782  0.1089  0.4805]\n",
      " [ 1.4623  1.6662  1.0456]\n",
      " [-0.31   -0.4486  0.2929]\n",
      " [-0.5184 -1.7401 -1.5444]]\n"
     ]
    }
   ],
   "source": [
    "learning_rate = 1\n",
    "W_in_new = W_in - learning_rate * dw_in\n",
    "print(np.round(W_in_new, 4))"
   ]
  },
  {
   "cell_type": "code",
   "execution_count": 96,
   "metadata": {},
   "outputs": [
    {
     "name": "stdout",
     "output_type": "stream",
     "text": [
      "[[ 0.1781 -0.5404 -0.0841]\n",
      " [ 1.7302  0.254  -1.172 ]\n",
      " [ 0.62    0.4294  0.487 ]\n",
      " [ 0.6782  0.1089  0.4805]\n",
      " [ 1.4623  1.6662  1.0456]\n",
      " [-0.31   -0.4486  0.2929]\n",
      " [-0.5184 -1.7401 -1.5444]]\n"
     ]
    }
   ],
   "source": [
    "print(np.round(W_in, 4))"
   ]
  },
  {
   "cell_type": "code",
   "execution_count": 94,
   "metadata": {},
   "outputs": [
    {
     "name": "stdout",
     "output_type": "stream",
     "text": [
      "[[ 1.4883 -0.3828  1.4322 -0.4885 -0.7947  0.7718  0.1107]\n",
      " [-0.1291  0.8108  0.7099 -1.3601 -0.5432 -1.6817 -1.1093]\n",
      " [-3.0677 -0.6423 -1.2672 -0.5546 -1.3183  0.6103 -0.7267]]\n"
     ]
    }
   ],
   "source": [
    "learnoutg_rate = 1\n",
    "W_out_new = W_out - learnoutg_rate * dw_out\n",
    "print(np.round(W_out_new, 4))"
   ]
  },
  {
   "cell_type": "code",
   "execution_count": 95,
   "metadata": {},
   "outputs": [
    {
     "name": "stdout",
     "output_type": "stream",
     "text": [
      "[[ 0.1481 -0.344   1.4578 -0.4726 -0.7656  0.8064  1.307 ]\n",
      " [-0.3259  0.8165  0.7137 -1.3578 -0.5389 -1.6766 -0.9337]\n",
      " [-2.1599 -0.6686 -1.2845 -0.5654 -1.338   0.5869 -1.537 ]]\n"
     ]
    }
   ],
   "source": [
    "print(np.round(W_out, 4))"
   ]
  },
  {
   "cell_type": "code",
   "execution_count": null,
   "metadata": {},
   "outputs": [],
   "source": []
  }
 ],
 "metadata": {
  "kernelspec": {
   "display_name": "Python 3",
   "language": "python",
   "name": "python3"
  },
  "language_info": {
   "codemirror_mode": {
    "name": "ipython",
    "version": 3
   },
   "file_extension": ".py",
   "mimetype": "text/x-python",
   "name": "python",
   "nbconvert_exporter": "python",
   "pygments_lexer": "ipython3",
   "version": "3.8.3"
  }
 },
 "nbformat": 4,
 "nbformat_minor": 4
}
