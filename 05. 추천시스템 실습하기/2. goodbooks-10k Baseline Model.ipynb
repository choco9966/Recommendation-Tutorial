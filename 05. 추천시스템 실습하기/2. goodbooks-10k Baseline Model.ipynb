{
 "cells": [
  {
   "cell_type": "markdown",
   "metadata": {},
   "source": [
    "# 1. Goodbooks-10k \n",
    "- Link : https://www.kaggle.com/zygmunt/goodbooks-10k"
   ]
  },
  {
   "cell_type": "code",
   "execution_count": 1,
   "metadata": {},
   "outputs": [],
   "source": [
    "import pandas as pd\n",
    "import numpy as np\n",
    "import plotnine \n",
    "from plotnine import *\n",
    "import os, sys, gc\n",
    "from tqdm.notebook import tqdm"
   ]
  },
  {
   "cell_type": "code",
   "execution_count": 2,
   "metadata": {},
   "outputs": [
    {
     "name": "stdout",
     "output_type": "stream",
     "text": [
      "['books.csv', 'book_tags.csv', 'ratings.csv', 'sample_book.xml', 'tags.csv', 'test.csv', 'to_read.csv', 'train.csv']\n"
     ]
    }
   ],
   "source": [
    "path = './input/books/'\n",
    "print(os.listdir(path))"
   ]
  },
  {
   "cell_type": "markdown",
   "metadata": {},
   "source": [
    "- books.csv : 책의 메타정보 \n",
    "- book_tags.csv : 책-테그의 매핑정보 \n",
    "- ratings.csv : 사용자가 책에 대해 점수를 준 평점정보 \n",
    "- tags.csv : 테그의 정보 \n",
    "- to_read.csv : 사용자가 읽으려고 기록해둔 책 (장바구니) "
   ]
  },
  {
   "cell_type": "code",
   "execution_count": 3,
   "metadata": {},
   "outputs": [],
   "source": [
    "books = pd.read_csv(path + \"books.csv\")\n",
    "book_tags = pd.read_csv(path + \"book_tags.csv\")\n",
    "train = pd.read_csv(path + \"train.csv\")\n",
    "test = pd.read_csv(path + \"test.csv\")\n",
    "tags = pd.read_csv(path + \"tags.csv\")\n",
    "to_read = pd.read_csv(path + \"to_read.csv\")"
   ]
  },
  {
   "cell_type": "code",
   "execution_count": 4,
   "metadata": {},
   "outputs": [],
   "source": [
    "train['book_id'] = train['book_id'].astype(str)\n",
    "test['book_id'] = test['book_id'].astype(str)\n",
    "books['book_id'] = books['book_id'].astype(str)"
   ]
  },
  {
   "cell_type": "code",
   "execution_count": 5,
   "metadata": {},
   "outputs": [
    {
     "data": {
      "application/vnd.jupyter.widget-view+json": {
       "model_id": "8faf6c3fbc8d41f4aea35b527dec539e",
       "version_major": 2,
       "version_minor": 0
      },
      "text/plain": [
       "HBox(children=(FloatProgress(value=0.0, max=53424.0), HTML(value='')))"
      ]
     },
     "metadata": {},
     "output_type": "display_data"
    },
    {
     "name": "stdout",
     "output_type": "stream",
     "text": [
      "\n"
     ]
    }
   ],
   "source": [
    "sol = test.groupby(['user_id'])['book_id'].agg({'unique'}).reset_index()\n",
    "gt = {}\n",
    "for user in tqdm(sol['user_id'].unique()): \n",
    "    gt[user] = list(sol[sol['user_id'] == user]['unique'].values[0])"
   ]
  },
  {
   "cell_type": "markdown",
   "metadata": {},
   "source": [
    "## 한 사람당 100권의 책을 추천해주는 상황 "
   ]
  },
  {
   "cell_type": "code",
   "execution_count": 6,
   "metadata": {},
   "outputs": [],
   "source": [
    "rec_df = pd.DataFrame()\n",
    "rec_df['user_id'] = train['user_id'].unique()"
   ]
  },
  {
   "cell_type": "markdown",
   "metadata": {},
   "source": [
    "## Baseline \n",
    "- 통계기반의 모델 "
   ]
  },
  {
   "cell_type": "code",
   "execution_count": 7,
   "metadata": {
    "scrolled": true
   },
   "outputs": [
    {
     "data": {
      "text/html": [
       "<div>\n",
       "<style scoped>\n",
       "    .dataframe tbody tr th:only-of-type {\n",
       "        vertical-align: middle;\n",
       "    }\n",
       "\n",
       "    .dataframe tbody tr th {\n",
       "        vertical-align: top;\n",
       "    }\n",
       "\n",
       "    .dataframe thead th {\n",
       "        text-align: right;\n",
       "    }\n",
       "</style>\n",
       "<table border=\"1\" class=\"dataframe\">\n",
       "  <thead>\n",
       "    <tr style=\"text-align: right;\">\n",
       "      <th></th>\n",
       "      <th>id</th>\n",
       "      <th>book_id</th>\n",
       "      <th>best_book_id</th>\n",
       "      <th>work_id</th>\n",
       "      <th>books_count</th>\n",
       "      <th>isbn</th>\n",
       "      <th>isbn13</th>\n",
       "      <th>authors</th>\n",
       "      <th>original_publication_year</th>\n",
       "      <th>original_title</th>\n",
       "      <th>...</th>\n",
       "      <th>ratings_count</th>\n",
       "      <th>work_ratings_count</th>\n",
       "      <th>work_text_reviews_count</th>\n",
       "      <th>ratings_1</th>\n",
       "      <th>ratings_2</th>\n",
       "      <th>ratings_3</th>\n",
       "      <th>ratings_4</th>\n",
       "      <th>ratings_5</th>\n",
       "      <th>image_url</th>\n",
       "      <th>small_image_url</th>\n",
       "    </tr>\n",
       "  </thead>\n",
       "  <tbody>\n",
       "    <tr>\n",
       "      <th>9</th>\n",
       "      <td>10</td>\n",
       "      <td>1885</td>\n",
       "      <td>1885</td>\n",
       "      <td>3060926</td>\n",
       "      <td>3455</td>\n",
       "      <td>679783261</td>\n",
       "      <td>9.780680e+12</td>\n",
       "      <td>Jane Austen</td>\n",
       "      <td>1813.0</td>\n",
       "      <td>Pride and Prejudice</td>\n",
       "      <td>...</td>\n",
       "      <td>2035490</td>\n",
       "      <td>2191465</td>\n",
       "      <td>49152</td>\n",
       "      <td>54700</td>\n",
       "      <td>86485</td>\n",
       "      <td>284852</td>\n",
       "      <td>609755</td>\n",
       "      <td>1155673</td>\n",
       "      <td>https://images.gr-assets.com/books/1320399351m...</td>\n",
       "      <td>https://images.gr-assets.com/books/1320399351s...</td>\n",
       "    </tr>\n",
       "    <tr>\n",
       "      <th>1724</th>\n",
       "      <td>1725</td>\n",
       "      <td>6324090</td>\n",
       "      <td>6324090</td>\n",
       "      <td>55548884</td>\n",
       "      <td>3296</td>\n",
       "      <td>NaN</td>\n",
       "      <td>NaN</td>\n",
       "      <td>Lewis Carroll, John Tenniel</td>\n",
       "      <td>1865.0</td>\n",
       "      <td>NaN</td>\n",
       "      <td>...</td>\n",
       "      <td>30426</td>\n",
       "      <td>85031</td>\n",
       "      <td>5047</td>\n",
       "      <td>1724</td>\n",
       "      <td>4863</td>\n",
       "      <td>18094</td>\n",
       "      <td>27848</td>\n",
       "      <td>32502</td>\n",
       "      <td>https://images.gr-assets.com/books/1391204048m...</td>\n",
       "      <td>https://images.gr-assets.com/books/1391204048s...</td>\n",
       "    </tr>\n",
       "    <tr>\n",
       "      <th>70</th>\n",
       "      <td>71</td>\n",
       "      <td>18490</td>\n",
       "      <td>18490</td>\n",
       "      <td>4836639</td>\n",
       "      <td>2618</td>\n",
       "      <td>141439475</td>\n",
       "      <td>9.780141e+12</td>\n",
       "      <td>Mary Wollstonecraft Shelley, Percy Bysshe Shel...</td>\n",
       "      <td>1818.0</td>\n",
       "      <td>Frankenstein; or, The Modern Prometheus</td>\n",
       "      <td>...</td>\n",
       "      <td>808589</td>\n",
       "      <td>883563</td>\n",
       "      <td>19993</td>\n",
       "      <td>29366</td>\n",
       "      <td>74142</td>\n",
       "      <td>231022</td>\n",
       "      <td>300495</td>\n",
       "      <td>248538</td>\n",
       "      <td>https://images.gr-assets.com/books/1381512375m...</td>\n",
       "      <td>https://images.gr-assets.com/books/1381512375s...</td>\n",
       "    </tr>\n",
       "    <tr>\n",
       "      <th>292</th>\n",
       "      <td>293</td>\n",
       "      <td>295</td>\n",
       "      <td>295</td>\n",
       "      <td>3077988</td>\n",
       "      <td>2573</td>\n",
       "      <td>753453800</td>\n",
       "      <td>9.780753e+12</td>\n",
       "      <td>Robert Louis Stevenson</td>\n",
       "      <td>1882.0</td>\n",
       "      <td>Treasure Island</td>\n",
       "      <td>...</td>\n",
       "      <td>268012</td>\n",
       "      <td>310515</td>\n",
       "      <td>7917</td>\n",
       "      <td>5349</td>\n",
       "      <td>19127</td>\n",
       "      <td>86487</td>\n",
       "      <td>114968</td>\n",
       "      <td>84584</td>\n",
       "      <td>https://images.gr-assets.com/books/1485248909m...</td>\n",
       "      <td>https://images.gr-assets.com/books/1485248909s...</td>\n",
       "    </tr>\n",
       "    <tr>\n",
       "      <th>42</th>\n",
       "      <td>43</td>\n",
       "      <td>10210</td>\n",
       "      <td>10210</td>\n",
       "      <td>2977639</td>\n",
       "      <td>2568</td>\n",
       "      <td>142437204</td>\n",
       "      <td>9.780142e+12</td>\n",
       "      <td>Charlotte Brontë, Michael Mason</td>\n",
       "      <td>1847.0</td>\n",
       "      <td>Jane Eyre</td>\n",
       "      <td>...</td>\n",
       "      <td>1198557</td>\n",
       "      <td>1286135</td>\n",
       "      <td>31212</td>\n",
       "      <td>35132</td>\n",
       "      <td>64274</td>\n",
       "      <td>212294</td>\n",
       "      <td>400214</td>\n",
       "      <td>574221</td>\n",
       "      <td>https://images.gr-assets.com/books/1327867269m...</td>\n",
       "      <td>https://images.gr-assets.com/books/1327867269s...</td>\n",
       "    </tr>\n",
       "  </tbody>\n",
       "</table>\n",
       "<p>5 rows × 23 columns</p>\n",
       "</div>"
      ],
      "text/plain": [
       "        id  book_id  best_book_id   work_id  books_count       isbn  \\\n",
       "9       10     1885          1885   3060926         3455  679783261   \n",
       "1724  1725  6324090       6324090  55548884         3296        NaN   \n",
       "70      71    18490         18490   4836639         2618  141439475   \n",
       "292    293      295           295   3077988         2573  753453800   \n",
       "42      43    10210         10210   2977639         2568  142437204   \n",
       "\n",
       "            isbn13                                            authors  \\\n",
       "9     9.780680e+12                                        Jane Austen   \n",
       "1724           NaN                        Lewis Carroll, John Tenniel   \n",
       "70    9.780141e+12  Mary Wollstonecraft Shelley, Percy Bysshe Shel...   \n",
       "292   9.780753e+12                             Robert Louis Stevenson   \n",
       "42    9.780142e+12                    Charlotte Brontë, Michael Mason   \n",
       "\n",
       "      original_publication_year                           original_title  ...  \\\n",
       "9                        1813.0                      Pride and Prejudice  ...   \n",
       "1724                     1865.0                                      NaN  ...   \n",
       "70                       1818.0  Frankenstein; or, The Modern Prometheus  ...   \n",
       "292                      1882.0                          Treasure Island  ...   \n",
       "42                       1847.0                                Jane Eyre  ...   \n",
       "\n",
       "     ratings_count work_ratings_count  work_text_reviews_count  ratings_1  \\\n",
       "9          2035490            2191465                    49152      54700   \n",
       "1724         30426              85031                     5047       1724   \n",
       "70          808589             883563                    19993      29366   \n",
       "292         268012             310515                     7917       5349   \n",
       "42         1198557            1286135                    31212      35132   \n",
       "\n",
       "      ratings_2  ratings_3  ratings_4  ratings_5  \\\n",
       "9         86485     284852     609755    1155673   \n",
       "1724       4863      18094      27848      32502   \n",
       "70        74142     231022     300495     248538   \n",
       "292       19127      86487     114968      84584   \n",
       "42        64274     212294     400214     574221   \n",
       "\n",
       "                                              image_url  \\\n",
       "9     https://images.gr-assets.com/books/1320399351m...   \n",
       "1724  https://images.gr-assets.com/books/1391204048m...   \n",
       "70    https://images.gr-assets.com/books/1381512375m...   \n",
       "292   https://images.gr-assets.com/books/1485248909m...   \n",
       "42    https://images.gr-assets.com/books/1327867269m...   \n",
       "\n",
       "                                        small_image_url  \n",
       "9     https://images.gr-assets.com/books/1320399351s...  \n",
       "1724  https://images.gr-assets.com/books/1391204048s...  \n",
       "70    https://images.gr-assets.com/books/1381512375s...  \n",
       "292   https://images.gr-assets.com/books/1485248909s...  \n",
       "42    https://images.gr-assets.com/books/1327867269s...  \n",
       "\n",
       "[5 rows x 23 columns]"
      ]
     },
     "execution_count": 7,
     "metadata": {},
     "output_type": "execute_result"
    }
   ],
   "source": [
    "books.sort_values(by='books_count', ascending=False)[0:5]"
   ]
  },
  {
   "cell_type": "code",
   "execution_count": 8,
   "metadata": {},
   "outputs": [],
   "source": [
    "popular_rec_model = books.sort_values(by='books_count', ascending=False)['book_id'].values[0:500]"
   ]
  },
  {
   "cell_type": "code",
   "execution_count": 9,
   "metadata": {},
   "outputs": [
    {
     "data": {
      "application/vnd.jupyter.widget-view+json": {
       "model_id": "2ef24815dc304da184e6c8137e4c8540",
       "version_major": 2,
       "version_minor": 0
      },
      "text/plain": [
       "HBox(children=(FloatProgress(value=0.0, max=53382.0), HTML(value='')))"
      ]
     },
     "metadata": {},
     "output_type": "display_data"
    },
    {
     "name": "stdout",
     "output_type": "stream",
     "text": [
      "\n"
     ]
    }
   ],
   "source": [
    "total_rec_list = {}\n",
    "for user in tqdm(rec_df['user_id'].unique()):\n",
    "    rec_list = []\n",
    "    for rec in popular_rec_model[0:200]: \n",
    "        rec_list.append(rec)\n",
    "    total_rec_list[user] = rec_list"
   ]
  },
  {
   "cell_type": "code",
   "execution_count": 10,
   "metadata": {},
   "outputs": [],
   "source": [
    "import six\n",
    "import math\n",
    "\n",
    "# https://github.com/kakao-arena/brunch-article-recommendation/blob/master/evaluate.py\n",
    "\n",
    "class evaluate():\n",
    "    def __init__(self, recs, gt, topn=100):\n",
    "        self.recs = recs\n",
    "        self.gt = gt \n",
    "        self.topn = topn \n",
    "        \n",
    "    def _ndcg(self):\n",
    "        Q, S = 0.0, 0.0\n",
    "        for u, seen in six.iteritems(self.gt):\n",
    "            seen = list(set(seen))\n",
    "            rec = self.recs.get(u, [])\n",
    "            if not rec or len(seen) == 0:\n",
    "                continue\n",
    "\n",
    "            dcg = 0.0\n",
    "            idcg = sum([1.0 / math.log(i + 2, 2) for i in range(min(len(seen), len(rec)))])\n",
    "            for i, r in enumerate(rec):\n",
    "                if r not in seen:\n",
    "                    continue\n",
    "                rank = i + 1\n",
    "                dcg += 1.0 / math.log(rank + 1, 2)\n",
    "            ndcg = dcg / idcg\n",
    "            S += ndcg\n",
    "            Q += 1\n",
    "        return S / Q\n",
    "\n",
    "\n",
    "    def _map(self):\n",
    "        n, ap = 0.0, 0.0\n",
    "        for u, seen in six.iteritems(self.gt):\n",
    "            seen = list(set(seen))\n",
    "            rec = self.recs.get(u, [])\n",
    "            if not rec or len(seen) == 0:\n",
    "                continue\n",
    "\n",
    "            _ap, correct = 0.0, 0.0\n",
    "            for i, r in enumerate(rec):\n",
    "                if r in seen:\n",
    "                    correct += 1\n",
    "                    _ap += (correct / (i + 1.0))\n",
    "            _ap /= min(len(seen), len(rec))\n",
    "            ap += _ap\n",
    "            n += 1.0\n",
    "        return ap / n\n",
    "\n",
    "\n",
    "    def _entropy_diversity(self):\n",
    "        sz = float(len(self.recs)) * self.topn\n",
    "        freq = {}\n",
    "        for u, rec in six.iteritems(self.recs):\n",
    "            for r in rec:\n",
    "                freq[r] = freq.get(r, 0) + 1\n",
    "        ent = -sum([v / sz * math.log(v / sz) for v in six.itervalues(freq)])\n",
    "        return ent\n",
    "    \n",
    "    def _evaluate(self):\n",
    "        print('MAP@%s: %s' % (self.topn, self._map()))\n",
    "        print('NDCG@%s: %s' % (self.topn, self._ndcg()))\n",
    "        print('EntDiv@%s: %s' % (self.topn, self._entropy_diversity()))"
   ]
  },
  {
   "cell_type": "code",
   "execution_count": 11,
   "metadata": {},
   "outputs": [
    {
     "name": "stdout",
     "output_type": "stream",
     "text": [
      "MAP@200: 0.00015443987007568514\n",
      "NDCG@200: 0.0017911738188034422\n",
      "EntDiv@200: 5.298317366548021\n"
     ]
    }
   ],
   "source": [
    "evaluate_func = evaluate(recs=total_rec_list, gt = gt, topn=200)\n",
    "evaluate_func._evaluate()"
   ]
  },
  {
   "cell_type": "markdown",
   "metadata": {},
   "source": [
    "## Baseline 응용 \n",
    "- 많이 글은 글중에서도 평점이 높은 글들을 우선적으로 추천 \n",
    "- 내가 좋아하는 작가의 글을 우선적으로 추천 \n",
    "- 장바구니에 담긴 글과 작가의 글을 우선적으로 추천 \n",
    "- 읽은 글의 시리즈글이 나오면 추천 (해리포터 마법사의 돌 -> 비밀의 방)\n",
    "- 최신의 글을 추천"
   ]
  },
  {
   "cell_type": "code",
   "execution_count": 12,
   "metadata": {},
   "outputs": [],
   "source": [
    "train = pd.merge(train, books[['book_id', 'authors', 'ratings_count']], how='left', on='book_id')"
   ]
  },
  {
   "cell_type": "code",
   "execution_count": 30,
   "metadata": {},
   "outputs": [
    {
     "data": {
      "text/html": [
       "<div>\n",
       "<style scoped>\n",
       "    .dataframe tbody tr th:only-of-type {\n",
       "        vertical-align: middle;\n",
       "    }\n",
       "\n",
       "    .dataframe tbody tr th {\n",
       "        vertical-align: top;\n",
       "    }\n",
       "\n",
       "    .dataframe thead th {\n",
       "        text-align: right;\n",
       "    }\n",
       "</style>\n",
       "<table border=\"1\" class=\"dataframe\">\n",
       "  <thead>\n",
       "    <tr style=\"text-align: right;\">\n",
       "      <th></th>\n",
       "      <th>user_id</th>\n",
       "      <th>authors</th>\n",
       "      <th>count</th>\n",
       "    </tr>\n",
       "  </thead>\n",
       "  <tbody>\n",
       "    <tr>\n",
       "      <th>19036</th>\n",
       "      <td>30944</td>\n",
       "      <td>Bill Bryson</td>\n",
       "      <td>7</td>\n",
       "    </tr>\n",
       "    <tr>\n",
       "      <th>8420</th>\n",
       "      <td>13544</td>\n",
       "      <td>Bill Bryson</td>\n",
       "      <td>6</td>\n",
       "    </tr>\n",
       "    <tr>\n",
       "      <th>26719</th>\n",
       "      <td>45269</td>\n",
       "      <td>Bill Bryson</td>\n",
       "      <td>6</td>\n",
       "    </tr>\n",
       "    <tr>\n",
       "      <th>12906</th>\n",
       "      <td>20845</td>\n",
       "      <td>Thomas Pynchon</td>\n",
       "      <td>6</td>\n",
       "    </tr>\n",
       "    <tr>\n",
       "      <th>8233</th>\n",
       "      <td>13282</td>\n",
       "      <td>Bill Bryson</td>\n",
       "      <td>6</td>\n",
       "    </tr>\n",
       "  </tbody>\n",
       "</table>\n",
       "</div>"
      ],
      "text/plain": [
       "       user_id         authors  count\n",
       "19036    30944     Bill Bryson      7\n",
       "8420     13544     Bill Bryson      6\n",
       "26719    45269     Bill Bryson      6\n",
       "12906    20845  Thomas Pynchon      6\n",
       "8233     13282     Bill Bryson      6"
      ]
     },
     "execution_count": 30,
     "metadata": {},
     "output_type": "execute_result"
    }
   ],
   "source": [
    "agg = train.groupby(['user_id','authors'])['authors'].agg({'count'}).reset_index()\n",
    "agg = agg.sort_values(by='count', ascending=False)\n",
    "agg.head()"
   ]
  },
  {
   "cell_type": "code",
   "execution_count": 48,
   "metadata": {},
   "outputs": [
    {
     "data": {
      "text/html": [
       "<div>\n",
       "<style scoped>\n",
       "    .dataframe tbody tr th:only-of-type {\n",
       "        vertical-align: middle;\n",
       "    }\n",
       "\n",
       "    .dataframe tbody tr th {\n",
       "        vertical-align: top;\n",
       "    }\n",
       "\n",
       "    .dataframe thead th {\n",
       "        text-align: right;\n",
       "    }\n",
       "</style>\n",
       "<table border=\"1\" class=\"dataframe\">\n",
       "  <thead>\n",
       "    <tr style=\"text-align: right;\">\n",
       "      <th></th>\n",
       "      <th>book_id</th>\n",
       "      <th>authors</th>\n",
       "    </tr>\n",
       "  </thead>\n",
       "  <tbody>\n",
       "    <tr>\n",
       "      <th>0</th>\n",
       "      <td>101911</td>\n",
       "      <td>A. Manette Ansay</td>\n",
       "    </tr>\n",
       "    <tr>\n",
       "      <th>1</th>\n",
       "      <td>16081754</td>\n",
       "      <td>A. Meredith Walters</td>\n",
       "    </tr>\n",
       "    <tr>\n",
       "      <th>2</th>\n",
       "      <td>16102880</td>\n",
       "      <td>A. Meredith Walters</td>\n",
       "    </tr>\n",
       "    <tr>\n",
       "      <th>3</th>\n",
       "      <td>99107</td>\n",
       "      <td>A.A. Milne, Ernest H. Shepard</td>\n",
       "    </tr>\n",
       "    <tr>\n",
       "      <th>4</th>\n",
       "      <td>776407</td>\n",
       "      <td>A.A. Milne, Ernest H. Shepard</td>\n",
       "    </tr>\n",
       "  </tbody>\n",
       "</table>\n",
       "</div>"
      ],
      "text/plain": [
       "    book_id                        authors\n",
       "0    101911               A. Manette Ansay\n",
       "1  16081754            A. Meredith Walters\n",
       "2  16102880            A. Meredith Walters\n",
       "3     99107  A.A. Milne, Ernest H. Shepard\n",
       "4    776407  A.A. Milne, Ernest H. Shepard"
      ]
     },
     "execution_count": 48,
     "metadata": {},
     "output_type": "execute_result"
    }
   ],
   "source": [
    "author_books = books[['book_id', 'authors', 'ratings_count']].sort_values(by=['authors', 'ratings_count'], ascending=[True, False])\n",
    "author_books = author_books.reset_index(drop=True)\n",
    "\n",
    "del author_books['ratings_count']\n",
    "author_books.head()"
   ]
  },
  {
   "cell_type": "code",
   "execution_count": 49,
   "metadata": {},
   "outputs": [],
   "source": [
    "author_rec_model = agg.merge(author_books, how='left', on=['authors', 'book_id'])"
   ]
  },
  {
   "cell_type": "code",
   "execution_count": 50,
   "metadata": {},
   "outputs": [
    {
     "data": {
      "text/html": [
       "<div>\n",
       "<style scoped>\n",
       "    .dataframe tbody tr th:only-of-type {\n",
       "        vertical-align: middle;\n",
       "    }\n",
       "\n",
       "    .dataframe tbody tr th {\n",
       "        vertical-align: top;\n",
       "    }\n",
       "\n",
       "    .dataframe thead th {\n",
       "        text-align: right;\n",
       "    }\n",
       "</style>\n",
       "<table border=\"1\" class=\"dataframe\">\n",
       "  <thead>\n",
       "    <tr style=\"text-align: right;\">\n",
       "      <th></th>\n",
       "      <th>user_id</th>\n",
       "      <th>authors</th>\n",
       "      <th>count</th>\n",
       "      <th>book_id</th>\n",
       "      <th>ratings_count</th>\n",
       "    </tr>\n",
       "  </thead>\n",
       "  <tbody>\n",
       "    <tr>\n",
       "      <th>0</th>\n",
       "      <td>30944</td>\n",
       "      <td>Bill Bryson</td>\n",
       "      <td>7</td>\n",
       "      <td>9791</td>\n",
       "      <td>250192</td>\n",
       "    </tr>\n",
       "    <tr>\n",
       "      <th>1</th>\n",
       "      <td>30944</td>\n",
       "      <td>Bill Bryson</td>\n",
       "      <td>7</td>\n",
       "      <td>21</td>\n",
       "      <td>191535</td>\n",
       "    </tr>\n",
       "    <tr>\n",
       "      <th>2</th>\n",
       "      <td>30944</td>\n",
       "      <td>Bill Bryson</td>\n",
       "      <td>7</td>\n",
       "      <td>28</td>\n",
       "      <td>66947</td>\n",
       "    </tr>\n",
       "    <tr>\n",
       "      <th>3</th>\n",
       "      <td>30944</td>\n",
       "      <td>Bill Bryson</td>\n",
       "      <td>7</td>\n",
       "      <td>24</td>\n",
       "      <td>58688</td>\n",
       "    </tr>\n",
       "    <tr>\n",
       "      <th>4</th>\n",
       "      <td>30944</td>\n",
       "      <td>Bill Bryson</td>\n",
       "      <td>7</td>\n",
       "      <td>7507825</td>\n",
       "      <td>55296</td>\n",
       "    </tr>\n",
       "  </tbody>\n",
       "</table>\n",
       "</div>"
      ],
      "text/plain": [
       "   user_id      authors  count  book_id  ratings_count\n",
       "0    30944  Bill Bryson      7     9791         250192\n",
       "1    30944  Bill Bryson      7       21         191535\n",
       "2    30944  Bill Bryson      7       28          66947\n",
       "3    30944  Bill Bryson      7       24          58688\n",
       "4    30944  Bill Bryson      7  7507825          55296"
      ]
     },
     "execution_count": 50,
     "metadata": {},
     "output_type": "execute_result"
    }
   ],
   "source": [
    "author_rec_model.head()"
   ]
  },
  {
   "cell_type": "code",
   "execution_count": 52,
   "metadata": {},
   "outputs": [
    {
     "data": {
      "text/plain": [
       "array(['9791', '21', '28', '24', '7507825', '25', '10538', '27', '26',\n",
       "       '17262366', '135611', '29', '25489012', '10541', '50', '141372',\n",
       "       '2915', '350', '17214', '16690', '353', '7171856', '17208',\n",
       "       '20417', '16685', '348', '175319', '175324', '355', '125963',\n",
       "       '125956', '125955', '456028', '4789801', '2142', '456057',\n",
       "       '125959', '125958', '1866046', '1431', '1430', '1427', '16054811',\n",
       "       '1715', '122'], dtype=object)"
      ]
     },
     "execution_count": 52,
     "metadata": {},
     "output_type": "execute_result"
    }
   ],
   "source": [
    "author_rec_model[author_rec_model['user_id'] == 30944]['book_id'].values"
   ]
  },
  {
   "cell_type": "code",
   "execution_count": 54,
   "metadata": {},
   "outputs": [
    {
     "data": {
      "application/vnd.jupyter.widget-view+json": {
       "model_id": "dcb93d98292d40619c0a0665b3fc96ee",
       "version_major": 2,
       "version_minor": 0
      },
      "text/plain": [
       "HBox(children=(FloatProgress(value=0.0, max=53382.0), HTML(value='')))"
      ]
     },
     "metadata": {},
     "output_type": "display_data"
    },
    {
     "name": "stdout",
     "output_type": "stream",
     "text": [
      "\n"
     ]
    }
   ],
   "source": [
    "total_rec_list = {}\n",
    "for user in tqdm(rec_df['user_id'].unique()):\n",
    "    rec_list = []\n",
    "    author_rec_model_ = author_rec_model[author_rec_model['user_id'] == user]['book_id'].values\n",
    "    for rec in author_rec_model_: \n",
    "        rec_list.append(rec)\n",
    "    \n",
    "    if len(rec_list) < 200:\n",
    "        for i in popular_rec_model[0:200]:\n",
    "            rec_list.append(rec)\n",
    "        \n",
    "    total_rec_list[user] = rec_list[0:200]"
   ]
  },
  {
   "cell_type": "code",
   "execution_count": 55,
   "metadata": {},
   "outputs": [
    {
     "name": "stdout",
     "output_type": "stream",
     "text": [
      "MAP@200: 0.010888309165191986\n",
      "NDCG@200: 0.004074971802873805\n",
      "EntDiv@200: 5.844823927882108\n"
     ]
    }
   ],
   "source": [
    "evaluate_func = evaluate(recs=total_rec_list, gt = gt, topn=200)\n",
    "evaluate_func._evaluate()"
   ]
  },
  {
   "cell_type": "markdown",
   "metadata": {},
   "source": [
    "## 후처리\n",
    "- 내가 읽은 책은 추천해주면 안됨 \n",
    "- 내가 읽은 언어와 맞는 책을 추천해줘야함 "
   ]
  },
  {
   "cell_type": "code",
   "execution_count": 56,
   "metadata": {},
   "outputs": [
    {
     "data": {
      "text/html": [
       "<div>\n",
       "<style scoped>\n",
       "    .dataframe tbody tr th:only-of-type {\n",
       "        vertical-align: middle;\n",
       "    }\n",
       "\n",
       "    .dataframe tbody tr th {\n",
       "        vertical-align: top;\n",
       "    }\n",
       "\n",
       "    .dataframe thead th {\n",
       "        text-align: right;\n",
       "    }\n",
       "</style>\n",
       "<table border=\"1\" class=\"dataframe\">\n",
       "  <thead>\n",
       "    <tr style=\"text-align: right;\">\n",
       "      <th></th>\n",
       "      <th>user_id</th>\n",
       "      <th>unique</th>\n",
       "    </tr>\n",
       "  </thead>\n",
       "  <tbody>\n",
       "    <tr>\n",
       "      <th>0</th>\n",
       "      <td>1</td>\n",
       "      <td>[4893]</td>\n",
       "    </tr>\n",
       "    <tr>\n",
       "      <th>1</th>\n",
       "      <td>2</td>\n",
       "      <td>[8855]</td>\n",
       "    </tr>\n",
       "    <tr>\n",
       "      <th>2</th>\n",
       "      <td>3</td>\n",
       "      <td>[9049]</td>\n",
       "    </tr>\n",
       "    <tr>\n",
       "      <th>3</th>\n",
       "      <td>4</td>\n",
       "      <td>[3273]</td>\n",
       "    </tr>\n",
       "    <tr>\n",
       "      <th>4</th>\n",
       "      <td>5</td>\n",
       "      <td>[4829, 6703]</td>\n",
       "    </tr>\n",
       "  </tbody>\n",
       "</table>\n",
       "</div>"
      ],
      "text/plain": [
       "   user_id        unique\n",
       "0        1        [4893]\n",
       "1        2        [8855]\n",
       "2        3        [9049]\n",
       "3        4        [3273]\n",
       "4        5  [4829, 6703]"
      ]
     },
     "execution_count": 56,
     "metadata": {},
     "output_type": "execute_result"
    }
   ],
   "source": [
    "# 내가 읽은 책의 목록을 추출 \n",
    "read_list = train.groupby(['user_id'])['book_id'].agg({'unique'}).reset_index()\n",
    "read_list.head()"
   ]
  },
  {
   "cell_type": "code",
   "execution_count": 66,
   "metadata": {},
   "outputs": [
    {
     "data": {
      "application/vnd.jupyter.widget-view+json": {
       "model_id": "7acbb83f9d644801b30d4ac9300d4bac",
       "version_major": 2,
       "version_minor": 0
      },
      "text/plain": [
       "HBox(children=(FloatProgress(value=0.0, max=53382.0), HTML(value='')))"
      ]
     },
     "metadata": {},
     "output_type": "display_data"
    },
    {
     "name": "stdout",
     "output_type": "stream",
     "text": [
      "\n"
     ]
    }
   ],
   "source": [
    "total_rec_list = {}\n",
    "for user in tqdm(rec_df['user_id'].unique()):\n",
    "    rec_list = []\n",
    "    author_rec_model_ = author_rec_model[author_rec_model['user_id'] == user]['book_id'].values\n",
    "    seen = read_list[read_list['user_id'] == user]['unique'].values[0]\n",
    "    for rec in author_rec_model_: \n",
    "        if rec not in seen:\n",
    "            rec_list.append(rec)\n",
    "    \n",
    "    if len(rec_list) < 200:\n",
    "        for i in popular_rec_model[0:200]:\n",
    "            if rec not in seen:\n",
    "                rec_list.append(rec)\n",
    "\n",
    "    total_rec_list[user] = rec_list[0:200]"
   ]
  },
  {
   "cell_type": "raw",
   "metadata": {},
   "source": [
    "MAP@200: 0.010888309165191986\n",
    "NDCG@200: 0.004074971802873805\n",
    "EntDiv@200: 5.844823927882108"
   ]
  },
  {
   "cell_type": "code",
   "execution_count": 67,
   "metadata": {},
   "outputs": [
    {
     "name": "stdout",
     "output_type": "stream",
     "text": [
      "MAP@200: 0.011817742695221473\n",
      "NDCG@200: 0.004577031690605801\n",
      "EntDiv@200: 5.097773423502677\n"
     ]
    }
   ],
   "source": [
    "evaluate_func = evaluate(recs=total_rec_list, gt = gt, topn=200)\n",
    "evaluate_func._evaluate()"
   ]
  },
  {
   "cell_type": "code",
   "execution_count": null,
   "metadata": {},
   "outputs": [],
   "source": [
    "# 내가 읽을 수 있는 언어의 목록을 추출 \n",
    "## User에 대한 메타정보가 있으면 쉽게 추출가능하지만, 현재는 없으므로 직접 생성 \n",
    "## Ratings에서 읽은 책들의 언어를 전부 수집해서 해당 언어의 책들을 가능한 언어로 설정 \n",
    "language = pd.merge(train, books[['book_id', 'language_code']], how='left', on='book_id')"
   ]
  },
  {
   "cell_type": "code",
   "execution_count": null,
   "metadata": {},
   "outputs": [],
   "source": [
    "language_list = language.groupby(['user_id'])['language_code'].agg({'unique'}).reset_index()\n",
    "language_list.head()"
   ]
  }
 ],
 "metadata": {
  "kernelspec": {
   "display_name": "Python 3",
   "language": "python",
   "name": "python3"
  },
  "language_info": {
   "codemirror_mode": {
    "name": "ipython",
    "version": 3
   },
   "file_extension": ".py",
   "mimetype": "text/x-python",
   "name": "python",
   "nbconvert_exporter": "python",
   "pygments_lexer": "ipython3",
   "version": "3.8.3"
  }
 },
 "nbformat": 4,
 "nbformat_minor": 4
}
