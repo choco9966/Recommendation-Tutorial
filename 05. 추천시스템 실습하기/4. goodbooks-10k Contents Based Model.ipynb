{
 "cells": [
  {
   "cell_type": "markdown",
   "metadata": {
    "papermill": {
     "duration": 0.030258,
     "end_time": "2020-12-22T05:51:28.624422",
     "exception": false,
     "start_time": "2020-12-22T05:51:28.594164",
     "status": "completed"
    },
    "tags": []
   },
   "source": [
    "# 1. Goodbooks-10k \n",
    "- Link : https://www.kaggle.com/zygmunt/goodbooks-10k"
   ]
  },
  {
   "cell_type": "code",
   "execution_count": 1,
   "metadata": {
    "execution": {
     "iopub.execute_input": "2020-12-22T05:51:28.684541Z",
     "iopub.status.busy": "2020-12-22T05:51:28.683898Z",
     "iopub.status.idle": "2020-12-22T05:51:31.664023Z",
     "shell.execute_reply": "2020-12-22T05:51:31.664565Z"
    },
    "papermill": {
     "duration": 3.011506,
     "end_time": "2020-12-22T05:51:31.664744",
     "exception": false,
     "start_time": "2020-12-22T05:51:28.653238",
     "status": "completed"
    },
    "tags": []
   },
   "outputs": [],
   "source": [
    "import pandas as pd\n",
    "import numpy as np\n",
    "import plotnine \n",
    "from plotnine import *\n",
    "import os, sys, gc\n",
    "from tqdm.notebook import tqdm\n",
    "import warnings \n",
    "warnings.filterwarnings('ignore')"
   ]
  },
  {
   "cell_type": "code",
   "execution_count": 2,
   "metadata": {
    "execution": {
     "iopub.execute_input": "2020-12-22T05:51:31.728421Z",
     "iopub.status.busy": "2020-12-22T05:51:31.727832Z",
     "iopub.status.idle": "2020-12-22T05:51:31.742437Z",
     "shell.execute_reply": "2020-12-22T05:51:31.742973Z"
    },
    "papermill": {
     "duration": 0.047069,
     "end_time": "2020-12-22T05:51:31.743101",
     "exception": false,
     "start_time": "2020-12-22T05:51:31.696032",
     "status": "completed"
    },
    "tags": []
   },
   "outputs": [
    {
     "name": "stdout",
     "output_type": "stream",
     "text": [
      "['book_tags.csv', 'ratings.csv', 'books.csv', 'sample_book.xml', 'to_read.csv', 'train.csv', 'test.csv', 'tags.csv']\n"
     ]
    }
   ],
   "source": [
    "path = './input/books/'\n",
    "print(os.listdir(path))"
   ]
  },
  {
   "cell_type": "code",
   "execution_count": 3,
   "metadata": {
    "execution": {
     "iopub.execute_input": "2020-12-22T05:51:31.812529Z",
     "iopub.status.busy": "2020-12-22T05:51:31.811803Z",
     "iopub.status.idle": "2020-12-22T05:51:33.239283Z",
     "shell.execute_reply": "2020-12-22T05:51:33.238668Z"
    },
    "papermill": {
     "duration": 1.465826,
     "end_time": "2020-12-22T05:51:33.239389",
     "exception": false,
     "start_time": "2020-12-22T05:51:31.773563",
     "status": "completed"
    },
    "tags": []
   },
   "outputs": [],
   "source": [
    "books = pd.read_csv(path + \"books.csv\")\n",
    "book_tags = pd.read_csv(path + \"book_tags.csv\")\n",
    "train = pd.read_csv(path + \"train.csv\")\n",
    "test = pd.read_csv(path + \"test.csv\")\n",
    "tags = pd.read_csv(path + \"tags.csv\")\n",
    "to_read = pd.read_csv(path + \"to_read.csv\")"
   ]
  },
  {
   "cell_type": "code",
   "execution_count": 4,
   "metadata": {
    "execution": {
     "iopub.execute_input": "2020-12-22T05:51:33.308806Z",
     "iopub.status.busy": "2020-12-22T05:51:33.308100Z",
     "iopub.status.idle": "2020-12-22T05:51:34.797849Z",
     "shell.execute_reply": "2020-12-22T05:51:34.798344Z"
    },
    "papermill": {
     "duration": 1.529576,
     "end_time": "2020-12-22T05:51:34.798496",
     "exception": false,
     "start_time": "2020-12-22T05:51:33.268920",
     "status": "completed"
    },
    "tags": []
   },
   "outputs": [],
   "source": [
    "train['book_id'] = train['book_id'].astype(str)\n",
    "test['book_id'] = test['book_id'].astype(str)\n",
    "books['book_id'] = books['book_id'].astype(str)"
   ]
  },
  {
   "cell_type": "code",
   "execution_count": 5,
   "metadata": {
    "execution": {
     "iopub.execute_input": "2020-12-22T05:51:34.865069Z",
     "iopub.status.busy": "2020-12-22T05:51:34.864384Z",
     "iopub.status.idle": "2020-12-22T05:51:34.875745Z",
     "shell.execute_reply": "2020-12-22T05:51:34.875205Z"
    },
    "papermill": {
     "duration": 0.046712,
     "end_time": "2020-12-22T05:51:34.875860",
     "exception": false,
     "start_time": "2020-12-22T05:51:34.829148",
     "status": "completed"
    },
    "tags": []
   },
   "outputs": [],
   "source": [
    "popular_rec_model = books.sort_values(by='books_count', ascending=False)['book_id'].values[0:500]"
   ]
  },
  {
   "cell_type": "code",
   "execution_count": 6,
   "metadata": {
    "execution": {
     "iopub.execute_input": "2020-12-22T05:51:34.944342Z",
     "iopub.status.busy": "2020-12-22T05:51:34.943624Z",
     "iopub.status.idle": "2020-12-22T05:52:24.694100Z",
     "shell.execute_reply": "2020-12-22T05:52:24.693441Z"
    },
    "papermill": {
     "duration": 49.78736,
     "end_time": "2020-12-22T05:52:24.694230",
     "exception": false,
     "start_time": "2020-12-22T05:51:34.906870",
     "status": "completed"
    },
    "tags": []
   },
   "outputs": [
    {
     "data": {
      "application/vnd.jupyter.widget-view+json": {
       "model_id": "a773f8ccc5494b67b9d694218b97834d",
       "version_major": 2,
       "version_minor": 0
      },
      "text/plain": [
       "HBox(children=(FloatProgress(value=0.0, max=53424.0), HTML(value='')))"
      ]
     },
     "metadata": {},
     "output_type": "display_data"
    },
    {
     "name": "stdout",
     "output_type": "stream",
     "text": [
      "\n"
     ]
    }
   ],
   "source": [
    "sol = test.groupby(['user_id'])['book_id'].agg({'unique'}).reset_index()\n",
    "gt = {}\n",
    "for user in tqdm(sol['user_id'].unique()): \n",
    "    gt[user] = list(sol[sol['user_id'] == user]['unique'].values[0])"
   ]
  },
  {
   "cell_type": "code",
   "execution_count": 7,
   "metadata": {
    "execution": {
     "iopub.execute_input": "2020-12-22T05:52:24.764592Z",
     "iopub.status.busy": "2020-12-22T05:52:24.763610Z",
     "iopub.status.idle": "2020-12-22T05:52:24.779964Z",
     "shell.execute_reply": "2020-12-22T05:52:24.779384Z"
    },
    "papermill": {
     "duration": 0.053751,
     "end_time": "2020-12-22T05:52:24.780072",
     "exception": false,
     "start_time": "2020-12-22T05:52:24.726321",
     "status": "completed"
    },
    "tags": []
   },
   "outputs": [],
   "source": [
    "rec_df = pd.DataFrame()\n",
    "rec_df['user_id'] = train['user_id'].unique()"
   ]
  },
  {
   "cell_type": "markdown",
   "metadata": {
    "papermill": {
     "duration": 0.031089,
     "end_time": "2020-12-22T05:52:24.842292",
     "exception": false,
     "start_time": "2020-12-22T05:52:24.811203",
     "status": "completed"
    },
    "tags": []
   },
   "source": [
    "## TF-IDF를 이용한 Contents Based Model "
   ]
  },
  {
   "cell_type": "code",
   "execution_count": 8,
   "metadata": {
    "execution": {
     "iopub.execute_input": "2020-12-22T05:52:24.909944Z",
     "iopub.status.busy": "2020-12-22T05:52:24.909328Z",
     "iopub.status.idle": "2020-12-22T05:52:25.071633Z",
     "shell.execute_reply": "2020-12-22T05:52:25.070971Z"
    },
    "papermill": {
     "duration": 0.198754,
     "end_time": "2020-12-22T05:52:25.071751",
     "exception": false,
     "start_time": "2020-12-22T05:52:24.872997",
     "status": "completed"
    },
    "tags": []
   },
   "outputs": [
    {
     "name": "stdout",
     "output_type": "stream",
     "text": [
      "(10000, 9019)\n"
     ]
    }
   ],
   "source": [
    "from sklearn.feature_extraction.text import TfidfVectorizer\n",
    "\n",
    "tfidf = TfidfVectorizer(stop_words='english')\n",
    "tfidf_matrix = tfidf.fit_transform(books['title'])\n",
    "print(tfidf_matrix.shape)"
   ]
  },
  {
   "cell_type": "code",
   "execution_count": 9,
   "metadata": {
    "execution": {
     "iopub.execute_input": "2020-12-22T05:52:25.141730Z",
     "iopub.status.busy": "2020-12-22T05:52:25.141095Z",
     "iopub.status.idle": "2020-12-22T05:52:25.860618Z",
     "shell.execute_reply": "2020-12-22T05:52:25.860084Z"
    },
    "papermill": {
     "duration": 0.756386,
     "end_time": "2020-12-22T05:52:25.860736",
     "exception": false,
     "start_time": "2020-12-22T05:52:25.104350",
     "status": "completed"
    },
    "tags": []
   },
   "outputs": [
    {
     "data": {
      "text/plain": [
       "(10000, 10000)"
      ]
     },
     "execution_count": 9,
     "metadata": {},
     "output_type": "execute_result"
    }
   ],
   "source": [
    "from sklearn.metrics.pairwise import cosine_similarity\n",
    "cosine_matrix = cosine_similarity(tfidf_matrix, tfidf_matrix)\n",
    "cosine_matrix.shape"
   ]
  },
  {
   "cell_type": "code",
   "execution_count": 10,
   "metadata": {
    "execution": {
     "iopub.execute_input": "2020-12-22T05:52:25.944609Z",
     "iopub.status.busy": "2020-12-22T05:52:25.940263Z",
     "iopub.status.idle": "2020-12-22T05:52:25.946817Z",
     "shell.execute_reply": "2020-12-22T05:52:25.947297Z"
    },
    "papermill": {
     "duration": 0.053632,
     "end_time": "2020-12-22T05:52:25.947417",
     "exception": false,
     "start_time": "2020-12-22T05:52:25.893785",
     "status": "completed"
    },
    "tags": []
   },
   "outputs": [],
   "source": [
    "# book title와 id를 매핑할 dictionary를 생성해줍니다. \n",
    "book2id = {}\n",
    "for i, c in enumerate(books['title']): book2id[i] = c\n",
    "\n",
    "# id와 book title를 매핑할 dictionary를 생성해줍니다. \n",
    "id2book = {}\n",
    "for i, c in book2id.items(): id2book[c] = i\n",
    "    \n",
    "# book_id와 title를 매핑할 dictionary를 생성해줍니다.\n",
    "bookid2book = {}\n",
    "for i, j in zip(books['title'].values, books['book_id'].values):\n",
    "    bookid2book[i] = j"
   ]
  },
  {
   "cell_type": "code",
   "execution_count": 11,
   "metadata": {
    "execution": {
     "iopub.execute_input": "2020-12-22T05:52:26.016327Z",
     "iopub.status.busy": "2020-12-22T05:52:26.015386Z",
     "iopub.status.idle": "2020-12-22T05:52:26.022324Z",
     "shell.execute_reply": "2020-12-22T05:52:26.022756Z"
    },
    "papermill": {
     "duration": 0.04288,
     "end_time": "2020-12-22T05:52:26.022894",
     "exception": false,
     "start_time": "2020-12-22T05:52:25.980014",
     "status": "completed"
    },
    "tags": []
   },
   "outputs": [
    {
     "data": {
      "text/plain": [
       "0              The Hunger Games (The Hunger Games, #1)\n",
       "1    Harry Potter and the Sorcerer's Stone (Harry P...\n",
       "2                              Twilight (Twilight, #1)\n",
       "3                                To Kill a Mockingbird\n",
       "4                                     The Great Gatsby\n",
       "Name: title, dtype: object"
      ]
     },
     "execution_count": 11,
     "metadata": {},
     "output_type": "execute_result"
    }
   ],
   "source": [
    "books['title'].head()"
   ]
  },
  {
   "cell_type": "code",
   "execution_count": 12,
   "metadata": {
    "execution": {
     "iopub.execute_input": "2020-12-22T05:52:26.094157Z",
     "iopub.status.busy": "2020-12-22T05:52:26.093190Z",
     "iopub.status.idle": "2020-12-22T05:52:26.108030Z",
     "shell.execute_reply": "2020-12-22T05:52:26.108499Z"
    },
    "papermill": {
     "duration": 0.052064,
     "end_time": "2020-12-22T05:52:26.108624",
     "exception": false,
     "start_time": "2020-12-22T05:52:26.056560",
     "status": "completed"
    },
    "tags": []
   },
   "outputs": [
    {
     "data": {
      "text/plain": [
       "[('The Twilight Saga (Twilight, #1-4)', 0.920347418277986),\n",
       " ('The Twilight Collection (Twilight, #1-3)', 0.8786339079447184),\n",
       " ('The Twilight Saga Complete Collection  (Twilight, #1-4 + 3.5)',\n",
       "  0.7697532056304309),\n",
       " ('Twilight and History', 0.7465001575650626),\n",
       " ('The Twilight Saga: The Official Illustrated Guide (Twilight, #4.5)',\n",
       "  0.7045174300631831),\n",
       " ('Twilight Eyes', 0.6770737331426326),\n",
       " ('Twilight (The Mediator, #6)', 0.6377631333498953),\n",
       " ('New Moon (Twilight, #2)', 0.6185575138625542),\n",
       " ('Eclipse (Twilight, #3)', 0.612819563854136),\n",
       " ('The Servants of Twilight', 0.5837817298466093)]"
      ]
     },
     "execution_count": 12,
     "metadata": {},
     "output_type": "execute_result"
    }
   ],
   "source": [
    "idx = id2book['Twilight (Twilight, #1)']  \n",
    "sim_scores = [(book2id[i], c) for i, c in enumerate(cosine_matrix[idx]) if i != idx] \n",
    "sim_scores = sorted(sim_scores, key = lambda x: x[1], reverse=True)\n",
    "sim_scores[0:10] "
   ]
  },
  {
   "cell_type": "markdown",
   "metadata": {
    "papermill": {
     "duration": 0.033445,
     "end_time": "2020-12-22T05:52:26.175877",
     "exception": false,
     "start_time": "2020-12-22T05:52:26.142432",
     "status": "completed"
    },
    "tags": []
   },
   "source": [
    "0. 학습셋에서 제목이 있는 경우에 대해서만 진행\n",
    "1. 각 유저별로 읽은 책의 목록을 수집 \n",
    "2. 읽은 책과 유사한 책 추출 \n",
    "3. 모든 책에 대해서 유사도를 더한 값을 계산 \n",
    "4. 3에서 유사도가 가장 높은 순서대로 추출 "
   ]
  },
  {
   "cell_type": "code",
   "execution_count": 13,
   "metadata": {
    "execution": {
     "iopub.execute_input": "2020-12-22T05:52:26.263750Z",
     "iopub.status.busy": "2020-12-22T05:52:26.262837Z",
     "iopub.status.idle": "2020-12-22T05:52:26.422320Z",
     "shell.execute_reply": "2020-12-22T05:52:26.422802Z"
    },
    "papermill": {
     "duration": 0.209594,
     "end_time": "2020-12-22T05:52:26.422936",
     "exception": false,
     "start_time": "2020-12-22T05:52:26.213342",
     "status": "completed"
    },
    "tags": []
   },
   "outputs": [
    {
     "data": {
      "text/html": [
       "<div>\n",
       "<style scoped>\n",
       "    .dataframe tbody tr th:only-of-type {\n",
       "        vertical-align: middle;\n",
       "    }\n",
       "\n",
       "    .dataframe tbody tr th {\n",
       "        vertical-align: top;\n",
       "    }\n",
       "\n",
       "    .dataframe thead th {\n",
       "        text-align: right;\n",
       "    }\n",
       "</style>\n",
       "<table border=\"1\" class=\"dataframe\">\n",
       "  <thead>\n",
       "    <tr style=\"text-align: right;\">\n",
       "      <th></th>\n",
       "      <th>user_id</th>\n",
       "      <th>book_id</th>\n",
       "      <th>title</th>\n",
       "    </tr>\n",
       "  </thead>\n",
       "  <tbody>\n",
       "    <tr>\n",
       "      <th>0</th>\n",
       "      <td>1</td>\n",
       "      <td>4893</td>\n",
       "      <td>NaN</td>\n",
       "    </tr>\n",
       "    <tr>\n",
       "      <th>1</th>\n",
       "      <td>2</td>\n",
       "      <td>8855</td>\n",
       "      <td>NaN</td>\n",
       "    </tr>\n",
       "    <tr>\n",
       "      <th>2</th>\n",
       "      <td>3</td>\n",
       "      <td>9049</td>\n",
       "      <td>NaN</td>\n",
       "    </tr>\n",
       "    <tr>\n",
       "      <th>3</th>\n",
       "      <td>4</td>\n",
       "      <td>3273</td>\n",
       "      <td>Moloka'i</td>\n",
       "    </tr>\n",
       "    <tr>\n",
       "      <th>4</th>\n",
       "      <td>5</td>\n",
       "      <td>4829</td>\n",
       "      <td>NaN</td>\n",
       "    </tr>\n",
       "  </tbody>\n",
       "</table>\n",
       "</div>"
      ],
      "text/plain": [
       "   user_id book_id     title\n",
       "0        1    4893       NaN\n",
       "1        2    8855       NaN\n",
       "2        3    9049       NaN\n",
       "3        4    3273  Moloka'i\n",
       "4        5    4829       NaN"
      ]
     },
     "execution_count": 13,
     "metadata": {},
     "output_type": "execute_result"
    }
   ],
   "source": [
    "train = pd.merge(train, books[['book_id', 'title']], how='left', on='book_id')\n",
    "train.head()"
   ]
  },
  {
   "cell_type": "code",
   "execution_count": 14,
   "metadata": {
    "execution": {
     "iopub.execute_input": "2020-12-22T05:52:26.494904Z",
     "iopub.status.busy": "2020-12-22T05:52:26.493981Z",
     "iopub.status.idle": "2020-12-22T05:52:26.589144Z",
     "shell.execute_reply": "2020-12-22T05:52:26.588552Z"
    },
    "papermill": {
     "duration": 0.132222,
     "end_time": "2020-12-22T05:52:26.589255",
     "exception": false,
     "start_time": "2020-12-22T05:52:26.457033",
     "status": "completed"
    },
    "tags": []
   },
   "outputs": [
    {
     "data": {
      "text/html": [
       "<div>\n",
       "<style scoped>\n",
       "    .dataframe tbody tr th:only-of-type {\n",
       "        vertical-align: middle;\n",
       "    }\n",
       "\n",
       "    .dataframe tbody tr th {\n",
       "        vertical-align: top;\n",
       "    }\n",
       "\n",
       "    .dataframe thead th {\n",
       "        text-align: right;\n",
       "    }\n",
       "</style>\n",
       "<table border=\"1\" class=\"dataframe\">\n",
       "  <thead>\n",
       "    <tr style=\"text-align: right;\">\n",
       "      <th></th>\n",
       "      <th>user_id</th>\n",
       "      <th>book_id</th>\n",
       "      <th>title</th>\n",
       "      <th>idx2title</th>\n",
       "    </tr>\n",
       "  </thead>\n",
       "  <tbody>\n",
       "    <tr>\n",
       "      <th>0</th>\n",
       "      <td>4</td>\n",
       "      <td>3273</td>\n",
       "      <td>Moloka'i</td>\n",
       "      <td>1215</td>\n",
       "    </tr>\n",
       "    <tr>\n",
       "      <th>1</th>\n",
       "      <td>7</td>\n",
       "      <td>4138</td>\n",
       "      <td>Naked</td>\n",
       "      <td>343</td>\n",
       "    </tr>\n",
       "    <tr>\n",
       "      <th>2</th>\n",
       "      <td>7</td>\n",
       "      <td>4588</td>\n",
       "      <td>Extremely Loud and Incredibly Close</td>\n",
       "      <td>248</td>\n",
       "    </tr>\n",
       "    <tr>\n",
       "      <th>3</th>\n",
       "      <td>9</td>\n",
       "      <td>8676</td>\n",
       "      <td>Unlimited Power : The New Science Of Personal ...</td>\n",
       "      <td>4701</td>\n",
       "    </tr>\n",
       "    <tr>\n",
       "      <th>4</th>\n",
       "      <td>10</td>\n",
       "      <td>5907</td>\n",
       "      <td>The Hobbit</td>\n",
       "      <td>6</td>\n",
       "    </tr>\n",
       "  </tbody>\n",
       "</table>\n",
       "</div>"
      ],
      "text/plain": [
       "   user_id book_id                                              title  \\\n",
       "0        4    3273                                           Moloka'i   \n",
       "1        7    4138                                              Naked   \n",
       "2        7    4588                Extremely Loud and Incredibly Close   \n",
       "3        9    8676  Unlimited Power : The New Science Of Personal ...   \n",
       "4       10    5907                                         The Hobbit   \n",
       "\n",
       "   idx2title  \n",
       "0       1215  \n",
       "1        343  \n",
       "2        248  \n",
       "3       4701  \n",
       "4          6  "
      ]
     },
     "execution_count": 14,
     "metadata": {},
     "output_type": "execute_result"
    }
   ],
   "source": [
    "# 0. 학습셋에서 제목이 있는 경우에 대해서만 진행\n",
    "tf_train = train[train['title'].notnull()].reset_index(drop=True)\n",
    "tf_train['idx2title'] = tf_train['title'].apply(lambda x: id2book[x])\n",
    "tf_train.head()"
   ]
  },
  {
   "cell_type": "code",
   "execution_count": 15,
   "metadata": {
    "execution": {
     "iopub.execute_input": "2020-12-22T05:52:26.694293Z",
     "iopub.status.busy": "2020-12-22T05:52:26.693276Z",
     "iopub.status.idle": "2020-12-22T05:52:26.696356Z",
     "shell.execute_reply": "2020-12-22T05:52:26.695808Z"
    },
    "papermill": {
     "duration": 0.072134,
     "end_time": "2020-12-22T05:52:26.696483",
     "exception": false,
     "start_time": "2020-12-22T05:52:26.624349",
     "status": "completed"
    },
    "tags": []
   },
   "outputs": [],
   "source": [
    "idx2title2book = {}\n",
    "for i, j in zip(tf_train['idx2title'].values, tf_train['book_id'].values):\n",
    "    idx2title2book[i] = j"
   ]
  },
  {
   "cell_type": "code",
   "execution_count": 16,
   "metadata": {
    "execution": {
     "iopub.execute_input": "2020-12-22T05:52:26.771811Z",
     "iopub.status.busy": "2020-12-22T05:52:26.771158Z",
     "iopub.status.idle": "2020-12-22T05:52:28.074636Z",
     "shell.execute_reply": "2020-12-22T05:52:28.074037Z"
    },
    "papermill": {
     "duration": 1.343703,
     "end_time": "2020-12-22T05:52:28.074801",
     "exception": false,
     "start_time": "2020-12-22T05:52:26.731098",
     "status": "completed"
    },
    "tags": []
   },
   "outputs": [
    {
     "data": {
      "text/plain": [
       "array([343, 248])"
      ]
     },
     "execution_count": 16,
     "metadata": {},
     "output_type": "execute_result"
    }
   ],
   "source": [
    "# 1. 각 유저별로 읽은 책의 목록을 수집 \n",
    "user = 7\n",
    "read_list = tf_train.groupby(['user_id'])['idx2title'].agg({'unique'}).reset_index()\n",
    "seen = read_list[read_list['user_id'] == user]['unique'].values[0]\n",
    "seen"
   ]
  },
  {
   "cell_type": "code",
   "execution_count": 17,
   "metadata": {
    "execution": {
     "iopub.execute_input": "2020-12-22T05:52:28.179582Z",
     "iopub.status.busy": "2020-12-22T05:52:28.178569Z",
     "iopub.status.idle": "2020-12-22T05:52:28.182692Z",
     "shell.execute_reply": "2020-12-22T05:52:28.182070Z"
    },
    "papermill": {
     "duration": 0.060886,
     "end_time": "2020-12-22T05:52:28.182900",
     "exception": false,
     "start_time": "2020-12-22T05:52:28.122014",
     "status": "completed"
    },
    "tags": []
   },
   "outputs": [
    {
     "data": {
      "text/plain": [
       "array([0., 0., 0., ..., 0., 0., 0.])"
      ]
     },
     "execution_count": 17,
     "metadata": {},
     "output_type": "execute_result"
    }
   ],
   "source": [
    "# 2. 읽은 책과 유사한 책 추출 \n",
    "## 343번째 책과 다른 책들간의 유사도 \n",
    "cosine_matrix[343]"
   ]
  },
  {
   "cell_type": "code",
   "execution_count": 18,
   "metadata": {
    "execution": {
     "iopub.execute_input": "2020-12-22T05:52:28.260889Z",
     "iopub.status.busy": "2020-12-22T05:52:28.260179Z",
     "iopub.status.idle": "2020-12-22T05:52:28.262971Z",
     "shell.execute_reply": "2020-12-22T05:52:28.263536Z"
    },
    "papermill": {
     "duration": 0.043696,
     "end_time": "2020-12-22T05:52:28.263671",
     "exception": false,
     "start_time": "2020-12-22T05:52:28.219975",
     "status": "completed"
    },
    "tags": []
   },
   "outputs": [],
   "source": [
    "# 2. 읽은 책과 유사한 책 추출 \n",
    "total_cosine_sim = np.zeros(len(book2id))\n",
    "for book_ in seen: \n",
    "    # 3. 모든 책에 대해서 유사도를 더한 값을 계산 \n",
    "    # 343번째 책과 248의 유사도가 모두 결합된 유사도\n",
    "    total_cosine_sim += cosine_matrix[book_]"
   ]
  },
  {
   "cell_type": "code",
   "execution_count": 19,
   "metadata": {
    "execution": {
     "iopub.execute_input": "2020-12-22T05:52:28.386275Z",
     "iopub.status.busy": "2020-12-22T05:52:28.375943Z",
     "iopub.status.idle": "2020-12-22T05:52:28.405638Z",
     "shell.execute_reply": "2020-12-22T05:52:28.405079Z"
    },
    "papermill": {
     "duration": 0.105467,
     "end_time": "2020-12-22T05:52:28.405743",
     "exception": false,
     "start_time": "2020-12-22T05:52:28.300276",
     "status": "completed"
    },
    "tags": []
   },
   "outputs": [
    {
     "data": {
      "text/plain": [
       "[(4809, 0.793036327171204),\n",
       " (6199, 0.6915730356677104),\n",
       " (3194, 0.6607508855409738),\n",
       " (1570, 0.6390974315343301),\n",
       " (7393, 0.5820260477746269)]"
      ]
     },
     "execution_count": 19,
     "metadata": {},
     "output_type": "execute_result"
    }
   ],
   "source": [
    "# 4. 3에서 유사도가 가장 높은 순서대로 추출\n",
    "sim_scores = [(i, c) for i, c in enumerate(total_cosine_sim) if i not in seen] # 자기 자신을 제외한 영화들의 유사도 및 인덱스를 추출 \n",
    "sim_scores = sorted(sim_scores, key = lambda x: x[1], reverse=True) # 유사도가 높은 순서대로 정렬 \n",
    "sim_scores[0:5]"
   ]
  },
  {
   "cell_type": "code",
   "execution_count": 20,
   "metadata": {
    "execution": {
     "iopub.execute_input": "2020-12-22T05:52:28.484398Z",
     "iopub.status.busy": "2020-12-22T05:52:28.483414Z",
     "iopub.status.idle": "2020-12-22T05:52:28.487349Z",
     "shell.execute_reply": "2020-12-22T05:52:28.486811Z"
    },
    "papermill": {
     "duration": 0.045079,
     "end_time": "2020-12-22T05:52:28.487466",
     "exception": false,
     "start_time": "2020-12-22T05:52:28.442387",
     "status": "completed"
    },
    "tags": []
   },
   "outputs": [
    {
     "data": {
      "text/plain": [
       "'The Naked and the Dead'"
      ]
     },
     "execution_count": 20,
     "metadata": {},
     "output_type": "execute_result"
    }
   ],
   "source": [
    "book2id[4809]"
   ]
  },
  {
   "cell_type": "code",
   "execution_count": 21,
   "metadata": {
    "execution": {
     "iopub.execute_input": "2020-12-22T05:52:28.569966Z",
     "iopub.status.busy": "2020-12-22T05:52:28.568915Z",
     "iopub.status.idle": "2020-12-22T05:52:28.573573Z",
     "shell.execute_reply": "2020-12-22T05:52:28.572945Z"
    },
    "papermill": {
     "duration": 0.047867,
     "end_time": "2020-12-22T05:52:28.573691",
     "exception": false,
     "start_time": "2020-12-22T05:52:28.525824",
     "status": "completed"
    },
    "tags": []
   },
   "outputs": [
    {
     "data": {
      "text/plain": [
       "'12467'"
      ]
     },
     "execution_count": 21,
     "metadata": {},
     "output_type": "execute_result"
    }
   ],
   "source": [
    "bookid2book[book2id[4809]]"
   ]
  },
  {
   "cell_type": "code",
   "execution_count": 22,
   "metadata": {
    "execution": {
     "iopub.execute_input": "2020-12-22T05:52:28.654510Z",
     "iopub.status.busy": "2020-12-22T05:52:28.653883Z",
     "iopub.status.idle": "2020-12-22T05:52:28.659571Z",
     "shell.execute_reply": "2020-12-22T05:52:28.658935Z"
    },
    "papermill": {
     "duration": 0.04744,
     "end_time": "2020-12-22T05:52:28.659675",
     "exception": false,
     "start_time": "2020-12-22T05:52:28.612235",
     "status": "completed"
    },
    "tags": []
   },
   "outputs": [
    {
     "data": {
      "text/plain": [
       "array([    4,     7,     9, ..., 53416, 53419, 53424])"
      ]
     },
     "execution_count": 22,
     "metadata": {},
     "output_type": "execute_result"
    }
   ],
   "source": [
    "tf_train['user_id'].unique()"
   ]
  },
  {
   "cell_type": "code",
   "execution_count": 23,
   "metadata": {
    "execution": {
     "iopub.execute_input": "2020-12-22T05:52:28.747160Z",
     "iopub.status.busy": "2020-12-22T05:52:28.746411Z",
     "iopub.status.idle": "2020-12-22T05:52:28.752028Z",
     "shell.execute_reply": "2020-12-22T05:52:28.751484Z"
    },
    "papermill": {
     "duration": 0.053633,
     "end_time": "2020-12-22T05:52:28.752143",
     "exception": false,
     "start_time": "2020-12-22T05:52:28.698510",
     "status": "completed"
    },
    "tags": []
   },
   "outputs": [
    {
     "data": {
      "text/html": [
       "<div>\n",
       "<style scoped>\n",
       "    .dataframe tbody tr th:only-of-type {\n",
       "        vertical-align: middle;\n",
       "    }\n",
       "\n",
       "    .dataframe tbody tr th {\n",
       "        vertical-align: top;\n",
       "    }\n",
       "\n",
       "    .dataframe thead th {\n",
       "        text-align: right;\n",
       "    }\n",
       "</style>\n",
       "<table border=\"1\" class=\"dataframe\">\n",
       "  <thead>\n",
       "    <tr style=\"text-align: right;\">\n",
       "      <th></th>\n",
       "      <th>user_id</th>\n",
       "      <th>book_id</th>\n",
       "      <th>title</th>\n",
       "      <th>idx2title</th>\n",
       "    </tr>\n",
       "  </thead>\n",
       "  <tbody>\n",
       "    <tr>\n",
       "      <th>0</th>\n",
       "      <td>4</td>\n",
       "      <td>3273</td>\n",
       "      <td>Moloka'i</td>\n",
       "      <td>1215</td>\n",
       "    </tr>\n",
       "    <tr>\n",
       "      <th>1</th>\n",
       "      <td>7</td>\n",
       "      <td>4138</td>\n",
       "      <td>Naked</td>\n",
       "      <td>343</td>\n",
       "    </tr>\n",
       "    <tr>\n",
       "      <th>2</th>\n",
       "      <td>7</td>\n",
       "      <td>4588</td>\n",
       "      <td>Extremely Loud and Incredibly Close</td>\n",
       "      <td>248</td>\n",
       "    </tr>\n",
       "    <tr>\n",
       "      <th>3</th>\n",
       "      <td>9</td>\n",
       "      <td>8676</td>\n",
       "      <td>Unlimited Power : The New Science Of Personal ...</td>\n",
       "      <td>4701</td>\n",
       "    </tr>\n",
       "    <tr>\n",
       "      <th>4</th>\n",
       "      <td>10</td>\n",
       "      <td>5907</td>\n",
       "      <td>The Hobbit</td>\n",
       "      <td>6</td>\n",
       "    </tr>\n",
       "  </tbody>\n",
       "</table>\n",
       "</div>"
      ],
      "text/plain": [
       "   user_id book_id                                              title  \\\n",
       "0        4    3273                                           Moloka'i   \n",
       "1        7    4138                                              Naked   \n",
       "2        7    4588                Extremely Loud and Incredibly Close   \n",
       "3        9    8676  Unlimited Power : The New Science Of Personal ...   \n",
       "4       10    5907                                         The Hobbit   \n",
       "\n",
       "   idx2title  \n",
       "0       1215  \n",
       "1        343  \n",
       "2        248  \n",
       "3       4701  \n",
       "4          6  "
      ]
     },
     "execution_count": 23,
     "metadata": {},
     "output_type": "execute_result"
    }
   ],
   "source": [
    "tf_train.head()"
   ]
  },
  {
   "cell_type": "code",
   "execution_count": 24,
   "metadata": {
    "execution": {
     "iopub.execute_input": "2020-12-22T05:52:28.844644Z",
     "iopub.status.busy": "2020-12-22T05:52:28.843610Z",
     "iopub.status.idle": "2020-12-22T06:16:05.697111Z",
     "shell.execute_reply": "2020-12-22T06:16:05.696155Z"
    },
    "papermill": {
     "duration": 1416.906694,
     "end_time": "2020-12-22T06:16:05.697230",
     "exception": false,
     "start_time": "2020-12-22T05:52:28.790536",
     "status": "completed"
    },
    "tags": []
   },
   "outputs": [
    {
     "data": {
      "application/vnd.jupyter.widget-view+json": {
       "model_id": "f9136448a44e46ab90af5e5e5d1deb74",
       "version_major": 2,
       "version_minor": 0
      },
      "text/plain": [
       "HBox(children=(FloatProgress(value=0.0, max=53382.0), HTML(value='')))"
      ]
     },
     "metadata": {},
     "output_type": "display_data"
    },
    {
     "name": "stdout",
     "output_type": "stream",
     "text": [
      "\n"
     ]
    }
   ],
   "source": [
    "## 전체 영화에 대해서 진행 \n",
    "total_rec_list = {}\n",
    "\n",
    "read_list1 = train.groupby(['user_id'])['book_id'].agg({'unique'}).reset_index()\n",
    "read_list2 = tf_train.groupby(['user_id'])['idx2title'].agg({'unique'}).reset_index()\n",
    "\n",
    "for user in tqdm(train['user_id'].unique()):\n",
    "    rec_list = []\n",
    "        \n",
    "    # 만약 TF-IDF 소속의 추천대상이라면 Contents 기반의 추천 \n",
    "    if user in tf_train['user_id'].unique():\n",
    "        # 1. 각 유저별로 읽은 책의 목록을 수집 \n",
    "        seen = read_list2[read_list2['user_id'] == user]['unique'].values[0]\n",
    "        # 2. 읽은 책과 유사한 책 추출 \n",
    "        total_cosine_sim = np.zeros(len(book2id))\n",
    "        for book_ in seen: \n",
    "            # 3. 모든 책에 대해서 유사도를 더한 값을 계산 \n",
    "            # 343번째 책과 248의 유사도가 모두 결합된 유사도\n",
    "            total_cosine_sim += cosine_matrix[book_]\n",
    "            \n",
    "        # 4. 3에서 유사도가 가장 높은 순서대로 추출\n",
    "        sim_scores = [(bookid2book[book2id[i]], c) for i, c in enumerate(total_cosine_sim) if i not in seen] # 자기 자신을 제외한 영화들의 유사도 및 인덱스를 추출 \n",
    "        recs = sorted(sim_scores, key = lambda x: x[1], reverse=True)[0:300] # 유사도가 높은 순서대로 정렬 \n",
    "        for rec in recs: \n",
    "            if rec not in seen:\n",
    "                rec_list.append(rec)   \n",
    "        \n",
    "    # 그렇지 않으면 인기도 기반의 추천 \n",
    "    else: \n",
    "        seen = read_list1[read_list1['user_id'] == user]['unique'].values[0]\n",
    "        for rec in popular_rec_model[0:400]:\n",
    "            if rec not in seen:\n",
    "                rec_list.append(rec)\n",
    "                \n",
    "    total_rec_list[user] = rec_list[0:200]"
   ]
  },
  {
   "cell_type": "code",
   "execution_count": 25,
   "metadata": {
    "execution": {
     "iopub.execute_input": "2020-12-22T06:16:05.798303Z",
     "iopub.status.busy": "2020-12-22T06:16:05.797269Z",
     "iopub.status.idle": "2020-12-22T06:16:05.800686Z",
     "shell.execute_reply": "2020-12-22T06:16:05.800201Z"
    },
    "papermill": {
     "duration": 0.064281,
     "end_time": "2020-12-22T06:16:05.800808",
     "exception": false,
     "start_time": "2020-12-22T06:16:05.736527",
     "status": "completed"
    },
    "tags": []
   },
   "outputs": [],
   "source": [
    "import six\n",
    "import math\n",
    "\n",
    "# https://github.com/kakao-arena/brunch-article-recommendation/blob/master/evaluate.py\n",
    "\n",
    "class evaluate():\n",
    "    def __init__(self, recs, gt, topn=100):\n",
    "        self.recs = recs\n",
    "        self.gt = gt \n",
    "        self.topn = topn \n",
    "        \n",
    "    def _ndcg(self):\n",
    "        Q, S = 0.0, 0.0\n",
    "        for u, seen in six.iteritems(self.gt):\n",
    "            seen = list(set(seen))\n",
    "            rec = self.recs.get(u, [])\n",
    "            if not rec or len(seen) == 0:\n",
    "                continue\n",
    "\n",
    "            dcg = 0.0\n",
    "            idcg = sum([1.0 / math.log(i + 2, 2) for i in range(min(len(seen), len(rec)))])\n",
    "            for i, r in enumerate(rec):\n",
    "                if r not in seen:\n",
    "                    continue\n",
    "                rank = i + 1\n",
    "                dcg += 1.0 / math.log(rank + 1, 2)\n",
    "            ndcg = dcg / idcg\n",
    "            S += ndcg\n",
    "            Q += 1\n",
    "        return S / Q\n",
    "\n",
    "\n",
    "    def _map(self):\n",
    "        n, ap = 0.0, 0.0\n",
    "        for u, seen in six.iteritems(self.gt):\n",
    "            seen = list(set(seen))\n",
    "            rec = self.recs.get(u, [])\n",
    "            if not rec or len(seen) == 0:\n",
    "                continue\n",
    "\n",
    "            _ap, correct = 0.0, 0.0\n",
    "            for i, r in enumerate(rec):\n",
    "                if r in seen:\n",
    "                    correct += 1\n",
    "                    _ap += (correct / (i + 1.0))\n",
    "            _ap /= min(len(seen), len(rec))\n",
    "            ap += _ap\n",
    "            n += 1.0\n",
    "        return ap / n\n",
    "\n",
    "\n",
    "    def _entropy_diversity(self):\n",
    "        sz = float(len(self.recs)) * self.topn\n",
    "        freq = {}\n",
    "        for u, rec in six.iteritems(self.recs):\n",
    "            for r in rec:\n",
    "                freq[r] = freq.get(r, 0) + 1\n",
    "        ent = -sum([v / sz * math.log(v / sz) for v in six.itervalues(freq)])\n",
    "        return ent\n",
    "    \n",
    "    def _evaluate(self):\n",
    "        print('MAP@%s: %s' % (self.topn, self._map()))\n",
    "        print('NDCG@%s: %s' % (self.topn, self._ndcg()))\n",
    "        print('EntDiv@%s: %s' % (self.topn, self._entropy_diversity()))"
   ]
  },
  {
   "cell_type": "code",
   "execution_count": 26,
   "metadata": {
    "execution": {
     "iopub.execute_input": "2020-12-22T06:16:05.926667Z",
     "iopub.status.busy": "2020-12-22T06:16:05.921523Z",
     "iopub.status.idle": "2020-12-22T06:16:17.170282Z",
     "shell.execute_reply": "2020-12-22T06:16:17.169283Z"
    },
    "papermill": {
     "duration": 11.328987,
     "end_time": "2020-12-22T06:16:17.170403",
     "exception": false,
     "start_time": "2020-12-22T06:16:05.841416",
     "status": "completed"
    },
    "tags": []
   },
   "outputs": [
    {
     "name": "stdout",
     "output_type": "stream",
     "text": [
      "MAP@200: 8.152674144049246e-05\n",
      "NDCG@200: 0.0008393198172755216\n",
      "EntDiv@200: 6.916260625417244\n"
     ]
    }
   ],
   "source": [
    "evaluate_func = evaluate(recs=total_rec_list, gt = gt, topn=200)\n",
    "evaluate_func._evaluate()"
   ]
  },
  {
   "cell_type": "markdown",
   "metadata": {
    "papermill": {
     "duration": 0.04047,
     "end_time": "2020-12-22T06:16:17.252743",
     "exception": false,
     "start_time": "2020-12-22T06:16:17.212273",
     "status": "completed"
    },
    "tags": []
   },
   "source": [
    " ## Word2vec을 이용한 추천시스템 \n",
    " - Tag간의 유사도 \n",
    " - 제목간의 유사도 \n",
    " - 책의 읽은 순서를 통한 유사도 "
   ]
  },
  {
   "cell_type": "code",
   "execution_count": 27,
   "metadata": {
    "execution": {
     "iopub.execute_input": "2020-12-22T06:16:17.340651Z",
     "iopub.status.busy": "2020-12-22T06:16:17.339609Z",
     "iopub.status.idle": "2020-12-22T06:16:21.520161Z",
     "shell.execute_reply": "2020-12-22T06:16:21.519512Z"
    },
    "papermill": {
     "duration": 4.226287,
     "end_time": "2020-12-22T06:16:21.520281",
     "exception": false,
     "start_time": "2020-12-22T06:16:17.293994",
     "status": "completed"
    },
    "tags": []
   },
   "outputs": [
    {
     "data": {
      "text/html": [
       "<div>\n",
       "<style scoped>\n",
       "    .dataframe tbody tr th:only-of-type {\n",
       "        vertical-align: middle;\n",
       "    }\n",
       "\n",
       "    .dataframe tbody tr th {\n",
       "        vertical-align: top;\n",
       "    }\n",
       "\n",
       "    .dataframe thead th {\n",
       "        text-align: right;\n",
       "    }\n",
       "</style>\n",
       "<table border=\"1\" class=\"dataframe\">\n",
       "  <thead>\n",
       "    <tr style=\"text-align: right;\">\n",
       "      <th></th>\n",
       "      <th>unique</th>\n",
       "    </tr>\n",
       "    <tr>\n",
       "      <th>user_id</th>\n",
       "      <th></th>\n",
       "    </tr>\n",
       "  </thead>\n",
       "  <tbody>\n",
       "    <tr>\n",
       "      <th>1</th>\n",
       "      <td>[4893]</td>\n",
       "    </tr>\n",
       "    <tr>\n",
       "      <th>2</th>\n",
       "      <td>[8855]</td>\n",
       "    </tr>\n",
       "    <tr>\n",
       "      <th>3</th>\n",
       "      <td>[9049]</td>\n",
       "    </tr>\n",
       "    <tr>\n",
       "      <th>4</th>\n",
       "      <td>[3273]</td>\n",
       "    </tr>\n",
       "    <tr>\n",
       "      <th>5</th>\n",
       "      <td>[4829, 6703]</td>\n",
       "    </tr>\n",
       "  </tbody>\n",
       "</table>\n",
       "</div>"
      ],
      "text/plain": [
       "               unique\n",
       "user_id              \n",
       "1              [4893]\n",
       "2              [8855]\n",
       "3              [9049]\n",
       "4              [3273]\n",
       "5        [4829, 6703]"
      ]
     },
     "execution_count": 27,
     "metadata": {},
     "output_type": "execute_result"
    }
   ],
   "source": [
    "agg = train.groupby(['user_id'])['book_id'].agg({'unique'})\n",
    "agg.head()"
   ]
  },
  {
   "cell_type": "code",
   "execution_count": 28,
   "metadata": {
    "execution": {
     "iopub.execute_input": "2020-12-22T06:16:21.645624Z",
     "iopub.status.busy": "2020-12-22T06:16:21.640508Z",
     "iopub.status.idle": "2020-12-22T06:16:22.134619Z",
     "shell.execute_reply": "2020-12-22T06:16:22.133946Z"
    },
    "papermill": {
     "duration": 0.572047,
     "end_time": "2020-12-22T06:16:22.134729",
     "exception": false,
     "start_time": "2020-12-22T06:16:21.562682",
     "status": "completed"
    },
    "tags": []
   },
   "outputs": [],
   "source": [
    "# int형식은 Word2vec에서 학습이 안되어서 String으로 변경해줍니다. \n",
    "sentence = []\n",
    "for user_sentence in agg['unique'].values:\n",
    "    sentence.append(list(map(str, user_sentence)))"
   ]
  },
  {
   "cell_type": "code",
   "execution_count": 29,
   "metadata": {
    "execution": {
     "iopub.execute_input": "2020-12-22T06:16:22.226520Z",
     "iopub.status.busy": "2020-12-22T06:16:22.225896Z",
     "iopub.status.idle": "2020-12-22T06:19:40.838683Z",
     "shell.execute_reply": "2020-12-22T06:19:40.837979Z"
    },
    "papermill": {
     "duration": 198.660572,
     "end_time": "2020-12-22T06:19:40.838910",
     "exception": false,
     "start_time": "2020-12-22T06:16:22.178338",
     "status": "completed"
    },
    "tags": []
   },
   "outputs": [],
   "source": [
    "# Word2vec의 학습을 진행해줍니다. \n",
    "from gensim.models import Word2Vec\n",
    "embedding_model = Word2Vec(sentence, size=20, window = 5, \n",
    "                           min_count=1, workers=4, iter=200, sg=1)"
   ]
  },
  {
   "cell_type": "code",
   "execution_count": 30,
   "metadata": {
    "execution": {
     "iopub.execute_input": "2020-12-22T06:19:40.927268Z",
     "iopub.status.busy": "2020-12-22T06:19:40.926589Z",
     "iopub.status.idle": "2020-12-22T06:19:40.960488Z",
     "shell.execute_reply": "2020-12-22T06:19:40.961123Z"
    },
    "papermill": {
     "duration": 0.080161,
     "end_time": "2020-12-22T06:19:40.961276",
     "exception": false,
     "start_time": "2020-12-22T06:19:40.881115",
     "status": "completed"
    },
    "tags": []
   },
   "outputs": [
    {
     "data": {
      "text/plain": [
       "[('9714', 0.8639865517616272),\n",
       " ('8675', 0.853424608707428),\n",
       " ('9984', 0.8509962558746338),\n",
       " ('8618', 0.8410573601722717),\n",
       " ('6291', 0.8388713002204895),\n",
       " ('2108', 0.8207754492759705),\n",
       " ('1778', 0.8174813389778137),\n",
       " ('9934', 0.8113306164741516),\n",
       " ('8524', 0.8078303337097168),\n",
       " ('9650', 0.8058333396911621)]"
      ]
     },
     "execution_count": 30,
     "metadata": {},
     "output_type": "execute_result"
    }
   ],
   "source": [
    "embedding_model.wv.most_similar(positive=['4893'], topn=10)"
   ]
  },
  {
   "cell_type": "code",
   "execution_count": 31,
   "metadata": {
    "execution": {
     "iopub.execute_input": "2020-12-22T06:19:41.056344Z",
     "iopub.status.busy": "2020-12-22T06:19:41.055630Z",
     "iopub.status.idle": "2020-12-22T06:46:13.537210Z",
     "shell.execute_reply": "2020-12-22T06:46:13.537911Z"
    },
    "papermill": {
     "duration": 1592.533921,
     "end_time": "2020-12-22T06:46:13.538112",
     "exception": false,
     "start_time": "2020-12-22T06:19:41.004191",
     "status": "completed"
    },
    "tags": []
   },
   "outputs": [
    {
     "data": {
      "application/vnd.jupyter.widget-view+json": {
       "model_id": "53c49f547d204c8abc0d71e69b8a2f9f",
       "version_major": 2,
       "version_minor": 0
      },
      "text/plain": [
       "HBox(children=(FloatProgress(value=0.0, max=53382.0), HTML(value='')))"
      ]
     },
     "metadata": {},
     "output_type": "display_data"
    },
    {
     "name": "stdout",
     "output_type": "stream",
     "text": [
      "\n"
     ]
    }
   ],
   "source": [
    "## 전체 영화에 대해서 진행 \n",
    "total_rec_list = {}\n",
    "\n",
    "read_list = train.groupby(['user_id'])['book_id'].agg({'unique'}).reset_index()\n",
    "for user in tqdm(train['user_id'].unique()):\n",
    "    rec_list = []     \n",
    "    seen = read_list1[read_list1['user_id'] == user]['unique'].values[0]\n",
    "    word2vec_dict = {}\n",
    "    for book in seen: \n",
    "        for i in embedding_model.wv.most_similar(positive=[book], topn=300):\n",
    "            if i[0] not in seen: \n",
    "                if i[0] not in word2vec_dict.keys(): \n",
    "                    word2vec_dict[i[0]] = i[1]\n",
    "                else:\n",
    "                    word2vec_dict[i[0]] += i[1]\n",
    "                \n",
    "    rec_list = list(dict(sorted(word2vec_dict.items(), key = lambda x: x[1], reverse=True)).keys())\n",
    "    total_rec_list[user] = rec_list[0:200]"
   ]
  },
  {
   "cell_type": "code",
   "execution_count": 32,
   "metadata": {
    "execution": {
     "iopub.execute_input": "2020-12-22T06:46:13.636637Z",
     "iopub.status.busy": "2020-12-22T06:46:13.635611Z",
     "iopub.status.idle": "2020-12-22T06:46:27.154075Z",
     "shell.execute_reply": "2020-12-22T06:46:27.153447Z"
    },
    "papermill": {
     "duration": 13.565544,
     "end_time": "2020-12-22T06:46:27.154203",
     "exception": false,
     "start_time": "2020-12-22T06:46:13.588659",
     "status": "completed"
    },
    "tags": []
   },
   "outputs": [
    {
     "name": "stdout",
     "output_type": "stream",
     "text": [
      "MAP@200: 0.06359985421018921\n",
      "NDCG@200: 0.19385573523449956\n",
      "EntDiv@200: 8.905510194684979\n"
     ]
    }
   ],
   "source": [
    "evaluate_func = evaluate(recs=total_rec_list, gt = gt, topn=200)\n",
    "evaluate_func._evaluate()"
   ]
  },
  {
   "cell_type": "markdown",
   "metadata": {
    "papermill": {
     "duration": 0.044901,
     "end_time": "2020-12-22T06:46:27.245440",
     "exception": false,
     "start_time": "2020-12-22T06:46:27.200539",
     "status": "completed"
    },
    "tags": []
   },
   "source": [
    "### 태그를 통한 유사도 계산 "
   ]
  },
  {
   "cell_type": "code",
   "execution_count": 33,
   "metadata": {
    "execution": {
     "iopub.execute_input": "2020-12-22T06:46:27.338836Z",
     "iopub.status.busy": "2020-12-22T06:46:27.338196Z",
     "iopub.status.idle": "2020-12-22T06:46:30.833171Z",
     "shell.execute_reply": "2020-12-22T06:46:30.833705Z"
    },
    "papermill": {
     "duration": 3.54315,
     "end_time": "2020-12-22T06:46:30.833880",
     "exception": false,
     "start_time": "2020-12-22T06:46:27.290730",
     "status": "completed"
    },
    "scrolled": true,
    "tags": []
   },
   "outputs": [
    {
     "data": {
      "text/html": [
       "<div>\n",
       "<style scoped>\n",
       "    .dataframe tbody tr th:only-of-type {\n",
       "        vertical-align: middle;\n",
       "    }\n",
       "\n",
       "    .dataframe tbody tr th {\n",
       "        vertical-align: top;\n",
       "    }\n",
       "\n",
       "    .dataframe thead th {\n",
       "        text-align: right;\n",
       "    }\n",
       "</style>\n",
       "<table border=\"1\" class=\"dataframe\">\n",
       "  <thead>\n",
       "    <tr style=\"text-align: right;\">\n",
       "      <th></th>\n",
       "      <th>book_id</th>\n",
       "      <th>tag_id</th>\n",
       "      <th>count</th>\n",
       "      <th>tag_name</th>\n",
       "    </tr>\n",
       "  </thead>\n",
       "  <tbody>\n",
       "    <tr>\n",
       "      <th>0</th>\n",
       "      <td>1</td>\n",
       "      <td>30574</td>\n",
       "      <td>167697</td>\n",
       "      <td>to-read</td>\n",
       "    </tr>\n",
       "    <tr>\n",
       "      <th>1</th>\n",
       "      <td>1</td>\n",
       "      <td>11305</td>\n",
       "      <td>37174</td>\n",
       "      <td>fantasy</td>\n",
       "    </tr>\n",
       "    <tr>\n",
       "      <th>2</th>\n",
       "      <td>1</td>\n",
       "      <td>11557</td>\n",
       "      <td>34173</td>\n",
       "      <td>favorites</td>\n",
       "    </tr>\n",
       "    <tr>\n",
       "      <th>3</th>\n",
       "      <td>1</td>\n",
       "      <td>8717</td>\n",
       "      <td>12986</td>\n",
       "      <td>currently-reading</td>\n",
       "    </tr>\n",
       "    <tr>\n",
       "      <th>4</th>\n",
       "      <td>1</td>\n",
       "      <td>33114</td>\n",
       "      <td>12716</td>\n",
       "      <td>young-adult</td>\n",
       "    </tr>\n",
       "  </tbody>\n",
       "</table>\n",
       "</div>"
      ],
      "text/plain": [
       "  book_id tag_id   count           tag_name\n",
       "0       1  30574  167697            to-read\n",
       "1       1  11305   37174            fantasy\n",
       "2       1  11557   34173          favorites\n",
       "3       1   8717   12986  currently-reading\n",
       "4       1  33114   12716        young-adult"
      ]
     },
     "execution_count": 33,
     "metadata": {},
     "output_type": "execute_result"
    }
   ],
   "source": [
    "book_tags.columns = ['book_id', 'tag_id', 'count']\n",
    "book_tags['book_id'] = book_tags['book_id'].astype(str)\n",
    "book_tags['tag_id'] = book_tags['tag_id'].astype(str)\n",
    "\n",
    "tags['tag_id'] = tags['tag_id'].astype(str)\n",
    "\n",
    "book_tags = pd.merge(book_tags, tags, how='left', on='tag_id')\n",
    "book_tags.head()"
   ]
  },
  {
   "cell_type": "code",
   "execution_count": 34,
   "metadata": {
    "execution": {
     "iopub.execute_input": "2020-12-22T06:46:30.929423Z",
     "iopub.status.busy": "2020-12-22T06:46:30.928807Z",
     "iopub.status.idle": "2020-12-22T06:46:32.307095Z",
     "shell.execute_reply": "2020-12-22T06:46:32.307626Z"
    },
    "papermill": {
     "duration": 1.427614,
     "end_time": "2020-12-22T06:46:32.307790",
     "exception": false,
     "start_time": "2020-12-22T06:46:30.880176",
     "status": "completed"
    },
    "tags": []
   },
   "outputs": [
    {
     "data": {
      "text/html": [
       "<div>\n",
       "<style scoped>\n",
       "    .dataframe tbody tr th:only-of-type {\n",
       "        vertical-align: middle;\n",
       "    }\n",
       "\n",
       "    .dataframe tbody tr th {\n",
       "        vertical-align: top;\n",
       "    }\n",
       "\n",
       "    .dataframe thead th {\n",
       "        text-align: right;\n",
       "    }\n",
       "</style>\n",
       "<table border=\"1\" class=\"dataframe\">\n",
       "  <thead>\n",
       "    <tr style=\"text-align: right;\">\n",
       "      <th></th>\n",
       "      <th>book_id</th>\n",
       "      <th>unique</th>\n",
       "    </tr>\n",
       "  </thead>\n",
       "  <tbody>\n",
       "    <tr>\n",
       "      <th>0</th>\n",
       "      <td>1</td>\n",
       "      <td>[to-read, fantasy, favorites, currently-readin...</td>\n",
       "    </tr>\n",
       "    <tr>\n",
       "      <th>1</th>\n",
       "      <td>10</td>\n",
       "      <td>[to-read, favorites, fantasy, currently-readin...</td>\n",
       "    </tr>\n",
       "    <tr>\n",
       "      <th>2</th>\n",
       "      <td>10006</td>\n",
       "      <td>[to-read, fiction, currently-reading, rory-gil...</td>\n",
       "    </tr>\n",
       "    <tr>\n",
       "      <th>3</th>\n",
       "      <td>1000751</td>\n",
       "      <td>[to-read, classics, childrens, fiction, curren...</td>\n",
       "    </tr>\n",
       "    <tr>\n",
       "      <th>4</th>\n",
       "      <td>10008056</td>\n",
       "      <td>[to-read, default, currently-reading, krimi, c...</td>\n",
       "    </tr>\n",
       "  </tbody>\n",
       "</table>\n",
       "</div>"
      ],
      "text/plain": [
       "    book_id                                             unique\n",
       "0         1  [to-read, fantasy, favorites, currently-readin...\n",
       "1        10  [to-read, favorites, fantasy, currently-readin...\n",
       "2     10006  [to-read, fiction, currently-reading, rory-gil...\n",
       "3   1000751  [to-read, classics, childrens, fiction, curren...\n",
       "4  10008056  [to-read, default, currently-reading, krimi, c..."
      ]
     },
     "execution_count": 34,
     "metadata": {},
     "output_type": "execute_result"
    }
   ],
   "source": [
    "agg = book_tags.groupby(['book_id'])['tag_name'].agg({'unique'}).reset_index()\n",
    "agg.head()"
   ]
  },
  {
   "cell_type": "code",
   "execution_count": 35,
   "metadata": {
    "execution": {
     "iopub.execute_input": "2020-12-22T06:46:32.410861Z",
     "iopub.status.busy": "2020-12-22T06:46:32.409746Z",
     "iopub.status.idle": "2020-12-22T06:46:32.638313Z",
     "shell.execute_reply": "2020-12-22T06:46:32.639120Z"
    },
    "papermill": {
     "duration": 0.279844,
     "end_time": "2020-12-22T06:46:32.639333",
     "exception": false,
     "start_time": "2020-12-22T06:46:32.359489",
     "status": "completed"
    },
    "tags": []
   },
   "outputs": [],
   "source": [
    "# 태그간의 유사도 계산 \n",
    "# int형식은 Word2vec에서 학습이 안되어서 String으로 변경해줍니다. \n",
    "sentence = []\n",
    "for user_sentence in agg['unique'].values:\n",
    "    sentence.append(list(map(str, user_sentence)))"
   ]
  },
  {
   "cell_type": "code",
   "execution_count": 36,
   "metadata": {
    "execution": {
     "iopub.execute_input": "2020-12-22T06:46:32.744807Z",
     "iopub.status.busy": "2020-12-22T06:46:32.743802Z",
     "iopub.status.idle": "2020-12-22T06:46:32.751209Z",
     "shell.execute_reply": "2020-12-22T06:46:32.751688Z"
    },
    "papermill": {
     "duration": 0.057958,
     "end_time": "2020-12-22T06:46:32.751848",
     "exception": false,
     "start_time": "2020-12-22T06:46:32.693890",
     "status": "completed"
    },
    "tags": []
   },
   "outputs": [],
   "source": [
    "from gensim.models import doc2vec\n",
    "doc_vectorizer = doc2vec.Doc2Vec(\n",
    "    dm=0,            # PV-DBOW / default 1\n",
    "    dbow_words=1,    # w2v simultaneous with DBOW d2v / default 0\n",
    "    window=10,        # distance between the predicted word and context words\n",
    "    size=100,        # vector size\n",
    "    alpha=0.025,     # learning-rate\n",
    "    seed=1234,\n",
    "    min_count=5,    # ignore with freq lower\n",
    "    min_alpha=0.025, # min learning-rate\n",
    "    workers=4,   # multi cpu\n",
    "    hs = 1,          # hierar chical softmax / default 0\n",
    "    negative = 10   # negative sampling / default 5\n",
    ")"
   ]
  },
  {
   "cell_type": "code",
   "execution_count": 37,
   "metadata": {
    "execution": {
     "iopub.execute_input": "2020-12-22T06:46:32.853433Z",
     "iopub.status.busy": "2020-12-22T06:46:32.852486Z",
     "iopub.status.idle": "2020-12-22T06:46:32.897320Z",
     "shell.execute_reply": "2020-12-22T06:46:32.897840Z"
    },
    "papermill": {
     "duration": 0.094778,
     "end_time": "2020-12-22T06:46:32.897999",
     "exception": false,
     "start_time": "2020-12-22T06:46:32.803221",
     "status": "completed"
    },
    "tags": []
   },
   "outputs": [],
   "source": [
    "from collections import namedtuple\n",
    "\n",
    "TaggedDocument = namedtuple('TaggedDocument', 'words tags')\n",
    "tagged_train_docs = [TaggedDocument(c, [d]) for c, d in agg[['unique', 'book_id']].values]"
   ]
  },
  {
   "cell_type": "code",
   "execution_count": 38,
   "metadata": {
    "execution": {
     "iopub.execute_input": "2020-12-22T06:46:32.995887Z",
     "iopub.status.busy": "2020-12-22T06:46:32.994873Z",
     "iopub.status.idle": "2020-12-22T06:46:41.021754Z",
     "shell.execute_reply": "2020-12-22T06:46:41.021077Z"
    },
    "papermill": {
     "duration": 8.076583,
     "end_time": "2020-12-22T06:46:41.021908",
     "exception": false,
     "start_time": "2020-12-22T06:46:32.945325",
     "status": "completed"
    },
    "tags": []
   },
   "outputs": [
    {
     "name": "stdout",
     "output_type": "stream",
     "text": [
      "Doc2Vec(dbow+w,d100,n10,hs,w10,mc5,s0.001,t4)\n"
     ]
    }
   ],
   "source": [
    "doc_vectorizer.build_vocab(tagged_train_docs)\n",
    "print(str(doc_vectorizer))"
   ]
  },
  {
   "cell_type": "code",
   "execution_count": 39,
   "metadata": {
    "execution": {
     "iopub.execute_input": "2020-12-22T06:46:41.149615Z",
     "iopub.status.busy": "2020-12-22T06:46:41.148824Z",
     "iopub.status.idle": "2020-12-22T06:53:28.764164Z",
     "shell.execute_reply": "2020-12-22T06:53:28.760913Z"
    },
    "papermill": {
     "duration": 407.689252,
     "end_time": "2020-12-22T06:53:28.764289",
     "exception": false,
     "start_time": "2020-12-22T06:46:41.075037",
     "status": "completed"
    },
    "tags": []
   },
   "outputs": [
    {
     "data": {
      "application/vnd.jupyter.widget-view+json": {
       "model_id": "18480abf556d40dcac1306888987fc73",
       "version_major": 2,
       "version_minor": 0
      },
      "text/plain": [
       "HBox(children=(FloatProgress(value=0.0, max=5.0), HTML(value='')))"
      ]
     },
     "metadata": {},
     "output_type": "display_data"
    },
    {
     "name": "stdout",
     "output_type": "stream",
     "text": [
      "\n",
      "During Time: 407.58349442481995\n"
     ]
    }
   ],
   "source": [
    "# 벡터 문서 학습\n",
    "from time import time\n",
    "\n",
    "start = time()\n",
    "\n",
    "for epoch in tqdm(range(5)):\n",
    "    doc_vectorizer.train(tagged_train_docs, total_examples=doc_vectorizer.corpus_count, epochs=doc_vectorizer.iter)\n",
    "    doc_vectorizer.alpha -= 0.002 # decrease the learning rate\n",
    "    doc_vectorizer.min_alpha = doc_vectorizer.alpha # fix the learning rate, no decay\n",
    "\n",
    "#doc_vectorizer.train(tagged_train_docs, total_examples=doc_vectorizer.corpus_count, epochs=doc_vectorizer.iter)\n",
    "end = time()\n",
    "print(\"During Time: {}\".format(end-start))"
   ]
  },
  {
   "cell_type": "code",
   "execution_count": 40,
   "metadata": {
    "execution": {
     "iopub.execute_input": "2020-12-22T06:53:28.862676Z",
     "iopub.status.busy": "2020-12-22T06:53:28.861670Z",
     "iopub.status.idle": "2020-12-22T06:53:28.873600Z",
     "shell.execute_reply": "2020-12-22T06:53:28.874155Z"
    },
    "papermill": {
     "duration": 0.063783,
     "end_time": "2020-12-22T06:53:28.874289",
     "exception": false,
     "start_time": "2020-12-22T06:53:28.810506",
     "status": "completed"
    },
    "tags": []
   },
   "outputs": [
    {
     "data": {
      "text/plain": [
       "[('136251', 0.8540500402450562),\n",
       " ('15881', 0.8274269104003906),\n",
       " ('5', 0.7960681915283203),\n",
       " ('6', 0.7919667959213257),\n",
       " ('3', 0.7812910676002502),\n",
       " ('862041', 0.770203709602356),\n",
       " ('2', 0.7157841920852661),\n",
       " ('10', 0.7057254314422607),\n",
       " ('99298', 0.683951735496521),\n",
       " ('1317181', 0.6641982793807983),\n",
       " ('3950967', 0.6619352102279663),\n",
       " ('28187', 0.6554629802703857),\n",
       " ('100464', 0.6545640230178833),\n",
       " ('111450', 0.6466459631919861),\n",
       " ('6294', 0.6448465585708618),\n",
       " ('4502507', 0.6405039429664612),\n",
       " ('28194', 0.6279330253601074),\n",
       " ('13837', 0.6260802745819092),\n",
       " ('18116', 0.6238935589790344),\n",
       " ('119322', 0.6228699088096619)]"
      ]
     },
     "execution_count": 40,
     "metadata": {},
     "output_type": "execute_result"
    }
   ],
   "source": [
    "doc_vectorizer.docvecs.most_similar('1', topn=20)"
   ]
  },
  {
   "cell_type": "code",
   "execution_count": 41,
   "metadata": {
    "execution": {
     "iopub.execute_input": "2020-12-22T06:53:28.976634Z",
     "iopub.status.busy": "2020-12-22T06:53:28.975963Z",
     "iopub.status.idle": "2020-12-22T06:53:28.986528Z",
     "shell.execute_reply": "2020-12-22T06:53:28.987058Z"
    },
    "papermill": {
     "duration": 0.0637,
     "end_time": "2020-12-22T06:53:28.987187",
     "exception": false,
     "start_time": "2020-12-22T06:53:28.923487",
     "status": "completed"
    },
    "tags": []
   },
   "outputs": [
    {
     "data": {
      "text/html": [
       "<div>\n",
       "<style scoped>\n",
       "    .dataframe tbody tr th:only-of-type {\n",
       "        vertical-align: middle;\n",
       "    }\n",
       "\n",
       "    .dataframe tbody tr th {\n",
       "        vertical-align: top;\n",
       "    }\n",
       "\n",
       "    .dataframe thead th {\n",
       "        text-align: right;\n",
       "    }\n",
       "</style>\n",
       "<table border=\"1\" class=\"dataframe\">\n",
       "  <thead>\n",
       "    <tr style=\"text-align: right;\">\n",
       "      <th></th>\n",
       "      <th>user_id</th>\n",
       "      <th>book_id</th>\n",
       "      <th>title</th>\n",
       "    </tr>\n",
       "  </thead>\n",
       "  <tbody>\n",
       "    <tr>\n",
       "      <th>0</th>\n",
       "      <td>1</td>\n",
       "      <td>4893</td>\n",
       "      <td>NaN</td>\n",
       "    </tr>\n",
       "    <tr>\n",
       "      <th>1</th>\n",
       "      <td>2</td>\n",
       "      <td>8855</td>\n",
       "      <td>NaN</td>\n",
       "    </tr>\n",
       "    <tr>\n",
       "      <th>2</th>\n",
       "      <td>3</td>\n",
       "      <td>9049</td>\n",
       "      <td>NaN</td>\n",
       "    </tr>\n",
       "    <tr>\n",
       "      <th>3</th>\n",
       "      <td>4</td>\n",
       "      <td>3273</td>\n",
       "      <td>Moloka'i</td>\n",
       "    </tr>\n",
       "    <tr>\n",
       "      <th>4</th>\n",
       "      <td>5</td>\n",
       "      <td>4829</td>\n",
       "      <td>NaN</td>\n",
       "    </tr>\n",
       "  </tbody>\n",
       "</table>\n",
       "</div>"
      ],
      "text/plain": [
       "   user_id book_id     title\n",
       "0        1    4893       NaN\n",
       "1        2    8855       NaN\n",
       "2        3    9049       NaN\n",
       "3        4    3273  Moloka'i\n",
       "4        5    4829       NaN"
      ]
     },
     "execution_count": 41,
     "metadata": {},
     "output_type": "execute_result"
    }
   ],
   "source": [
    "train.head()"
   ]
  },
  {
   "cell_type": "code",
   "execution_count": 42,
   "metadata": {
    "execution": {
     "iopub.execute_input": "2020-12-22T06:53:29.088380Z",
     "iopub.status.busy": "2020-12-22T06:53:29.087737Z",
     "iopub.status.idle": "2020-12-22T06:53:29.202985Z",
     "shell.execute_reply": "2020-12-22T06:53:29.203473Z"
    },
    "papermill": {
     "duration": 0.168492,
     "end_time": "2020-12-22T06:53:29.203617",
     "exception": false,
     "start_time": "2020-12-22T06:53:29.035125",
     "status": "completed"
    },
    "scrolled": true,
    "tags": []
   },
   "outputs": [],
   "source": [
    "# tag 정보가 있는 책이 있고 아닌 책이 있어서 해당 책만 추출 \n",
    "agg['type'] = '1'\n",
    "train = pd.merge(train, agg, how='left', on='book_id')"
   ]
  },
  {
   "cell_type": "code",
   "execution_count": 43,
   "metadata": {
    "execution": {
     "iopub.execute_input": "2020-12-22T06:53:29.303465Z",
     "iopub.status.busy": "2020-12-22T06:53:29.302838Z",
     "iopub.status.idle": "2020-12-22T06:57:54.154072Z",
     "shell.execute_reply": "2020-12-22T06:57:54.154605Z"
    },
    "papermill": {
     "duration": 264.903242,
     "end_time": "2020-12-22T06:57:54.154785",
     "exception": false,
     "start_time": "2020-12-22T06:53:29.251543",
     "status": "completed"
    },
    "scrolled": true,
    "tags": []
   },
   "outputs": [
    {
     "data": {
      "application/vnd.jupyter.widget-view+json": {
       "model_id": "6b1886f75fa141939c25735170d2eac5",
       "version_major": 2,
       "version_minor": 0
      },
      "text/plain": [
       "HBox(children=(FloatProgress(value=0.0, max=53382.0), HTML(value='')))"
      ]
     },
     "metadata": {},
     "output_type": "display_data"
    },
    {
     "name": "stdout",
     "output_type": "stream",
     "text": [
      "\n"
     ]
    }
   ],
   "source": [
    "## 전체 영화에 대해서 진행 \n",
    "total_rec_list = {}\n",
    "\n",
    "read_list1 = train.groupby(['user_id'])['book_id'].agg({'unique'}).reset_index()\n",
    "read_list2 = train[train['type'] == '1'].groupby(['user_id'])['book_id'].agg({'unique'}).reset_index()\n",
    "for user in tqdm(train['user_id'].unique()):\n",
    "    rec_list = []\n",
    "    if user in read_list2['user_id'].unique():\n",
    "        seen = read_list2[read_list2['user_id'] == user]['unique'].values[0]\n",
    "        doc2vec_dict = {}\n",
    "        for book in seen: \n",
    "            for i in doc_vectorizer.docvecs.most_similar(positive=[book], topn=300): \n",
    "                if i[0] not in doc2vec_dict.keys(): \n",
    "                    doc2vec_dict[i[0]] = i[1]\n",
    "                else:\n",
    "                    doc2vec_dict[i[0]] += i[1]\n",
    "\n",
    "        rec_list = list(dict(sorted(doc2vec_dict.items(), key = lambda x: x[1], reverse=True)).keys())\n",
    "    else:\n",
    "        \n",
    "        seen = read_list1[read_list1['user_id'] == user]['unique'].values[0]\n",
    "        for rec in popular_rec_model[0:300]:\n",
    "            if rec not in seen:\n",
    "                rec_list.append(rec)\n",
    "    total_rec_list[user] = rec_list[0:200]"
   ]
  },
  {
   "cell_type": "code",
   "execution_count": 44,
   "metadata": {
    "execution": {
     "iopub.execute_input": "2020-12-22T06:57:54.331659Z",
     "iopub.status.busy": "2020-12-22T06:57:54.326529Z",
     "iopub.status.idle": "2020-12-22T06:58:03.265906Z",
     "shell.execute_reply": "2020-12-22T06:58:03.265334Z"
    },
    "papermill": {
     "duration": 9.060046,
     "end_time": "2020-12-22T06:58:03.266019",
     "exception": false,
     "start_time": "2020-12-22T06:57:54.205973",
     "status": "completed"
    },
    "tags": []
   },
   "outputs": [
    {
     "name": "stdout",
     "output_type": "stream",
     "text": [
      "MAP@200: 0.00016221527094582744\n",
      "NDCG@200: 0.0016506821367251478\n",
      "EntDiv@200: 6.98870286802475\n"
     ]
    }
   ],
   "source": [
    "evaluate_func = evaluate(recs=total_rec_list, gt = gt, topn=200)\n",
    "evaluate_func._evaluate()"
   ]
  },
  {
   "cell_type": "code",
   "execution_count": null,
   "metadata": {
    "papermill": {
     "duration": 0.051837,
     "end_time": "2020-12-22T06:58:03.369848",
     "exception": false,
     "start_time": "2020-12-22T06:58:03.318011",
     "status": "completed"
    },
    "tags": []
   },
   "outputs": [],
   "source": []
  }
 ],
 "metadata": {
  "kernelspec": {
   "display_name": "Python 3",
   "language": "python",
   "name": "python3"
  },
  "language_info": {
   "codemirror_mode": {
    "name": "ipython",
    "version": 3
   },
   "file_extension": ".py",
   "mimetype": "text/x-python",
   "name": "python",
   "nbconvert_exporter": "python",
   "pygments_lexer": "ipython3",
   "version": "3.8.3"
  },
  "papermill": {
   "duration": 3999.526651,
   "end_time": "2020-12-22T06:58:03.535513",
   "environment_variables": {},
   "exception": null,
   "input_path": "__notebook__.ipynb",
   "output_path": "__notebook__.ipynb",
   "parameters": {},
   "start_time": "2020-12-22T05:51:24.008862",
   "version": "2.1.0"
  },
  "widgets": {
   "application/vnd.jupyter.widget-state+json": {
    "state": {
     "126895f81a41411a87e799e6228b44a8": {
      "model_module": "@jupyter-widgets/controls",
      "model_module_version": "1.5.0",
      "model_name": "FloatProgressModel",
      "state": {
       "_dom_classes": [],
       "_model_module": "@jupyter-widgets/controls",
       "_model_module_version": "1.5.0",
       "_model_name": "FloatProgressModel",
       "_view_count": null,
       "_view_module": "@jupyter-widgets/controls",
       "_view_module_version": "1.5.0",
       "_view_name": "ProgressView",
       "bar_style": "success",
       "description": "100%",
       "description_tooltip": null,
       "layout": "IPY_MODEL_3a070e1f671f4f8ab7a946334ab432d3",
       "max": 53382,
       "min": 0,
       "orientation": "horizontal",
       "style": "IPY_MODEL_d8b6c957d0e34d6ab2a317e03e1af5cb",
       "value": 53382
      }
     },
     "18480abf556d40dcac1306888987fc73": {
      "model_module": "@jupyter-widgets/controls",
      "model_module_version": "1.5.0",
      "model_name": "HBoxModel",
      "state": {
       "_dom_classes": [],
       "_model_module": "@jupyter-widgets/controls",
       "_model_module_version": "1.5.0",
       "_model_name": "HBoxModel",
       "_view_count": null,
       "_view_module": "@jupyter-widgets/controls",
       "_view_module_version": "1.5.0",
       "_view_name": "HBoxView",
       "box_style": "",
       "children": [
        "IPY_MODEL_3cccb57ad7914d8791f745b4364ca805",
        "IPY_MODEL_84091fedfffd45e394aaf608c7ff6bbb"
       ],
       "layout": "IPY_MODEL_a2e89df75c8c44f8be746be9fed3ff0d"
      }
     },
     "1b4c5b4d73dd4549920b350b815993e0": {
      "model_module": "@jupyter-widgets/controls",
      "model_module_version": "1.5.0",
      "model_name": "FloatProgressModel",
      "state": {
       "_dom_classes": [],
       "_model_module": "@jupyter-widgets/controls",
       "_model_module_version": "1.5.0",
       "_model_name": "FloatProgressModel",
       "_view_count": null,
       "_view_module": "@jupyter-widgets/controls",
       "_view_module_version": "1.5.0",
       "_view_name": "ProgressView",
       "bar_style": "success",
       "description": "100%",
       "description_tooltip": null,
       "layout": "IPY_MODEL_27e8817e07644cd9bcfa2ba69d05a082",
       "max": 53424,
       "min": 0,
       "orientation": "horizontal",
       "style": "IPY_MODEL_9152c2c9571f4d7c902d8e73dc352f29",
       "value": 53424
      }
     },
     "27248440896849b285c975ac2a920b31": {
      "model_module": "@jupyter-widgets/controls",
      "model_module_version": "1.5.0",
      "model_name": "ProgressStyleModel",
      "state": {
       "_model_module": "@jupyter-widgets/controls",
       "_model_module_version": "1.5.0",
       "_model_name": "ProgressStyleModel",
       "_view_count": null,
       "_view_module": "@jupyter-widgets/base",
       "_view_module_version": "1.2.0",
       "_view_name": "StyleView",
       "bar_color": null,
       "description_width": "initial"
      }
     },
     "27e8817e07644cd9bcfa2ba69d05a082": {
      "model_module": "@jupyter-widgets/base",
      "model_module_version": "1.2.0",
      "model_name": "LayoutModel",
      "state": {
       "_model_module": "@jupyter-widgets/base",
       "_model_module_version": "1.2.0",
       "_model_name": "LayoutModel",
       "_view_count": null,
       "_view_module": "@jupyter-widgets/base",
       "_view_module_version": "1.2.0",
       "_view_name": "LayoutView",
       "align_content": null,
       "align_items": null,
       "align_self": null,
       "border": null,
       "bottom": null,
       "display": null,
       "flex": null,
       "flex_flow": null,
       "grid_area": null,
       "grid_auto_columns": null,
       "grid_auto_flow": null,
       "grid_auto_rows": null,
       "grid_column": null,
       "grid_gap": null,
       "grid_row": null,
       "grid_template_areas": null,
       "grid_template_columns": null,
       "grid_template_rows": null,
       "height": null,
       "justify_content": null,
       "justify_items": null,
       "left": null,
       "margin": null,
       "max_height": null,
       "max_width": null,
       "min_height": null,
       "min_width": null,
       "object_fit": null,
       "object_position": null,
       "order": null,
       "overflow": null,
       "overflow_x": null,
       "overflow_y": null,
       "padding": null,
       "right": null,
       "top": null,
       "visibility": null,
       "width": null
      }
     },
     "2f783e6e86c240f6ace66d459b22d3eb": {
      "model_module": "@jupyter-widgets/base",
      "model_module_version": "1.2.0",
      "model_name": "LayoutModel",
      "state": {
       "_model_module": "@jupyter-widgets/base",
       "_model_module_version": "1.2.0",
       "_model_name": "LayoutModel",
       "_view_count": null,
       "_view_module": "@jupyter-widgets/base",
       "_view_module_version": "1.2.0",
       "_view_name": "LayoutView",
       "align_content": null,
       "align_items": null,
       "align_self": null,
       "border": null,
       "bottom": null,
       "display": null,
       "flex": null,
       "flex_flow": null,
       "grid_area": null,
       "grid_auto_columns": null,
       "grid_auto_flow": null,
       "grid_auto_rows": null,
       "grid_column": null,
       "grid_gap": null,
       "grid_row": null,
       "grid_template_areas": null,
       "grid_template_columns": null,
       "grid_template_rows": null,
       "height": null,
       "justify_content": null,
       "justify_items": null,
       "left": null,
       "margin": null,
       "max_height": null,
       "max_width": null,
       "min_height": null,
       "min_width": null,
       "object_fit": null,
       "object_position": null,
       "order": null,
       "overflow": null,
       "overflow_x": null,
       "overflow_y": null,
       "padding": null,
       "right": null,
       "top": null,
       "visibility": null,
       "width": null
      }
     },
     "3a070e1f671f4f8ab7a946334ab432d3": {
      "model_module": "@jupyter-widgets/base",
      "model_module_version": "1.2.0",
      "model_name": "LayoutModel",
      "state": {
       "_model_module": "@jupyter-widgets/base",
       "_model_module_version": "1.2.0",
       "_model_name": "LayoutModel",
       "_view_count": null,
       "_view_module": "@jupyter-widgets/base",
       "_view_module_version": "1.2.0",
       "_view_name": "LayoutView",
       "align_content": null,
       "align_items": null,
       "align_self": null,
       "border": null,
       "bottom": null,
       "display": null,
       "flex": null,
       "flex_flow": null,
       "grid_area": null,
       "grid_auto_columns": null,
       "grid_auto_flow": null,
       "grid_auto_rows": null,
       "grid_column": null,
       "grid_gap": null,
       "grid_row": null,
       "grid_template_areas": null,
       "grid_template_columns": null,
       "grid_template_rows": null,
       "height": null,
       "justify_content": null,
       "justify_items": null,
       "left": null,
       "margin": null,
       "max_height": null,
       "max_width": null,
       "min_height": null,
       "min_width": null,
       "object_fit": null,
       "object_position": null,
       "order": null,
       "overflow": null,
       "overflow_x": null,
       "overflow_y": null,
       "padding": null,
       "right": null,
       "top": null,
       "visibility": null,
       "width": null
      }
     },
     "3cccb57ad7914d8791f745b4364ca805": {
      "model_module": "@jupyter-widgets/controls",
      "model_module_version": "1.5.0",
      "model_name": "FloatProgressModel",
      "state": {
       "_dom_classes": [],
       "_model_module": "@jupyter-widgets/controls",
       "_model_module_version": "1.5.0",
       "_model_name": "FloatProgressModel",
       "_view_count": null,
       "_view_module": "@jupyter-widgets/controls",
       "_view_module_version": "1.5.0",
       "_view_name": "ProgressView",
       "bar_style": "success",
       "description": "100%",
       "description_tooltip": null,
       "layout": "IPY_MODEL_cde5ba9813a748f0ae8f4758b34a6ca8",
       "max": 5,
       "min": 0,
       "orientation": "horizontal",
       "style": "IPY_MODEL_5d614e52767a451a8f9d8191b505a44a",
       "value": 5
      }
     },
     "437c1476e9e7410d9cba8f2535c04e5f": {
      "model_module": "@jupyter-widgets/controls",
      "model_module_version": "1.5.0",
      "model_name": "HTMLModel",
      "state": {
       "_dom_classes": [],
       "_model_module": "@jupyter-widgets/controls",
       "_model_module_version": "1.5.0",
       "_model_name": "HTMLModel",
       "_view_count": null,
       "_view_module": "@jupyter-widgets/controls",
       "_view_module_version": "1.5.0",
       "_view_name": "HTMLView",
       "description": "",
       "description_tooltip": null,
       "layout": "IPY_MODEL_2f783e6e86c240f6ace66d459b22d3eb",
       "placeholder": "​",
       "style": "IPY_MODEL_c0802b0dbc804ff1a1c85d550a1c4748",
       "value": " 53424/53424 [05:14&lt;00:00, 169.71it/s]"
      }
     },
     "4581df6014ec4ed49146dbf0314c06fb": {
      "model_module": "@jupyter-widgets/controls",
      "model_module_version": "1.5.0",
      "model_name": "DescriptionStyleModel",
      "state": {
       "_model_module": "@jupyter-widgets/controls",
       "_model_module_version": "1.5.0",
       "_model_name": "DescriptionStyleModel",
       "_view_count": null,
       "_view_module": "@jupyter-widgets/base",
       "_view_module_version": "1.2.0",
       "_view_name": "StyleView",
       "description_width": ""
      }
     },
     "4b1f1dcb9dc34f43b19a08efc462b123": {
      "model_module": "@jupyter-widgets/base",
      "model_module_version": "1.2.0",
      "model_name": "LayoutModel",
      "state": {
       "_model_module": "@jupyter-widgets/base",
       "_model_module_version": "1.2.0",
       "_model_name": "LayoutModel",
       "_view_count": null,
       "_view_module": "@jupyter-widgets/base",
       "_view_module_version": "1.2.0",
       "_view_name": "LayoutView",
       "align_content": null,
       "align_items": null,
       "align_self": null,
       "border": null,
       "bottom": null,
       "display": null,
       "flex": null,
       "flex_flow": null,
       "grid_area": null,
       "grid_auto_columns": null,
       "grid_auto_flow": null,
       "grid_auto_rows": null,
       "grid_column": null,
       "grid_gap": null,
       "grid_row": null,
       "grid_template_areas": null,
       "grid_template_columns": null,
       "grid_template_rows": null,
       "height": null,
       "justify_content": null,
       "justify_items": null,
       "left": null,
       "margin": null,
       "max_height": null,
       "max_width": null,
       "min_height": null,
       "min_width": null,
       "object_fit": null,
       "object_position": null,
       "order": null,
       "overflow": null,
       "overflow_x": null,
       "overflow_y": null,
       "padding": null,
       "right": null,
       "top": null,
       "visibility": null,
       "width": null
      }
     },
     "4ea4a9fffeca4f86a2ace0614b0a2d43": {
      "model_module": "@jupyter-widgets/controls",
      "model_module_version": "1.5.0",
      "model_name": "DescriptionStyleModel",
      "state": {
       "_model_module": "@jupyter-widgets/controls",
       "_model_module_version": "1.5.0",
       "_model_name": "DescriptionStyleModel",
       "_view_count": null,
       "_view_module": "@jupyter-widgets/base",
       "_view_module_version": "1.2.0",
       "_view_name": "StyleView",
       "description_width": ""
      }
     },
     "53c49f547d204c8abc0d71e69b8a2f9f": {
      "model_module": "@jupyter-widgets/controls",
      "model_module_version": "1.5.0",
      "model_name": "HBoxModel",
      "state": {
       "_dom_classes": [],
       "_model_module": "@jupyter-widgets/controls",
       "_model_module_version": "1.5.0",
       "_model_name": "HBoxModel",
       "_view_count": null,
       "_view_module": "@jupyter-widgets/controls",
       "_view_module_version": "1.5.0",
       "_view_name": "HBoxView",
       "box_style": "",
       "children": [
        "IPY_MODEL_c4275ceb03c24b4eae641a866eee45df",
        "IPY_MODEL_61b33f03f4dd4598904a33b09a062bce"
       ],
       "layout": "IPY_MODEL_6b7033e86b9149c6b289caf9bffa6c85"
      }
     },
     "5d614e52767a451a8f9d8191b505a44a": {
      "model_module": "@jupyter-widgets/controls",
      "model_module_version": "1.5.0",
      "model_name": "ProgressStyleModel",
      "state": {
       "_model_module": "@jupyter-widgets/controls",
       "_model_module_version": "1.5.0",
       "_model_name": "ProgressStyleModel",
       "_view_count": null,
       "_view_module": "@jupyter-widgets/base",
       "_view_module_version": "1.2.0",
       "_view_name": "StyleView",
       "bar_color": null,
       "description_width": "initial"
      }
     },
     "5e810250a6ea4967a995d1bc7de104de": {
      "model_module": "@jupyter-widgets/base",
      "model_module_version": "1.2.0",
      "model_name": "LayoutModel",
      "state": {
       "_model_module": "@jupyter-widgets/base",
       "_model_module_version": "1.2.0",
       "_model_name": "LayoutModel",
       "_view_count": null,
       "_view_module": "@jupyter-widgets/base",
       "_view_module_version": "1.2.0",
       "_view_name": "LayoutView",
       "align_content": null,
       "align_items": null,
       "align_self": null,
       "border": null,
       "bottom": null,
       "display": null,
       "flex": null,
       "flex_flow": null,
       "grid_area": null,
       "grid_auto_columns": null,
       "grid_auto_flow": null,
       "grid_auto_rows": null,
       "grid_column": null,
       "grid_gap": null,
       "grid_row": null,
       "grid_template_areas": null,
       "grid_template_columns": null,
       "grid_template_rows": null,
       "height": null,
       "justify_content": null,
       "justify_items": null,
       "left": null,
       "margin": null,
       "max_height": null,
       "max_width": null,
       "min_height": null,
       "min_width": null,
       "object_fit": null,
       "object_position": null,
       "order": null,
       "overflow": null,
       "overflow_x": null,
       "overflow_y": null,
       "padding": null,
       "right": null,
       "top": null,
       "visibility": null,
       "width": null
      }
     },
     "61b33f03f4dd4598904a33b09a062bce": {
      "model_module": "@jupyter-widgets/controls",
      "model_module_version": "1.5.0",
      "model_name": "HTMLModel",
      "state": {
       "_dom_classes": [],
       "_model_module": "@jupyter-widgets/controls",
       "_model_module_version": "1.5.0",
       "_model_name": "HTMLModel",
       "_view_count": null,
       "_view_module": "@jupyter-widgets/controls",
       "_view_module_version": "1.5.0",
       "_view_name": "HTMLView",
       "description": "",
       "description_tooltip": null,
       "layout": "IPY_MODEL_5e810250a6ea4967a995d1bc7de104de",
       "placeholder": "​",
       "style": "IPY_MODEL_4ea4a9fffeca4f86a2ace0614b0a2d43",
       "value": " 53382/53382 [35:13&lt;00:00, 25.25it/s]"
      }
     },
     "6b1886f75fa141939c25735170d2eac5": {
      "model_module": "@jupyter-widgets/controls",
      "model_module_version": "1.5.0",
      "model_name": "HBoxModel",
      "state": {
       "_dom_classes": [],
       "_model_module": "@jupyter-widgets/controls",
       "_model_module_version": "1.5.0",
       "_model_name": "HBoxModel",
       "_view_count": null,
       "_view_module": "@jupyter-widgets/controls",
       "_view_module_version": "1.5.0",
       "_view_name": "HBoxView",
       "box_style": "",
       "children": [
        "IPY_MODEL_72c699e2ea3448ab85a28e523f26e2b0",
        "IPY_MODEL_973667b088474c1cbea07d5d5da081ad"
       ],
       "layout": "IPY_MODEL_4b1f1dcb9dc34f43b19a08efc462b123"
      }
     },
     "6b7033e86b9149c6b289caf9bffa6c85": {
      "model_module": "@jupyter-widgets/base",
      "model_module_version": "1.2.0",
      "model_name": "LayoutModel",
      "state": {
       "_model_module": "@jupyter-widgets/base",
       "_model_module_version": "1.2.0",
       "_model_name": "LayoutModel",
       "_view_count": null,
       "_view_module": "@jupyter-widgets/base",
       "_view_module_version": "1.2.0",
       "_view_name": "LayoutView",
       "align_content": null,
       "align_items": null,
       "align_self": null,
       "border": null,
       "bottom": null,
       "display": null,
       "flex": null,
       "flex_flow": null,
       "grid_area": null,
       "grid_auto_columns": null,
       "grid_auto_flow": null,
       "grid_auto_rows": null,
       "grid_column": null,
       "grid_gap": null,
       "grid_row": null,
       "grid_template_areas": null,
       "grid_template_columns": null,
       "grid_template_rows": null,
       "height": null,
       "justify_content": null,
       "justify_items": null,
       "left": null,
       "margin": null,
       "max_height": null,
       "max_width": null,
       "min_height": null,
       "min_width": null,
       "object_fit": null,
       "object_position": null,
       "order": null,
       "overflow": null,
       "overflow_x": null,
       "overflow_y": null,
       "padding": null,
       "right": null,
       "top": null,
       "visibility": null,
       "width": null
      }
     },
     "6ef8253276f3490e90bcf378590c0807": {
      "model_module": "@jupyter-widgets/base",
      "model_module_version": "1.2.0",
      "model_name": "LayoutModel",
      "state": {
       "_model_module": "@jupyter-widgets/base",
       "_model_module_version": "1.2.0",
       "_model_name": "LayoutModel",
       "_view_count": null,
       "_view_module": "@jupyter-widgets/base",
       "_view_module_version": "1.2.0",
       "_view_name": "LayoutView",
       "align_content": null,
       "align_items": null,
       "align_self": null,
       "border": null,
       "bottom": null,
       "display": null,
       "flex": null,
       "flex_flow": null,
       "grid_area": null,
       "grid_auto_columns": null,
       "grid_auto_flow": null,
       "grid_auto_rows": null,
       "grid_column": null,
       "grid_gap": null,
       "grid_row": null,
       "grid_template_areas": null,
       "grid_template_columns": null,
       "grid_template_rows": null,
       "height": null,
       "justify_content": null,
       "justify_items": null,
       "left": null,
       "margin": null,
       "max_height": null,
       "max_width": null,
       "min_height": null,
       "min_width": null,
       "object_fit": null,
       "object_position": null,
       "order": null,
       "overflow": null,
       "overflow_x": null,
       "overflow_y": null,
       "padding": null,
       "right": null,
       "top": null,
       "visibility": null,
       "width": null
      }
     },
     "72c699e2ea3448ab85a28e523f26e2b0": {
      "model_module": "@jupyter-widgets/controls",
      "model_module_version": "1.5.0",
      "model_name": "FloatProgressModel",
      "state": {
       "_dom_classes": [],
       "_model_module": "@jupyter-widgets/controls",
       "_model_module_version": "1.5.0",
       "_model_name": "FloatProgressModel",
       "_view_count": null,
       "_view_module": "@jupyter-widgets/controls",
       "_view_module_version": "1.5.0",
       "_view_name": "ProgressView",
       "bar_style": "success",
       "description": "100%",
       "description_tooltip": null,
       "layout": "IPY_MODEL_d19ed211d7744a21b385b0c56d73824f",
       "max": 53382,
       "min": 0,
       "orientation": "horizontal",
       "style": "IPY_MODEL_27248440896849b285c975ac2a920b31",
       "value": 53382
      }
     },
     "7dacf5a543624730b6e0c5d0aca01d28": {
      "model_module": "@jupyter-widgets/base",
      "model_module_version": "1.2.0",
      "model_name": "LayoutModel",
      "state": {
       "_model_module": "@jupyter-widgets/base",
       "_model_module_version": "1.2.0",
       "_model_name": "LayoutModel",
       "_view_count": null,
       "_view_module": "@jupyter-widgets/base",
       "_view_module_version": "1.2.0",
       "_view_name": "LayoutView",
       "align_content": null,
       "align_items": null,
       "align_self": null,
       "border": null,
       "bottom": null,
       "display": null,
       "flex": null,
       "flex_flow": null,
       "grid_area": null,
       "grid_auto_columns": null,
       "grid_auto_flow": null,
       "grid_auto_rows": null,
       "grid_column": null,
       "grid_gap": null,
       "grid_row": null,
       "grid_template_areas": null,
       "grid_template_columns": null,
       "grid_template_rows": null,
       "height": null,
       "justify_content": null,
       "justify_items": null,
       "left": null,
       "margin": null,
       "max_height": null,
       "max_width": null,
       "min_height": null,
       "min_width": null,
       "object_fit": null,
       "object_position": null,
       "order": null,
       "overflow": null,
       "overflow_x": null,
       "overflow_y": null,
       "padding": null,
       "right": null,
       "top": null,
       "visibility": null,
       "width": null
      }
     },
     "84091fedfffd45e394aaf608c7ff6bbb": {
      "model_module": "@jupyter-widgets/controls",
      "model_module_version": "1.5.0",
      "model_name": "HTMLModel",
      "state": {
       "_dom_classes": [],
       "_model_module": "@jupyter-widgets/controls",
       "_model_module_version": "1.5.0",
       "_model_name": "HTMLModel",
       "_view_count": null,
       "_view_module": "@jupyter-widgets/controls",
       "_view_module_version": "1.5.0",
       "_view_name": "HTMLView",
       "description": "",
       "description_tooltip": null,
       "layout": "IPY_MODEL_b69519adbddd4778a09d5337f69ef891",
       "placeholder": "​",
       "style": "IPY_MODEL_c5e75503e7754fdc9248d82880ccff3d",
       "value": " 5/5 [06:48&lt;00:00, 81.64s/it]"
      }
     },
     "9152c2c9571f4d7c902d8e73dc352f29": {
      "model_module": "@jupyter-widgets/controls",
      "model_module_version": "1.5.0",
      "model_name": "ProgressStyleModel",
      "state": {
       "_model_module": "@jupyter-widgets/controls",
       "_model_module_version": "1.5.0",
       "_model_name": "ProgressStyleModel",
       "_view_count": null,
       "_view_module": "@jupyter-widgets/base",
       "_view_module_version": "1.2.0",
       "_view_name": "StyleView",
       "bar_color": null,
       "description_width": "initial"
      }
     },
     "973667b088474c1cbea07d5d5da081ad": {
      "model_module": "@jupyter-widgets/controls",
      "model_module_version": "1.5.0",
      "model_name": "HTMLModel",
      "state": {
       "_dom_classes": [],
       "_model_module": "@jupyter-widgets/controls",
       "_model_module_version": "1.5.0",
       "_model_name": "HTMLModel",
       "_view_count": null,
       "_view_module": "@jupyter-widgets/controls",
       "_view_module_version": "1.5.0",
       "_view_name": "HTMLView",
       "description": "",
       "description_tooltip": null,
       "layout": "IPY_MODEL_6ef8253276f3490e90bcf378590c0807",
       "placeholder": "​",
       "style": "IPY_MODEL_fe715691e86e46e4a4993cfdbca3f400",
       "value": " 53382/53382 [04:19&lt;00:00, 205.94it/s]"
      }
     },
     "a0a0f703b04c4d2287d3f6347d5967ae": {
      "model_module": "@jupyter-widgets/base",
      "model_module_version": "1.2.0",
      "model_name": "LayoutModel",
      "state": {
       "_model_module": "@jupyter-widgets/base",
       "_model_module_version": "1.2.0",
       "_model_name": "LayoutModel",
       "_view_count": null,
       "_view_module": "@jupyter-widgets/base",
       "_view_module_version": "1.2.0",
       "_view_name": "LayoutView",
       "align_content": null,
       "align_items": null,
       "align_self": null,
       "border": null,
       "bottom": null,
       "display": null,
       "flex": null,
       "flex_flow": null,
       "grid_area": null,
       "grid_auto_columns": null,
       "grid_auto_flow": null,
       "grid_auto_rows": null,
       "grid_column": null,
       "grid_gap": null,
       "grid_row": null,
       "grid_template_areas": null,
       "grid_template_columns": null,
       "grid_template_rows": null,
       "height": null,
       "justify_content": null,
       "justify_items": null,
       "left": null,
       "margin": null,
       "max_height": null,
       "max_width": null,
       "min_height": null,
       "min_width": null,
       "object_fit": null,
       "object_position": null,
       "order": null,
       "overflow": null,
       "overflow_x": null,
       "overflow_y": null,
       "padding": null,
       "right": null,
       "top": null,
       "visibility": null,
       "width": null
      }
     },
     "a2e89df75c8c44f8be746be9fed3ff0d": {
      "model_module": "@jupyter-widgets/base",
      "model_module_version": "1.2.0",
      "model_name": "LayoutModel",
      "state": {
       "_model_module": "@jupyter-widgets/base",
       "_model_module_version": "1.2.0",
       "_model_name": "LayoutModel",
       "_view_count": null,
       "_view_module": "@jupyter-widgets/base",
       "_view_module_version": "1.2.0",
       "_view_name": "LayoutView",
       "align_content": null,
       "align_items": null,
       "align_self": null,
       "border": null,
       "bottom": null,
       "display": null,
       "flex": null,
       "flex_flow": null,
       "grid_area": null,
       "grid_auto_columns": null,
       "grid_auto_flow": null,
       "grid_auto_rows": null,
       "grid_column": null,
       "grid_gap": null,
       "grid_row": null,
       "grid_template_areas": null,
       "grid_template_columns": null,
       "grid_template_rows": null,
       "height": null,
       "justify_content": null,
       "justify_items": null,
       "left": null,
       "margin": null,
       "max_height": null,
       "max_width": null,
       "min_height": null,
       "min_width": null,
       "object_fit": null,
       "object_position": null,
       "order": null,
       "overflow": null,
       "overflow_x": null,
       "overflow_y": null,
       "padding": null,
       "right": null,
       "top": null,
       "visibility": null,
       "width": null
      }
     },
     "a773f8ccc5494b67b9d694218b97834d": {
      "model_module": "@jupyter-widgets/controls",
      "model_module_version": "1.5.0",
      "model_name": "HBoxModel",
      "state": {
       "_dom_classes": [],
       "_model_module": "@jupyter-widgets/controls",
       "_model_module_version": "1.5.0",
       "_model_name": "HBoxModel",
       "_view_count": null,
       "_view_module": "@jupyter-widgets/controls",
       "_view_module_version": "1.5.0",
       "_view_name": "HBoxView",
       "box_style": "",
       "children": [
        "IPY_MODEL_1b4c5b4d73dd4549920b350b815993e0",
        "IPY_MODEL_437c1476e9e7410d9cba8f2535c04e5f"
       ],
       "layout": "IPY_MODEL_7dacf5a543624730b6e0c5d0aca01d28"
      }
     },
     "b1bb40f57dbb4b459bc9a0e5f91c537a": {
      "model_module": "@jupyter-widgets/base",
      "model_module_version": "1.2.0",
      "model_name": "LayoutModel",
      "state": {
       "_model_module": "@jupyter-widgets/base",
       "_model_module_version": "1.2.0",
       "_model_name": "LayoutModel",
       "_view_count": null,
       "_view_module": "@jupyter-widgets/base",
       "_view_module_version": "1.2.0",
       "_view_name": "LayoutView",
       "align_content": null,
       "align_items": null,
       "align_self": null,
       "border": null,
       "bottom": null,
       "display": null,
       "flex": null,
       "flex_flow": null,
       "grid_area": null,
       "grid_auto_columns": null,
       "grid_auto_flow": null,
       "grid_auto_rows": null,
       "grid_column": null,
       "grid_gap": null,
       "grid_row": null,
       "grid_template_areas": null,
       "grid_template_columns": null,
       "grid_template_rows": null,
       "height": null,
       "justify_content": null,
       "justify_items": null,
       "left": null,
       "margin": null,
       "max_height": null,
       "max_width": null,
       "min_height": null,
       "min_width": null,
       "object_fit": null,
       "object_position": null,
       "order": null,
       "overflow": null,
       "overflow_x": null,
       "overflow_y": null,
       "padding": null,
       "right": null,
       "top": null,
       "visibility": null,
       "width": null
      }
     },
     "b69519adbddd4778a09d5337f69ef891": {
      "model_module": "@jupyter-widgets/base",
      "model_module_version": "1.2.0",
      "model_name": "LayoutModel",
      "state": {
       "_model_module": "@jupyter-widgets/base",
       "_model_module_version": "1.2.0",
       "_model_name": "LayoutModel",
       "_view_count": null,
       "_view_module": "@jupyter-widgets/base",
       "_view_module_version": "1.2.0",
       "_view_name": "LayoutView",
       "align_content": null,
       "align_items": null,
       "align_self": null,
       "border": null,
       "bottom": null,
       "display": null,
       "flex": null,
       "flex_flow": null,
       "grid_area": null,
       "grid_auto_columns": null,
       "grid_auto_flow": null,
       "grid_auto_rows": null,
       "grid_column": null,
       "grid_gap": null,
       "grid_row": null,
       "grid_template_areas": null,
       "grid_template_columns": null,
       "grid_template_rows": null,
       "height": null,
       "justify_content": null,
       "justify_items": null,
       "left": null,
       "margin": null,
       "max_height": null,
       "max_width": null,
       "min_height": null,
       "min_width": null,
       "object_fit": null,
       "object_position": null,
       "order": null,
       "overflow": null,
       "overflow_x": null,
       "overflow_y": null,
       "padding": null,
       "right": null,
       "top": null,
       "visibility": null,
       "width": null
      }
     },
     "c0802b0dbc804ff1a1c85d550a1c4748": {
      "model_module": "@jupyter-widgets/controls",
      "model_module_version": "1.5.0",
      "model_name": "DescriptionStyleModel",
      "state": {
       "_model_module": "@jupyter-widgets/controls",
       "_model_module_version": "1.5.0",
       "_model_name": "DescriptionStyleModel",
       "_view_count": null,
       "_view_module": "@jupyter-widgets/base",
       "_view_module_version": "1.2.0",
       "_view_name": "StyleView",
       "description_width": ""
      }
     },
     "c19162e6f6f1400592bd82c1d76fb1b8": {
      "model_module": "@jupyter-widgets/controls",
      "model_module_version": "1.5.0",
      "model_name": "ProgressStyleModel",
      "state": {
       "_model_module": "@jupyter-widgets/controls",
       "_model_module_version": "1.5.0",
       "_model_name": "ProgressStyleModel",
       "_view_count": null,
       "_view_module": "@jupyter-widgets/base",
       "_view_module_version": "1.2.0",
       "_view_name": "StyleView",
       "bar_color": null,
       "description_width": "initial"
      }
     },
     "c4275ceb03c24b4eae641a866eee45df": {
      "model_module": "@jupyter-widgets/controls",
      "model_module_version": "1.5.0",
      "model_name": "FloatProgressModel",
      "state": {
       "_dom_classes": [],
       "_model_module": "@jupyter-widgets/controls",
       "_model_module_version": "1.5.0",
       "_model_name": "FloatProgressModel",
       "_view_count": null,
       "_view_module": "@jupyter-widgets/controls",
       "_view_module_version": "1.5.0",
       "_view_name": "ProgressView",
       "bar_style": "success",
       "description": "100%",
       "description_tooltip": null,
       "layout": "IPY_MODEL_b1bb40f57dbb4b459bc9a0e5f91c537a",
       "max": 53382,
       "min": 0,
       "orientation": "horizontal",
       "style": "IPY_MODEL_c19162e6f6f1400592bd82c1d76fb1b8",
       "value": 53382
      }
     },
     "c5e75503e7754fdc9248d82880ccff3d": {
      "model_module": "@jupyter-widgets/controls",
      "model_module_version": "1.5.0",
      "model_name": "DescriptionStyleModel",
      "state": {
       "_model_module": "@jupyter-widgets/controls",
       "_model_module_version": "1.5.0",
       "_model_name": "DescriptionStyleModel",
       "_view_count": null,
       "_view_module": "@jupyter-widgets/base",
       "_view_module_version": "1.2.0",
       "_view_name": "StyleView",
       "description_width": ""
      }
     },
     "cde5ba9813a748f0ae8f4758b34a6ca8": {
      "model_module": "@jupyter-widgets/base",
      "model_module_version": "1.2.0",
      "model_name": "LayoutModel",
      "state": {
       "_model_module": "@jupyter-widgets/base",
       "_model_module_version": "1.2.0",
       "_model_name": "LayoutModel",
       "_view_count": null,
       "_view_module": "@jupyter-widgets/base",
       "_view_module_version": "1.2.0",
       "_view_name": "LayoutView",
       "align_content": null,
       "align_items": null,
       "align_self": null,
       "border": null,
       "bottom": null,
       "display": null,
       "flex": null,
       "flex_flow": null,
       "grid_area": null,
       "grid_auto_columns": null,
       "grid_auto_flow": null,
       "grid_auto_rows": null,
       "grid_column": null,
       "grid_gap": null,
       "grid_row": null,
       "grid_template_areas": null,
       "grid_template_columns": null,
       "grid_template_rows": null,
       "height": null,
       "justify_content": null,
       "justify_items": null,
       "left": null,
       "margin": null,
       "max_height": null,
       "max_width": null,
       "min_height": null,
       "min_width": null,
       "object_fit": null,
       "object_position": null,
       "order": null,
       "overflow": null,
       "overflow_x": null,
       "overflow_y": null,
       "padding": null,
       "right": null,
       "top": null,
       "visibility": null,
       "width": null
      }
     },
     "d19ed211d7744a21b385b0c56d73824f": {
      "model_module": "@jupyter-widgets/base",
      "model_module_version": "1.2.0",
      "model_name": "LayoutModel",
      "state": {
       "_model_module": "@jupyter-widgets/base",
       "_model_module_version": "1.2.0",
       "_model_name": "LayoutModel",
       "_view_count": null,
       "_view_module": "@jupyter-widgets/base",
       "_view_module_version": "1.2.0",
       "_view_name": "LayoutView",
       "align_content": null,
       "align_items": null,
       "align_self": null,
       "border": null,
       "bottom": null,
       "display": null,
       "flex": null,
       "flex_flow": null,
       "grid_area": null,
       "grid_auto_columns": null,
       "grid_auto_flow": null,
       "grid_auto_rows": null,
       "grid_column": null,
       "grid_gap": null,
       "grid_row": null,
       "grid_template_areas": null,
       "grid_template_columns": null,
       "grid_template_rows": null,
       "height": null,
       "justify_content": null,
       "justify_items": null,
       "left": null,
       "margin": null,
       "max_height": null,
       "max_width": null,
       "min_height": null,
       "min_width": null,
       "object_fit": null,
       "object_position": null,
       "order": null,
       "overflow": null,
       "overflow_x": null,
       "overflow_y": null,
       "padding": null,
       "right": null,
       "top": null,
       "visibility": null,
       "width": null
      }
     },
     "d23ebe2459144c30bd05966ec4409ae5": {
      "model_module": "@jupyter-widgets/base",
      "model_module_version": "1.2.0",
      "model_name": "LayoutModel",
      "state": {
       "_model_module": "@jupyter-widgets/base",
       "_model_module_version": "1.2.0",
       "_model_name": "LayoutModel",
       "_view_count": null,
       "_view_module": "@jupyter-widgets/base",
       "_view_module_version": "1.2.0",
       "_view_name": "LayoutView",
       "align_content": null,
       "align_items": null,
       "align_self": null,
       "border": null,
       "bottom": null,
       "display": null,
       "flex": null,
       "flex_flow": null,
       "grid_area": null,
       "grid_auto_columns": null,
       "grid_auto_flow": null,
       "grid_auto_rows": null,
       "grid_column": null,
       "grid_gap": null,
       "grid_row": null,
       "grid_template_areas": null,
       "grid_template_columns": null,
       "grid_template_rows": null,
       "height": null,
       "justify_content": null,
       "justify_items": null,
       "left": null,
       "margin": null,
       "max_height": null,
       "max_width": null,
       "min_height": null,
       "min_width": null,
       "object_fit": null,
       "object_position": null,
       "order": null,
       "overflow": null,
       "overflow_x": null,
       "overflow_y": null,
       "padding": null,
       "right": null,
       "top": null,
       "visibility": null,
       "width": null
      }
     },
     "d8b6c957d0e34d6ab2a317e03e1af5cb": {
      "model_module": "@jupyter-widgets/controls",
      "model_module_version": "1.5.0",
      "model_name": "ProgressStyleModel",
      "state": {
       "_model_module": "@jupyter-widgets/controls",
       "_model_module_version": "1.5.0",
       "_model_name": "ProgressStyleModel",
       "_view_count": null,
       "_view_module": "@jupyter-widgets/base",
       "_view_module_version": "1.2.0",
       "_view_name": "StyleView",
       "bar_color": null,
       "description_width": "initial"
      }
     },
     "e9a281b8e2bd4c16a45711880621e311": {
      "model_module": "@jupyter-widgets/controls",
      "model_module_version": "1.5.0",
      "model_name": "HTMLModel",
      "state": {
       "_dom_classes": [],
       "_model_module": "@jupyter-widgets/controls",
       "_model_module_version": "1.5.0",
       "_model_name": "HTMLModel",
       "_view_count": null,
       "_view_module": "@jupyter-widgets/controls",
       "_view_module_version": "1.5.0",
       "_view_name": "HTMLView",
       "description": "",
       "description_tooltip": null,
       "layout": "IPY_MODEL_d23ebe2459144c30bd05966ec4409ae5",
       "placeholder": "​",
       "style": "IPY_MODEL_4581df6014ec4ed49146dbf0314c06fb",
       "value": " 53382/53382 [23:47&lt;00:00, 37.39it/s]"
      }
     },
     "f9136448a44e46ab90af5e5e5d1deb74": {
      "model_module": "@jupyter-widgets/controls",
      "model_module_version": "1.5.0",
      "model_name": "HBoxModel",
      "state": {
       "_dom_classes": [],
       "_model_module": "@jupyter-widgets/controls",
       "_model_module_version": "1.5.0",
       "_model_name": "HBoxModel",
       "_view_count": null,
       "_view_module": "@jupyter-widgets/controls",
       "_view_module_version": "1.5.0",
       "_view_name": "HBoxView",
       "box_style": "",
       "children": [
        "IPY_MODEL_126895f81a41411a87e799e6228b44a8",
        "IPY_MODEL_e9a281b8e2bd4c16a45711880621e311"
       ],
       "layout": "IPY_MODEL_a0a0f703b04c4d2287d3f6347d5967ae"
      }
     },
     "fe715691e86e46e4a4993cfdbca3f400": {
      "model_module": "@jupyter-widgets/controls",
      "model_module_version": "1.5.0",
      "model_name": "DescriptionStyleModel",
      "state": {
       "_model_module": "@jupyter-widgets/controls",
       "_model_module_version": "1.5.0",
       "_model_name": "DescriptionStyleModel",
       "_view_count": null,
       "_view_module": "@jupyter-widgets/base",
       "_view_module_version": "1.2.0",
       "_view_name": "StyleView",
       "description_width": ""
      }
     }
    },
    "version_major": 2,
    "version_minor": 0
   }
  }
 },
 "nbformat": 4,
 "nbformat_minor": 4
}
