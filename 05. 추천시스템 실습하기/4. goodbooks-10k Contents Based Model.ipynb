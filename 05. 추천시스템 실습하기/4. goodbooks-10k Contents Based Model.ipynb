{
 "cells": [
  {
   "cell_type": "markdown",
   "metadata": {},
   "source": [
    "# 1. Goodbooks-10k \n",
    "- Link : https://www.kaggle.com/zygmunt/goodbooks-10k"
   ]
  },
  {
   "cell_type": "code",
   "execution_count": 1,
   "metadata": {},
   "outputs": [],
   "source": [
    "import pandas as pd\n",
    "import numpy as np\n",
    "import plotnine \n",
    "from plotnine import *\n",
    "import os, sys, gc\n",
    "from tqdm.notebook import tqdm\n",
    "import warnings \n",
    "warnings.filterwarnings('ignore')"
   ]
  },
  {
   "cell_type": "code",
   "execution_count": 2,
   "metadata": {},
   "outputs": [
    {
     "name": "stdout",
     "output_type": "stream",
     "text": [
      "['books.csv', 'book_tags.csv', 'ratings.csv', 'sample_book.xml', 'tags.csv', 'test.csv', 'to_read.csv', 'train.csv']\n"
     ]
    }
   ],
   "source": [
    "path = './input/books/'\n",
    "print(os.listdir(path))"
   ]
  },
  {
   "cell_type": "code",
   "execution_count": 108,
   "metadata": {},
   "outputs": [],
   "source": [
    "books = pd.read_csv(path + \"books.csv\")\n",
    "book_tags = pd.read_csv(path + \"book_tags.csv\")\n",
    "train = pd.read_csv(path + \"train.csv\")\n",
    "test = pd.read_csv(path + \"test.csv\")\n",
    "tags = pd.read_csv(path + \"tags.csv\")\n",
    "to_read = pd.read_csv(path + \"to_read.csv\")"
   ]
  },
  {
   "cell_type": "code",
   "execution_count": 109,
   "metadata": {},
   "outputs": [],
   "source": [
    "train['book_id'] = train['book_id'].astype(str)\n",
    "test['book_id'] = test['book_id'].astype(str)\n",
    "books['book_id'] = books['book_id'].astype(str)"
   ]
  },
  {
   "cell_type": "code",
   "execution_count": 5,
   "metadata": {},
   "outputs": [],
   "source": [
    "popular_rec_model = books.sort_values(by='books_count', ascending=False)['book_id'].values[0:500]"
   ]
  },
  {
   "cell_type": "code",
   "execution_count": 6,
   "metadata": {},
   "outputs": [
    {
     "data": {
      "application/vnd.jupyter.widget-view+json": {
       "model_id": "c0dda209b92249ba954b3c35c55ffd4d",
       "version_major": 2,
       "version_minor": 0
      },
      "text/plain": [
       "HBox(children=(FloatProgress(value=0.0, max=53424.0), HTML(value='')))"
      ]
     },
     "metadata": {},
     "output_type": "display_data"
    },
    {
     "name": "stdout",
     "output_type": "stream",
     "text": [
      "\n"
     ]
    }
   ],
   "source": [
    "sol = test.groupby(['user_id'])['book_id'].agg({'unique'}).reset_index()\n",
    "gt = {}\n",
    "for user in tqdm(sol['user_id'].unique()): \n",
    "    gt[user] = list(sol[sol['user_id'] == user]['unique'].values[0])"
   ]
  },
  {
   "cell_type": "code",
   "execution_count": 7,
   "metadata": {},
   "outputs": [],
   "source": [
    "rec_df = pd.DataFrame()\n",
    "rec_df['user_id'] = train['user_id'].unique()"
   ]
  },
  {
   "cell_type": "markdown",
   "metadata": {},
   "source": [
    "## TF-IDF를 이용한 Contents Based Model "
   ]
  },
  {
   "cell_type": "code",
   "execution_count": 8,
   "metadata": {},
   "outputs": [
    {
     "name": "stdout",
     "output_type": "stream",
     "text": [
      "(10000, 9019)\n"
     ]
    }
   ],
   "source": [
    "from sklearn.feature_extraction.text import TfidfVectorizer\n",
    "\n",
    "tfidf = TfidfVectorizer(stop_words='english')\n",
    "tfidf_matrix = tfidf.fit_transform(books['title'])\n",
    "print(tfidf_matrix.shape)"
   ]
  },
  {
   "cell_type": "code",
   "execution_count": 9,
   "metadata": {},
   "outputs": [
    {
     "data": {
      "text/plain": [
       "(10000, 10000)"
      ]
     },
     "execution_count": 9,
     "metadata": {},
     "output_type": "execute_result"
    }
   ],
   "source": [
    "from sklearn.metrics.pairwise import cosine_similarity\n",
    "cosine_matrix = cosine_similarity(tfidf_matrix, tfidf_matrix)\n",
    "cosine_matrix.shape"
   ]
  },
  {
   "cell_type": "code",
   "execution_count": 10,
   "metadata": {},
   "outputs": [],
   "source": [
    "# book title와 id를 매핑할 dictionary를 생성해줍니다. \n",
    "book2id = {}\n",
    "for i, c in enumerate(books['title']): book2id[i] = c\n",
    "\n",
    "# id와 book title를 매핑할 dictionary를 생성해줍니다. \n",
    "id2book = {}\n",
    "for i, c in book2id.items(): id2book[c] = i\n",
    "    \n",
    "# book_id와 title를 매핑할 dictionary를 생성해줍니다.\n",
    "bookid2book = {}\n",
    "for i, j in zip(books['title'].values, books['book_id'].values):\n",
    "    bookid2book[i] = j"
   ]
  },
  {
   "cell_type": "code",
   "execution_count": 11,
   "metadata": {},
   "outputs": [
    {
     "data": {
      "text/plain": [
       "0              The Hunger Games (The Hunger Games, #1)\n",
       "1    Harry Potter and the Sorcerer's Stone (Harry P...\n",
       "2                              Twilight (Twilight, #1)\n",
       "3                                To Kill a Mockingbird\n",
       "4                                     The Great Gatsby\n",
       "Name: title, dtype: object"
      ]
     },
     "execution_count": 11,
     "metadata": {},
     "output_type": "execute_result"
    }
   ],
   "source": [
    "books['title'].head()"
   ]
  },
  {
   "cell_type": "code",
   "execution_count": 12,
   "metadata": {},
   "outputs": [
    {
     "data": {
      "text/plain": [
       "[('The Twilight Saga (Twilight, #1-4)', 0.920347418277986),\n",
       " ('The Twilight Collection (Twilight, #1-3)', 0.8786339079447184),\n",
       " ('The Twilight Saga Complete Collection  (Twilight, #1-4 + 3.5)',\n",
       "  0.7697532056304309),\n",
       " ('Twilight and History', 0.7465001575650626),\n",
       " ('The Twilight Saga: The Official Illustrated Guide (Twilight, #4.5)',\n",
       "  0.7045174300631831),\n",
       " ('Twilight Eyes', 0.6770737331426326),\n",
       " ('Twilight (The Mediator, #6)', 0.6377631333498953),\n",
       " ('New Moon (Twilight, #2)', 0.6185575138625542),\n",
       " ('Eclipse (Twilight, #3)', 0.612819563854136),\n",
       " ('The Servants of Twilight', 0.5837817298466093)]"
      ]
     },
     "execution_count": 12,
     "metadata": {},
     "output_type": "execute_result"
    }
   ],
   "source": [
    "idx = id2book['Twilight (Twilight, #1)']  \n",
    "sim_scores = [(book2id[i], c) for i, c in enumerate(cosine_matrix[idx]) if i != idx] \n",
    "sim_scores = sorted(sim_scores, key = lambda x: x[1], reverse=True)\n",
    "sim_scores[0:10] "
   ]
  },
  {
   "cell_type": "markdown",
   "metadata": {},
   "source": [
    "0. 학습셋에서 제목이 있는 경우에 대해서만 진행\n",
    "1. 각 유저별로 읽은 책의 목록을 수집 \n",
    "2. 읽은 책과 유사한 책 추출 \n",
    "3. 모든 책에 대해서 유사도를 더한 값을 계산 \n",
    "4. 3에서 유사도가 가장 높은 순서대로 추출 "
   ]
  },
  {
   "cell_type": "code",
   "execution_count": 13,
   "metadata": {},
   "outputs": [
    {
     "data": {
      "text/html": [
       "<div>\n",
       "<style scoped>\n",
       "    .dataframe tbody tr th:only-of-type {\n",
       "        vertical-align: middle;\n",
       "    }\n",
       "\n",
       "    .dataframe tbody tr th {\n",
       "        vertical-align: top;\n",
       "    }\n",
       "\n",
       "    .dataframe thead th {\n",
       "        text-align: right;\n",
       "    }\n",
       "</style>\n",
       "<table border=\"1\" class=\"dataframe\">\n",
       "  <thead>\n",
       "    <tr style=\"text-align: right;\">\n",
       "      <th></th>\n",
       "      <th>user_id</th>\n",
       "      <th>book_id</th>\n",
       "      <th>title</th>\n",
       "    </tr>\n",
       "  </thead>\n",
       "  <tbody>\n",
       "    <tr>\n",
       "      <th>0</th>\n",
       "      <td>1</td>\n",
       "      <td>4893</td>\n",
       "      <td>NaN</td>\n",
       "    </tr>\n",
       "    <tr>\n",
       "      <th>1</th>\n",
       "      <td>2</td>\n",
       "      <td>8855</td>\n",
       "      <td>NaN</td>\n",
       "    </tr>\n",
       "    <tr>\n",
       "      <th>2</th>\n",
       "      <td>3</td>\n",
       "      <td>9049</td>\n",
       "      <td>NaN</td>\n",
       "    </tr>\n",
       "    <tr>\n",
       "      <th>3</th>\n",
       "      <td>4</td>\n",
       "      <td>3273</td>\n",
       "      <td>Moloka'i</td>\n",
       "    </tr>\n",
       "    <tr>\n",
       "      <th>4</th>\n",
       "      <td>5</td>\n",
       "      <td>4829</td>\n",
       "      <td>NaN</td>\n",
       "    </tr>\n",
       "  </tbody>\n",
       "</table>\n",
       "</div>"
      ],
      "text/plain": [
       "   user_id book_id     title\n",
       "0        1    4893       NaN\n",
       "1        2    8855       NaN\n",
       "2        3    9049       NaN\n",
       "3        4    3273  Moloka'i\n",
       "4        5    4829       NaN"
      ]
     },
     "execution_count": 13,
     "metadata": {},
     "output_type": "execute_result"
    }
   ],
   "source": [
    "train = pd.merge(train, books[['book_id', 'title']], how='left', on='book_id')\n",
    "train.head()"
   ]
  },
  {
   "cell_type": "code",
   "execution_count": 14,
   "metadata": {},
   "outputs": [
    {
     "data": {
      "text/html": [
       "<div>\n",
       "<style scoped>\n",
       "    .dataframe tbody tr th:only-of-type {\n",
       "        vertical-align: middle;\n",
       "    }\n",
       "\n",
       "    .dataframe tbody tr th {\n",
       "        vertical-align: top;\n",
       "    }\n",
       "\n",
       "    .dataframe thead th {\n",
       "        text-align: right;\n",
       "    }\n",
       "</style>\n",
       "<table border=\"1\" class=\"dataframe\">\n",
       "  <thead>\n",
       "    <tr style=\"text-align: right;\">\n",
       "      <th></th>\n",
       "      <th>user_id</th>\n",
       "      <th>book_id</th>\n",
       "      <th>title</th>\n",
       "      <th>idx2title</th>\n",
       "    </tr>\n",
       "  </thead>\n",
       "  <tbody>\n",
       "    <tr>\n",
       "      <th>0</th>\n",
       "      <td>4</td>\n",
       "      <td>3273</td>\n",
       "      <td>Moloka'i</td>\n",
       "      <td>1215</td>\n",
       "    </tr>\n",
       "    <tr>\n",
       "      <th>1</th>\n",
       "      <td>7</td>\n",
       "      <td>4138</td>\n",
       "      <td>Naked</td>\n",
       "      <td>343</td>\n",
       "    </tr>\n",
       "    <tr>\n",
       "      <th>2</th>\n",
       "      <td>7</td>\n",
       "      <td>4588</td>\n",
       "      <td>Extremely Loud and Incredibly Close</td>\n",
       "      <td>248</td>\n",
       "    </tr>\n",
       "    <tr>\n",
       "      <th>3</th>\n",
       "      <td>9</td>\n",
       "      <td>8676</td>\n",
       "      <td>Unlimited Power : The New Science Of Personal ...</td>\n",
       "      <td>4701</td>\n",
       "    </tr>\n",
       "    <tr>\n",
       "      <th>4</th>\n",
       "      <td>10</td>\n",
       "      <td>5907</td>\n",
       "      <td>The Hobbit</td>\n",
       "      <td>6</td>\n",
       "    </tr>\n",
       "  </tbody>\n",
       "</table>\n",
       "</div>"
      ],
      "text/plain": [
       "   user_id book_id                                              title  \\\n",
       "0        4    3273                                           Moloka'i   \n",
       "1        7    4138                                              Naked   \n",
       "2        7    4588                Extremely Loud and Incredibly Close   \n",
       "3        9    8676  Unlimited Power : The New Science Of Personal ...   \n",
       "4       10    5907                                         The Hobbit   \n",
       "\n",
       "   idx2title  \n",
       "0       1215  \n",
       "1        343  \n",
       "2        248  \n",
       "3       4701  \n",
       "4          6  "
      ]
     },
     "execution_count": 14,
     "metadata": {},
     "output_type": "execute_result"
    }
   ],
   "source": [
    "# 0. 학습셋에서 제목이 있는 경우에 대해서만 진행\n",
    "tf_train = train[train['title'].notnull()].reset_index(drop=True)\n",
    "tf_train['idx2title'] = tf_train['title'].apply(lambda x: id2book[x])\n",
    "tf_train.head()"
   ]
  },
  {
   "cell_type": "code",
   "execution_count": 15,
   "metadata": {},
   "outputs": [],
   "source": [
    "idx2title2book = {}\n",
    "for i, j in zip(tf_train['idx2title'].values, tf_train['book_id'].values):\n",
    "    idx2title2book[i] = j"
   ]
  },
  {
   "cell_type": "code",
   "execution_count": 16,
   "metadata": {},
   "outputs": [
    {
     "data": {
      "text/plain": [
       "array([343, 248], dtype=int64)"
      ]
     },
     "execution_count": 16,
     "metadata": {},
     "output_type": "execute_result"
    }
   ],
   "source": [
    "# 1. 각 유저별로 읽은 책의 목록을 수집 \n",
    "user = 7\n",
    "read_list = tf_train.groupby(['user_id'])['idx2title'].agg({'unique'}).reset_index()\n",
    "seen = read_list[read_list['user_id'] == user]['unique'].values[0]\n",
    "seen"
   ]
  },
  {
   "cell_type": "code",
   "execution_count": 17,
   "metadata": {},
   "outputs": [
    {
     "data": {
      "text/plain": [
       "array([0., 0., 0., ..., 0., 0., 0.])"
      ]
     },
     "execution_count": 17,
     "metadata": {},
     "output_type": "execute_result"
    }
   ],
   "source": [
    "# 2. 읽은 책과 유사한 책 추출 \n",
    "## 343번째 책과 다른 책들간의 유사도 \n",
    "cosine_matrix[343]"
   ]
  },
  {
   "cell_type": "code",
   "execution_count": 18,
   "metadata": {},
   "outputs": [],
   "source": [
    "# 2. 읽은 책과 유사한 책 추출 \n",
    "total_cosine_sim = np.zeros(len(book2id))\n",
    "for book_ in seen: \n",
    "    # 3. 모든 책에 대해서 유사도를 더한 값을 계산 \n",
    "    # 343번째 책과 248의 유사도가 모두 결합된 유사도\n",
    "    total_cosine_sim += cosine_matrix[book_]"
   ]
  },
  {
   "cell_type": "code",
   "execution_count": 19,
   "metadata": {},
   "outputs": [
    {
     "data": {
      "text/plain": [
       "[(4809, 0.793036327171204),\n",
       " (6199, 0.6915730356677104),\n",
       " (3194, 0.6607508855409738),\n",
       " (1570, 0.6390974315343301),\n",
       " (7393, 0.5820260477746269)]"
      ]
     },
     "execution_count": 19,
     "metadata": {},
     "output_type": "execute_result"
    }
   ],
   "source": [
    "# 4. 3에서 유사도가 가장 높은 순서대로 추출\n",
    "sim_scores = [(i, c) for i, c in enumerate(total_cosine_sim) if i not in seen] # 자기 자신을 제외한 영화들의 유사도 및 인덱스를 추출 \n",
    "sim_scores = sorted(sim_scores, key = lambda x: x[1], reverse=True) # 유사도가 높은 순서대로 정렬 \n",
    "sim_scores[0:5]"
   ]
  },
  {
   "cell_type": "code",
   "execution_count": 20,
   "metadata": {},
   "outputs": [
    {
     "data": {
      "text/plain": [
       "'The Naked and the Dead'"
      ]
     },
     "execution_count": 20,
     "metadata": {},
     "output_type": "execute_result"
    }
   ],
   "source": [
    "book2id[4809]"
   ]
  },
  {
   "cell_type": "code",
   "execution_count": 21,
   "metadata": {},
   "outputs": [
    {
     "data": {
      "text/plain": [
       "'12467'"
      ]
     },
     "execution_count": 21,
     "metadata": {},
     "output_type": "execute_result"
    }
   ],
   "source": [
    "bookid2book[book2id[4809]]"
   ]
  },
  {
   "cell_type": "code",
   "execution_count": 22,
   "metadata": {},
   "outputs": [
    {
     "data": {
      "text/plain": [
       "array([    4,     7,     9, ..., 53416, 53419, 53424], dtype=int64)"
      ]
     },
     "execution_count": 22,
     "metadata": {},
     "output_type": "execute_result"
    }
   ],
   "source": [
    "tf_train['user_id'].unique()"
   ]
  },
  {
   "cell_type": "code",
   "execution_count": 23,
   "metadata": {},
   "outputs": [
    {
     "data": {
      "text/html": [
       "<div>\n",
       "<style scoped>\n",
       "    .dataframe tbody tr th:only-of-type {\n",
       "        vertical-align: middle;\n",
       "    }\n",
       "\n",
       "    .dataframe tbody tr th {\n",
       "        vertical-align: top;\n",
       "    }\n",
       "\n",
       "    .dataframe thead th {\n",
       "        text-align: right;\n",
       "    }\n",
       "</style>\n",
       "<table border=\"1\" class=\"dataframe\">\n",
       "  <thead>\n",
       "    <tr style=\"text-align: right;\">\n",
       "      <th></th>\n",
       "      <th>user_id</th>\n",
       "      <th>book_id</th>\n",
       "      <th>title</th>\n",
       "      <th>idx2title</th>\n",
       "    </tr>\n",
       "  </thead>\n",
       "  <tbody>\n",
       "    <tr>\n",
       "      <th>0</th>\n",
       "      <td>4</td>\n",
       "      <td>3273</td>\n",
       "      <td>Moloka'i</td>\n",
       "      <td>1215</td>\n",
       "    </tr>\n",
       "    <tr>\n",
       "      <th>1</th>\n",
       "      <td>7</td>\n",
       "      <td>4138</td>\n",
       "      <td>Naked</td>\n",
       "      <td>343</td>\n",
       "    </tr>\n",
       "    <tr>\n",
       "      <th>2</th>\n",
       "      <td>7</td>\n",
       "      <td>4588</td>\n",
       "      <td>Extremely Loud and Incredibly Close</td>\n",
       "      <td>248</td>\n",
       "    </tr>\n",
       "    <tr>\n",
       "      <th>3</th>\n",
       "      <td>9</td>\n",
       "      <td>8676</td>\n",
       "      <td>Unlimited Power : The New Science Of Personal ...</td>\n",
       "      <td>4701</td>\n",
       "    </tr>\n",
       "    <tr>\n",
       "      <th>4</th>\n",
       "      <td>10</td>\n",
       "      <td>5907</td>\n",
       "      <td>The Hobbit</td>\n",
       "      <td>6</td>\n",
       "    </tr>\n",
       "  </tbody>\n",
       "</table>\n",
       "</div>"
      ],
      "text/plain": [
       "   user_id book_id                                              title  \\\n",
       "0        4    3273                                           Moloka'i   \n",
       "1        7    4138                                              Naked   \n",
       "2        7    4588                Extremely Loud and Incredibly Close   \n",
       "3        9    8676  Unlimited Power : The New Science Of Personal ...   \n",
       "4       10    5907                                         The Hobbit   \n",
       "\n",
       "   idx2title  \n",
       "0       1215  \n",
       "1        343  \n",
       "2        248  \n",
       "3       4701  \n",
       "4          6  "
      ]
     },
     "execution_count": 23,
     "metadata": {},
     "output_type": "execute_result"
    }
   ],
   "source": [
    "tf_train.head()"
   ]
  },
  {
   "cell_type": "code",
   "execution_count": 29,
   "metadata": {},
   "outputs": [
    {
     "data": {
      "application/vnd.jupyter.widget-view+json": {
       "model_id": "158f02c0a93b4e4ea8a6f4f213b57a78",
       "version_major": 2,
       "version_minor": 0
      },
      "text/plain": [
       "HBox(children=(FloatProgress(value=0.0, max=53382.0), HTML(value='')))"
      ]
     },
     "metadata": {},
     "output_type": "display_data"
    },
    {
     "name": "stdout",
     "output_type": "stream",
     "text": [
      "\n"
     ]
    }
   ],
   "source": [
    "## 전체 영화에 대해서 진행 \n",
    "total_rec_list = {}\n",
    "\n",
    "read_list1 = train.groupby(['user_id'])['book_id'].agg({'unique'}).reset_index()\n",
    "read_list2 = tf_train.groupby(['user_id'])['idx2title'].agg({'unique'}).reset_index()\n",
    "\n",
    "for user in tqdm(train['user_id'].unique()):\n",
    "    rec_list = []\n",
    "        \n",
    "    # 만약 TF-IDF 소속의 추천대상이라면 Contents 기반의 추천 \n",
    "    if user in tf_train['user_id'].unique():\n",
    "        # 1. 각 유저별로 읽은 책의 목록을 수집 \n",
    "        seen = read_list2[read_list2['user_id'] == user]['unique'].values[0]\n",
    "        # 2. 읽은 책과 유사한 책 추출 \n",
    "        total_cosine_sim = np.zeros(len(book2id))\n",
    "        for book_ in seen: \n",
    "            # 3. 모든 책에 대해서 유사도를 더한 값을 계산 \n",
    "            # 343번째 책과 248의 유사도가 모두 결합된 유사도\n",
    "            total_cosine_sim += cosine_matrix[book_]\n",
    "            \n",
    "        # 4. 3에서 유사도가 가장 높은 순서대로 추출\n",
    "        sim_scores = [(bookid2book[book2id[i]], c) for i, c in enumerate(total_cosine_sim) if i not in seen] # 자기 자신을 제외한 영화들의 유사도 및 인덱스를 추출 \n",
    "        recs = sorted(sim_scores, key = lambda x: x[1], reverse=True)[0:300] # 유사도가 높은 순서대로 정렬 \n",
    "        for rec in recs: \n",
    "            if rec not in seen:\n",
    "                rec_list.append(rec)   \n",
    "        \n",
    "    # 그렇지 않으면 인기도 기반의 추천 \n",
    "    else: \n",
    "        seen = read_list1[read_list1['user_id'] == user]['unique'].values[0]\n",
    "        for rec in popular_rec_model[0:400]:\n",
    "            if rec not in seen:\n",
    "                rec_list.append(rec)\n",
    "                \n",
    "    total_rec_list[user] = rec_list[0:200]"
   ]
  },
  {
   "cell_type": "code",
   "execution_count": 30,
   "metadata": {},
   "outputs": [],
   "source": [
    "import six\n",
    "import math\n",
    "\n",
    "# https://github.com/kakao-arena/brunch-article-recommendation/blob/master/evaluate.py\n",
    "\n",
    "class evaluate():\n",
    "    def __init__(self, recs, gt, topn=100):\n",
    "        self.recs = recs\n",
    "        self.gt = gt \n",
    "        self.topn = topn \n",
    "        \n",
    "    def _ndcg(self):\n",
    "        Q, S = 0.0, 0.0\n",
    "        for u, seen in six.iteritems(self.gt):\n",
    "            seen = list(set(seen))\n",
    "            rec = self.recs.get(u, [])\n",
    "            if not rec or len(seen) == 0:\n",
    "                continue\n",
    "\n",
    "            dcg = 0.0\n",
    "            idcg = sum([1.0 / math.log(i + 2, 2) for i in range(min(len(seen), len(rec)))])\n",
    "            for i, r in enumerate(rec):\n",
    "                if r not in seen:\n",
    "                    continue\n",
    "                rank = i + 1\n",
    "                dcg += 1.0 / math.log(rank + 1, 2)\n",
    "            ndcg = dcg / idcg\n",
    "            S += ndcg\n",
    "            Q += 1\n",
    "        return S / Q\n",
    "\n",
    "\n",
    "    def _map(self):\n",
    "        n, ap = 0.0, 0.0\n",
    "        for u, seen in six.iteritems(self.gt):\n",
    "            seen = list(set(seen))\n",
    "            rec = self.recs.get(u, [])\n",
    "            if not rec or len(seen) == 0:\n",
    "                continue\n",
    "\n",
    "            _ap, correct = 0.0, 0.0\n",
    "            for i, r in enumerate(rec):\n",
    "                if r in seen:\n",
    "                    correct += 1\n",
    "                    _ap += (correct / (i + 1.0))\n",
    "            _ap /= min(len(seen), len(rec))\n",
    "            ap += _ap\n",
    "            n += 1.0\n",
    "        return ap / n\n",
    "\n",
    "\n",
    "    def _entropy_diversity(self):\n",
    "        sz = float(len(self.recs)) * self.topn\n",
    "        freq = {}\n",
    "        for u, rec in six.iteritems(self.recs):\n",
    "            for r in rec:\n",
    "                freq[r] = freq.get(r, 0) + 1\n",
    "        ent = -sum([v / sz * math.log(v / sz) for v in six.itervalues(freq)])\n",
    "        return ent\n",
    "    \n",
    "    def _evaluate(self):\n",
    "        print('MAP@%s: %s' % (self.topn, self._map()))\n",
    "        print('NDCG@%s: %s' % (self.topn, self._ndcg()))\n",
    "        print('EntDiv@%s: %s' % (self.topn, self._entropy_diversity()))"
   ]
  },
  {
   "cell_type": "code",
   "execution_count": 31,
   "metadata": {},
   "outputs": [
    {
     "name": "stdout",
     "output_type": "stream",
     "text": [
      "MAP@200: 8.152674144049246e-05\n",
      "NDCG@200: 0.0008393198172755216\n",
      "EntDiv@200: 6.916260625417244\n"
     ]
    }
   ],
   "source": [
    "evaluate_func = evaluate(recs=total_rec_list, gt = gt, topn=200)\n",
    "evaluate_func._evaluate()"
   ]
  },
  {
   "cell_type": "markdown",
   "metadata": {},
   "source": [
    " ## Word2vec을 이용한 추천시스템 \n",
    " - Tag간의 유사도 \n",
    " - 제목간의 유사도 \n",
    " - 책의 읽은 순서를 통한 유사도 "
   ]
  },
  {
   "cell_type": "code",
   "execution_count": 34,
   "metadata": {},
   "outputs": [
    {
     "data": {
      "text/html": [
       "<div>\n",
       "<style scoped>\n",
       "    .dataframe tbody tr th:only-of-type {\n",
       "        vertical-align: middle;\n",
       "    }\n",
       "\n",
       "    .dataframe tbody tr th {\n",
       "        vertical-align: top;\n",
       "    }\n",
       "\n",
       "    .dataframe thead th {\n",
       "        text-align: right;\n",
       "    }\n",
       "</style>\n",
       "<table border=\"1\" class=\"dataframe\">\n",
       "  <thead>\n",
       "    <tr style=\"text-align: right;\">\n",
       "      <th></th>\n",
       "      <th>unique</th>\n",
       "    </tr>\n",
       "    <tr>\n",
       "      <th>user_id</th>\n",
       "      <th></th>\n",
       "    </tr>\n",
       "  </thead>\n",
       "  <tbody>\n",
       "    <tr>\n",
       "      <th>1</th>\n",
       "      <td>[4893]</td>\n",
       "    </tr>\n",
       "    <tr>\n",
       "      <th>2</th>\n",
       "      <td>[8855]</td>\n",
       "    </tr>\n",
       "    <tr>\n",
       "      <th>3</th>\n",
       "      <td>[9049]</td>\n",
       "    </tr>\n",
       "    <tr>\n",
       "      <th>4</th>\n",
       "      <td>[3273]</td>\n",
       "    </tr>\n",
       "    <tr>\n",
       "      <th>5</th>\n",
       "      <td>[4829, 6703]</td>\n",
       "    </tr>\n",
       "  </tbody>\n",
       "</table>\n",
       "</div>"
      ],
      "text/plain": [
       "               unique\n",
       "user_id              \n",
       "1              [4893]\n",
       "2              [8855]\n",
       "3              [9049]\n",
       "4              [3273]\n",
       "5        [4829, 6703]"
      ]
     },
     "execution_count": 34,
     "metadata": {},
     "output_type": "execute_result"
    }
   ],
   "source": [
    "agg = train.groupby(['user_id'])['book_id'].agg({'unique'})\n",
    "agg.head()"
   ]
  },
  {
   "cell_type": "code",
   "execution_count": 35,
   "metadata": {},
   "outputs": [],
   "source": [
    "# int형식은 Word2vec에서 학습이 안되어서 String으로 변경해줍니다. \n",
    "sentence = []\n",
    "for user_sentence in agg['unique'].values:\n",
    "    sentence.append(list(map(str, user_sentence)))"
   ]
  },
  {
   "cell_type": "code",
   "execution_count": 36,
   "metadata": {},
   "outputs": [],
   "source": [
    "# Word2vec의 학습을 진행해줍니다. \n",
    "from gensim.models import Word2Vec\n",
    "embedding_model = Word2Vec(sentence, size=20, window = 5, \n",
    "                           min_count=1, workers=4, iter=200, sg=1)"
   ]
  },
  {
   "cell_type": "code",
   "execution_count": 52,
   "metadata": {},
   "outputs": [
    {
     "data": {
      "text/plain": [
       "[('9864', 0.8487212657928467),\n",
       " ('8508', 0.841190755367279),\n",
       " ('2108', 0.8277672529220581),\n",
       " ('9984', 0.8241268396377563),\n",
       " ('8666', 0.8150913715362549),\n",
       " ('6291', 0.8139212131500244),\n",
       " ('5081', 0.8038250803947449),\n",
       " ('4348', 0.8029327392578125),\n",
       " ('9714', 0.800724983215332),\n",
       " ('9650', 0.7993171811103821)]"
      ]
     },
     "execution_count": 52,
     "metadata": {},
     "output_type": "execute_result"
    }
   ],
   "source": [
    "embedding_model.wv.most_similar(positive=['4893'], topn=10)"
   ]
  },
  {
   "cell_type": "code",
   "execution_count": 58,
   "metadata": {},
   "outputs": [],
   "source": [
    "word2vec_dict = {}\n",
    "for book in seen: \n",
    "    for i in embedding_model.wv.most_similar(positive=[book], topn=250): \n",
    "        if i[0] not in word2vec_dict.keys(): \n",
    "            word2vec_dict[i[0]] = i[1]\n",
    "        else:\n",
    "            word2vec_dict[i[0]] += i[1]"
   ]
  },
  {
   "cell_type": "code",
   "execution_count": 59,
   "metadata": {},
   "outputs": [
    {
     "data": {
      "text/plain": [
       "{'9864': 0.8487212657928467,\n",
       " '8508': 0.841190755367279,\n",
       " '2108': 0.8277672529220581,\n",
       " '9984': 0.8241268396377563,\n",
       " '8666': 0.8150913715362549,\n",
       " '6291': 0.8139212131500244,\n",
       " '5081': 0.8038250803947449,\n",
       " '4348': 0.8029327392578125,\n",
       " '9714': 0.800724983215332,\n",
       " '9650': 0.7993171811103821,\n",
       " '8618': 0.7968665361404419,\n",
       " '8675': 0.79576575756073,\n",
       " '7606': 0.7947741746902466,\n",
       " '9934': 0.791398286819458,\n",
       " '8469': 0.7885060906410217,\n",
       " '8033': 0.7873204946517944,\n",
       " '7375': 0.7872129678726196,\n",
       " '8239': 0.7834101915359497,\n",
       " '6204': 0.7806516885757446,\n",
       " '1778': 0.7803735733032227,\n",
       " '4292': 0.7797765731811523,\n",
       " '2022': 0.7775174975395203,\n",
       " '4780': 0.776070237159729,\n",
       " '6877': 0.7741109132766724,\n",
       " '8470': 0.7681140899658203,\n",
       " '8361': 0.7676546573638916,\n",
       " '8809': 0.7674790620803833,\n",
       " '8233': 0.7645250558853149,\n",
       " '8503': 0.7632824182510376,\n",
       " '4746': 0.762784481048584,\n",
       " '8891': 0.761664628982544,\n",
       " '5670': 0.7614864110946655,\n",
       " '7669': 0.760509729385376,\n",
       " '7370': 0.7572649717330933,\n",
       " '6825': 0.7545024156570435,\n",
       " '7198': 0.7525805830955505,\n",
       " '9324': 0.7511262893676758,\n",
       " '7264': 0.7487174868583679,\n",
       " '6335': 0.7479904890060425,\n",
       " '4894': 0.7470883131027222,\n",
       " '8160': 0.7458878755569458,\n",
       " '7205': 0.7439407706260681,\n",
       " '1333': 0.7418736219406128,\n",
       " '9323': 0.7405997514724731,\n",
       " '8996': 0.7402006387710571,\n",
       " '5387': 0.739243745803833,\n",
       " '6317': 0.7379162907600403,\n",
       " '6037': 0.7378262281417847,\n",
       " '7862': 0.737189531326294,\n",
       " '9679': 0.735867977142334,\n",
       " '6453': 0.7355057001113892,\n",
       " '6600': 0.7337268590927124,\n",
       " '7647': 0.7334020137786865,\n",
       " '8355': 0.7322476506233215,\n",
       " '8717': 0.7305450439453125,\n",
       " '9612': 0.7304885387420654,\n",
       " '7769': 0.730445384979248,\n",
       " '3734': 0.7304218411445618,\n",
       " '9990': 0.7270524501800537,\n",
       " '9819': 0.7268117070198059,\n",
       " '9004': 0.7260907292366028,\n",
       " '4475': 0.7258621454238892,\n",
       " '6166': 0.7254987955093384,\n",
       " '8923': 0.7249637842178345,\n",
       " '8152': 0.724791944026947,\n",
       " '6832': 0.7243043184280396,\n",
       " '6194': 0.7242247462272644,\n",
       " '5537': 0.7241148948669434,\n",
       " '7396': 0.7237707376480103,\n",
       " '4211': 0.7226717472076416,\n",
       " '5244': 0.7222093343734741,\n",
       " '6593': 0.7207332849502563,\n",
       " '5336': 0.7202266454696655,\n",
       " '8836': 0.7197972536087036,\n",
       " '5369': 0.7193641662597656,\n",
       " '8238': 0.7183089256286621,\n",
       " '4723': 0.7178671956062317,\n",
       " '5377': 0.7178194522857666,\n",
       " '8819': 0.7177243232727051,\n",
       " '8572': 0.7170666456222534,\n",
       " '2797': 0.7159098386764526,\n",
       " '7090': 0.7156904935836792,\n",
       " '7419': 0.7141578793525696,\n",
       " '3928': 0.7136049270629883,\n",
       " '6258': 0.7131126523017883,\n",
       " '4634': 0.7124675512313843,\n",
       " '5132': 0.7124647498130798,\n",
       " '9632': 0.7123523354530334,\n",
       " '5126': 0.7121771574020386,\n",
       " '7783': 0.7111829519271851,\n",
       " '6046': 0.7111228108406067,\n",
       " '9689': 0.7107091546058655,\n",
       " '5448': 0.710561215877533,\n",
       " '8382': 0.7103471755981445,\n",
       " '9078': 0.7094188928604126,\n",
       " '9296': 0.7089124917984009,\n",
       " '5911': 0.7086291313171387,\n",
       " '6156': 0.7078719735145569,\n",
       " '7661': 0.7059206962585449,\n",
       " '6471': 0.7054357528686523,\n",
       " '6553': 0.705162525177002,\n",
       " '9214': 0.7049657702445984,\n",
       " '8403': 0.7047924995422363,\n",
       " '3181': 0.704145073890686,\n",
       " '6250': 0.7035071849822998,\n",
       " '8375': 0.7025831937789917,\n",
       " '4367': 0.7025296092033386,\n",
       " '5648': 0.7022451162338257,\n",
       " '8524': 0.702223539352417,\n",
       " '1595': 0.7016240358352661,\n",
       " '5978': 0.7011886239051819,\n",
       " '3881': 0.7011606097221375,\n",
       " '5908': 0.7000035047531128,\n",
       " '8121': 0.6997408866882324,\n",
       " '9123': 0.6995366811752319,\n",
       " '4704': 0.6994173526763916,\n",
       " '7970': 0.6974601149559021,\n",
       " '7998': 0.6969248056411743,\n",
       " '3556': 0.6967662572860718,\n",
       " '5700': 0.6966543197631836,\n",
       " '9215': 0.6964811086654663,\n",
       " '9302': 0.6964682936668396,\n",
       " '5637': 0.6954433917999268,\n",
       " '9631': 0.693847119808197,\n",
       " '6617': 0.6937041282653809,\n",
       " '6820': 0.6932680010795593,\n",
       " '6607': 0.6930102705955505,\n",
       " '8564': 0.6925061941146851,\n",
       " '6567': 0.6918392181396484,\n",
       " '3954': 0.6918020248413086,\n",
       " '7907': 0.6903126239776611,\n",
       " '8882': 0.6891512274742126,\n",
       " '5275': 0.6881891489028931,\n",
       " '8452': 0.6873500347137451,\n",
       " '5881': 0.6871415972709656,\n",
       " '8107': 0.6870596408843994,\n",
       " '6024': 0.6870267391204834,\n",
       " '2934': 0.6854596138000488,\n",
       " '9054': 0.6852419376373291,\n",
       " '2720': 0.6848311424255371,\n",
       " '7290': 0.6847972869873047,\n",
       " '5138': 0.6845132112503052,\n",
       " '6064': 0.6841399073600769,\n",
       " '7151': 0.6836892366409302,\n",
       " '7641': 0.6833283305168152,\n",
       " '2694': 0.6832904815673828,\n",
       " '3939': 0.6825445890426636,\n",
       " '9359': 0.6817805171012878,\n",
       " '4080': 0.6813801527023315,\n",
       " '5809': 0.6810010075569153,\n",
       " '8497': 0.6808947324752808,\n",
       " '1777': 0.68079674243927,\n",
       " '7734': 0.6805808544158936,\n",
       " '8849': 0.6793614029884338,\n",
       " '9291': 0.6790027022361755,\n",
       " '8120': 0.6788341403007507,\n",
       " '7750': 0.6772046089172363,\n",
       " '9119': 0.6769874095916748,\n",
       " '9766': 0.6766806840896606,\n",
       " '5531': 0.6766044497489929,\n",
       " '3041': 0.6763619184494019,\n",
       " '5701': 0.6759195327758789,\n",
       " '3104': 0.6755892634391785,\n",
       " '8788': 0.6755498647689819,\n",
       " '7444': 0.6749951839447021,\n",
       " '3898': 0.6746545433998108,\n",
       " '9442': 0.674651563167572,\n",
       " '8697': 0.6742793917655945,\n",
       " '7418': 0.674068033695221,\n",
       " '1624': 0.6734957695007324,\n",
       " '4186': 0.6723048090934753,\n",
       " '7716': 0.6721715331077576,\n",
       " '1855': 0.6720595359802246,\n",
       " '8964': 0.6720448732376099,\n",
       " '8915': 0.6719493865966797,\n",
       " '8174': 0.6716045141220093,\n",
       " '5068': 0.6715298891067505,\n",
       " '8611': 0.6711859703063965,\n",
       " '6740': 0.6706593036651611,\n",
       " '6521': 0.6706222295761108,\n",
       " '8411': 0.6705332398414612,\n",
       " '4856': 0.6703913807868958,\n",
       " '9977': 0.6701682806015015,\n",
       " '1973': 0.669964611530304,\n",
       " '6011': 0.6694813370704651,\n",
       " '9460': 0.6694716215133667,\n",
       " '8479': 0.6672745943069458,\n",
       " '4054': 0.6664551496505737,\n",
       " '7529': 0.66609126329422,\n",
       " '5996': 0.6658892631530762,\n",
       " '4811': 0.6655852198600769,\n",
       " '7459': 0.6650225520133972,\n",
       " '8329': 0.6649993062019348,\n",
       " '7329': 0.6649710536003113,\n",
       " '6032': 0.6648781299591064,\n",
       " '6909': 0.6647903323173523,\n",
       " '2572': 0.664594292640686,\n",
       " '8902': 0.663750171661377,\n",
       " '8570': 0.6626963019371033,\n",
       " '4744': 0.6622671484947205,\n",
       " '5882': 0.6618602275848389,\n",
       " '9542': 0.6608985662460327,\n",
       " '9834': 0.6608350276947021,\n",
       " '7478': 0.6602826714515686,\n",
       " '4779': 0.6602576971054077,\n",
       " '5995': 0.6599738001823425,\n",
       " '2837': 0.6598937511444092,\n",
       " '7668': 0.6597886085510254,\n",
       " '9158': 0.6596754789352417,\n",
       " '7147': 0.6596476435661316,\n",
       " '4685': 0.6594974994659424,\n",
       " '9549': 0.658906102180481,\n",
       " '9049': 0.6583379507064819,\n",
       " '5968': 0.6578201055526733,\n",
       " '6220': 0.6575418710708618,\n",
       " '4702': 0.6574281454086304,\n",
       " '7917': 0.6570774912834167,\n",
       " '5977': 0.6565743684768677,\n",
       " '8410': 0.6564266681671143,\n",
       " '9858': 0.6562552452087402,\n",
       " '5496': 0.6561926007270813,\n",
       " '6548': 0.6560674905776978,\n",
       " '2548': 0.6559562087059021,\n",
       " '6654': 0.6556602716445923,\n",
       " '4620': 0.6556245684623718,\n",
       " '9563': 0.6553162336349487,\n",
       " '5841': 0.6550379991531372,\n",
       " '4622': 0.6546751260757446,\n",
       " '4366': 0.6546415686607361,\n",
       " '7001': 0.6545844078063965,\n",
       " '8704': 0.654474675655365,\n",
       " '9472': 0.6541434526443481,\n",
       " '3675': 0.6539500951766968,\n",
       " '7239': 0.6537501811981201,\n",
       " '9946': 0.6535533666610718,\n",
       " '8357': 0.6534184217453003,\n",
       " '9280': 0.6533399820327759,\n",
       " '7861': 0.6532562375068665,\n",
       " '8999': 0.653251051902771,\n",
       " '6128': 0.6531997323036194,\n",
       " '7727': 0.6531491875648499,\n",
       " '6634': 0.6527984142303467,\n",
       " '7710': 0.6525872945785522,\n",
       " '6894': 0.6521946787834167,\n",
       " '1401': 0.6518903970718384,\n",
       " '6980': 0.6518681049346924,\n",
       " '7209': 0.651386559009552,\n",
       " '5334': 0.6513202786445618,\n",
       " '3480': 0.6511325836181641,\n",
       " '4850': 0.6503192186355591}"
      ]
     },
     "execution_count": 59,
     "metadata": {},
     "output_type": "execute_result"
    }
   ],
   "source": [
    "word2vec_dict"
   ]
  },
  {
   "cell_type": "code",
   "execution_count": 72,
   "metadata": {},
   "outputs": [
    {
     "data": {
      "application/vnd.jupyter.widget-view+json": {
       "model_id": "eb682d5b8fc74e6ba2cac2b778ac9ac5",
       "version_major": 2,
       "version_minor": 0
      },
      "text/plain": [
       "HBox(children=(FloatProgress(value=0.0, max=53382.0), HTML(value='')))"
      ]
     },
     "metadata": {},
     "output_type": "display_data"
    },
    {
     "name": "stdout",
     "output_type": "stream",
     "text": [
      "\n"
     ]
    }
   ],
   "source": [
    "## 전체 영화에 대해서 진행 \n",
    "total_rec_list = {}\n",
    "\n",
    "read_list = train.groupby(['user_id'])['book_id'].agg({'unique'}).reset_index()\n",
    "for user in tqdm(train['user_id'].unique()):\n",
    "    rec_list = []     \n",
    "    seen = read_list1[read_list1['user_id'] == user]['unique'].values[0]\n",
    "    word2vec_dict = {}\n",
    "    for book in seen: \n",
    "        for i in embedding_model.wv.most_similar(positive=[book], topn=300): \n",
    "            if i[0] not in word2vec_dict.keys(): \n",
    "                word2vec_dict[i[0]] = i[1]\n",
    "            else:\n",
    "                word2vec_dict[i[0]] += i[1]\n",
    "                \n",
    "    rec_list = list(dict(sorted(word2vec_dict.items(), key = lambda x: x[1], reverse=True)).keys())\n",
    "    total_rec_list[user] = rec_list[0:200]"
   ]
  },
  {
   "cell_type": "code",
   "execution_count": 73,
   "metadata": {},
   "outputs": [
    {
     "name": "stdout",
     "output_type": "stream",
     "text": [
      "MAP@200: 0.06155149762295346\n",
      "NDCG@200: 0.1908958045145217\n",
      "EntDiv@200: 8.907705070036682\n"
     ]
    }
   ],
   "source": [
    "evaluate_func = evaluate(recs=total_rec_list, gt = gt, topn=200)\n",
    "evaluate_func._evaluate()"
   ]
  },
  {
   "cell_type": "markdown",
   "metadata": {},
   "source": [
    "### 태그를 통한 유사도 계산 "
   ]
  },
  {
   "cell_type": "code",
   "execution_count": 110,
   "metadata": {
    "scrolled": true
   },
   "outputs": [
    {
     "data": {
      "text/html": [
       "<div>\n",
       "<style scoped>\n",
       "    .dataframe tbody tr th:only-of-type {\n",
       "        vertical-align: middle;\n",
       "    }\n",
       "\n",
       "    .dataframe tbody tr th {\n",
       "        vertical-align: top;\n",
       "    }\n",
       "\n",
       "    .dataframe thead th {\n",
       "        text-align: right;\n",
       "    }\n",
       "</style>\n",
       "<table border=\"1\" class=\"dataframe\">\n",
       "  <thead>\n",
       "    <tr style=\"text-align: right;\">\n",
       "      <th></th>\n",
       "      <th>book_id</th>\n",
       "      <th>tag_id</th>\n",
       "      <th>count</th>\n",
       "      <th>tag_name</th>\n",
       "    </tr>\n",
       "  </thead>\n",
       "  <tbody>\n",
       "    <tr>\n",
       "      <th>0</th>\n",
       "      <td>1</td>\n",
       "      <td>30574</td>\n",
       "      <td>167697</td>\n",
       "      <td>to-read</td>\n",
       "    </tr>\n",
       "    <tr>\n",
       "      <th>1</th>\n",
       "      <td>1</td>\n",
       "      <td>11305</td>\n",
       "      <td>37174</td>\n",
       "      <td>fantasy</td>\n",
       "    </tr>\n",
       "    <tr>\n",
       "      <th>2</th>\n",
       "      <td>1</td>\n",
       "      <td>11557</td>\n",
       "      <td>34173</td>\n",
       "      <td>favorites</td>\n",
       "    </tr>\n",
       "    <tr>\n",
       "      <th>3</th>\n",
       "      <td>1</td>\n",
       "      <td>8717</td>\n",
       "      <td>12986</td>\n",
       "      <td>currently-reading</td>\n",
       "    </tr>\n",
       "    <tr>\n",
       "      <th>4</th>\n",
       "      <td>1</td>\n",
       "      <td>33114</td>\n",
       "      <td>12716</td>\n",
       "      <td>young-adult</td>\n",
       "    </tr>\n",
       "  </tbody>\n",
       "</table>\n",
       "</div>"
      ],
      "text/plain": [
       "  book_id tag_id   count           tag_name\n",
       "0       1  30574  167697            to-read\n",
       "1       1  11305   37174            fantasy\n",
       "2       1  11557   34173          favorites\n",
       "3       1   8717   12986  currently-reading\n",
       "4       1  33114   12716        young-adult"
      ]
     },
     "execution_count": 110,
     "metadata": {},
     "output_type": "execute_result"
    }
   ],
   "source": [
    "book_tags.columns = ['book_id', 'tag_id', 'count']\n",
    "book_tags['book_id'] = book_tags['book_id'].astype(str)\n",
    "book_tags['tag_id'] = book_tags['tag_id'].astype(str)\n",
    "\n",
    "tags['tag_id'] = tags['tag_id'].astype(str)\n",
    "\n",
    "book_tags = pd.merge(book_tags, tags, how='left', on='tag_id')\n",
    "book_tags.head()"
   ]
  },
  {
   "cell_type": "code",
   "execution_count": 111,
   "metadata": {},
   "outputs": [
    {
     "data": {
      "text/html": [
       "<div>\n",
       "<style scoped>\n",
       "    .dataframe tbody tr th:only-of-type {\n",
       "        vertical-align: middle;\n",
       "    }\n",
       "\n",
       "    .dataframe tbody tr th {\n",
       "        vertical-align: top;\n",
       "    }\n",
       "\n",
       "    .dataframe thead th {\n",
       "        text-align: right;\n",
       "    }\n",
       "</style>\n",
       "<table border=\"1\" class=\"dataframe\">\n",
       "  <thead>\n",
       "    <tr style=\"text-align: right;\">\n",
       "      <th></th>\n",
       "      <th>book_id</th>\n",
       "      <th>unique</th>\n",
       "    </tr>\n",
       "  </thead>\n",
       "  <tbody>\n",
       "    <tr>\n",
       "      <th>0</th>\n",
       "      <td>1</td>\n",
       "      <td>[to-read, fantasy, favorites, currently-readin...</td>\n",
       "    </tr>\n",
       "    <tr>\n",
       "      <th>1</th>\n",
       "      <td>10</td>\n",
       "      <td>[to-read, favorites, fantasy, currently-readin...</td>\n",
       "    </tr>\n",
       "    <tr>\n",
       "      <th>2</th>\n",
       "      <td>10006</td>\n",
       "      <td>[to-read, fiction, currently-reading, rory-gil...</td>\n",
       "    </tr>\n",
       "    <tr>\n",
       "      <th>3</th>\n",
       "      <td>1000751</td>\n",
       "      <td>[to-read, classics, childrens, fiction, curren...</td>\n",
       "    </tr>\n",
       "    <tr>\n",
       "      <th>4</th>\n",
       "      <td>10008056</td>\n",
       "      <td>[to-read, default, currently-reading, krimi, c...</td>\n",
       "    </tr>\n",
       "  </tbody>\n",
       "</table>\n",
       "</div>"
      ],
      "text/plain": [
       "    book_id                                             unique\n",
       "0         1  [to-read, fantasy, favorites, currently-readin...\n",
       "1        10  [to-read, favorites, fantasy, currently-readin...\n",
       "2     10006  [to-read, fiction, currently-reading, rory-gil...\n",
       "3   1000751  [to-read, classics, childrens, fiction, curren...\n",
       "4  10008056  [to-read, default, currently-reading, krimi, c..."
      ]
     },
     "execution_count": 111,
     "metadata": {},
     "output_type": "execute_result"
    }
   ],
   "source": [
    "agg = book_tags.groupby(['book_id'])['tag_name'].agg({'unique'}).reset_index()\n",
    "agg.head()"
   ]
  },
  {
   "cell_type": "code",
   "execution_count": 112,
   "metadata": {},
   "outputs": [],
   "source": [
    "# 태그간의 유사도 계산 \n",
    "# int형식은 Word2vec에서 학습이 안되어서 String으로 변경해줍니다. \n",
    "sentence = []\n",
    "for user_sentence in agg['unique'].values:\n",
    "    sentence.append(list(map(str, user_sentence)))"
   ]
  },
  {
   "cell_type": "code",
   "execution_count": 135,
   "metadata": {},
   "outputs": [],
   "source": [
    "from gensim.models import doc2vec\n",
    "doc_vectorizer = doc2vec.Doc2Vec(\n",
    "    dm=0,            # PV-DBOW / default 1\n",
    "    dbow_words=1,    # w2v simultaneous with DBOW d2v / default 0\n",
    "    window=10,        # distance between the predicted word and context words\n",
    "    size=100,        # vector size\n",
    "    alpha=0.025,     # learning-rate\n",
    "    seed=1234,\n",
    "    min_count=5,    # ignore with freq lower\n",
    "    min_alpha=0.025, # min learning-rate\n",
    "    workers=4,   # multi cpu\n",
    "    hs = 1,          # hierar chical softmax / default 0\n",
    "    negative = 10   # negative sampling / default 5\n",
    ")"
   ]
  },
  {
   "cell_type": "code",
   "execution_count": 136,
   "metadata": {},
   "outputs": [],
   "source": [
    "from collections import namedtuple\n",
    "\n",
    "TaggedDocument = namedtuple('TaggedDocument', 'words tags')\n",
    "tagged_train_docs = [TaggedDocument(c, [d]) for c, d in agg[['unique', 'book_id']].values]"
   ]
  },
  {
   "cell_type": "code",
   "execution_count": 137,
   "metadata": {},
   "outputs": [
    {
     "name": "stdout",
     "output_type": "stream",
     "text": [
      "Doc2Vec(dbow+w,d100,n10,hs,w10,mc5,s0.001,t4)\n"
     ]
    }
   ],
   "source": [
    "doc_vectorizer.build_vocab(tagged_train_docs)\n",
    "print(str(doc_vectorizer))"
   ]
  },
  {
   "cell_type": "code",
   "execution_count": 138,
   "metadata": {},
   "outputs": [
    {
     "data": {
      "application/vnd.jupyter.widget-view+json": {
       "model_id": "db3b48e7f91d421cb986da0453679e3f",
       "version_major": 2,
       "version_minor": 0
      },
      "text/plain": [
       "HBox(children=(FloatProgress(value=0.0, max=5.0), HTML(value='')))"
      ]
     },
     "metadata": {},
     "output_type": "display_data"
    },
    {
     "name": "stdout",
     "output_type": "stream",
     "text": [
      "\n",
      "During Time: 149.26799321174622\n"
     ]
    }
   ],
   "source": [
    "# 벡터 문서 학습\n",
    "from time import time\n",
    "\n",
    "start = time()\n",
    "\n",
    "for epoch in tqdm(range(5)):\n",
    "    doc_vectorizer.train(tagged_train_docs, total_examples=doc_vectorizer.corpus_count, epochs=doc_vectorizer.iter)\n",
    "    doc_vectorizer.alpha -= 0.002 # decrease the learning rate\n",
    "    doc_vectorizer.min_alpha = doc_vectorizer.alpha # fix the learning rate, no decay\n",
    "\n",
    "#doc_vectorizer.train(tagged_train_docs, total_examples=doc_vectorizer.corpus_count, epochs=doc_vectorizer.iter)\n",
    "end = time()\n",
    "print(\"During Time: {}\".format(end-start))"
   ]
  },
  {
   "cell_type": "code",
   "execution_count": 144,
   "metadata": {},
   "outputs": [
    {
     "data": {
      "text/plain": [
       "[('136251', 0.8078522682189941),\n",
       " ('15881', 0.798373281955719),\n",
       " ('5', 0.765884518623352),\n",
       " ('3', 0.7629809975624084),\n",
       " ('6', 0.7605149149894714),\n",
       " ('10', 0.7444010972976685),\n",
       " ('862041', 0.7420138716697693),\n",
       " ('2', 0.7228800058364868),\n",
       " ('1317181', 0.6814628839492798),\n",
       " ('99298', 0.6564392447471619),\n",
       " ('3950967', 0.6416337490081787),\n",
       " ('100464', 0.6414878964424133),\n",
       " ('111450', 0.6387267112731934),\n",
       " ('28187', 0.6379451751708984),\n",
       " ('6294', 0.6286188364028931),\n",
       " ('4502507', 0.6279685497283936),\n",
       " ('2120932', 0.621900200843811),\n",
       " ('9520360', 0.610683798789978),\n",
       " ('784911', 0.6093959808349609),\n",
       " ('2146957', 0.601519763469696)]"
      ]
     },
     "execution_count": 144,
     "metadata": {},
     "output_type": "execute_result"
    }
   ],
   "source": [
    "doc_vectorizer.docvecs.most_similar('1', topn=20)"
   ]
  },
  {
   "cell_type": "code",
   "execution_count": 151,
   "metadata": {},
   "outputs": [
    {
     "data": {
      "text/html": [
       "<div>\n",
       "<style scoped>\n",
       "    .dataframe tbody tr th:only-of-type {\n",
       "        vertical-align: middle;\n",
       "    }\n",
       "\n",
       "    .dataframe tbody tr th {\n",
       "        vertical-align: top;\n",
       "    }\n",
       "\n",
       "    .dataframe thead th {\n",
       "        text-align: right;\n",
       "    }\n",
       "</style>\n",
       "<table border=\"1\" class=\"dataframe\">\n",
       "  <thead>\n",
       "    <tr style=\"text-align: right;\">\n",
       "      <th></th>\n",
       "      <th>user_id</th>\n",
       "      <th>book_id</th>\n",
       "    </tr>\n",
       "  </thead>\n",
       "  <tbody>\n",
       "    <tr>\n",
       "      <th>0</th>\n",
       "      <td>1</td>\n",
       "      <td>4893</td>\n",
       "    </tr>\n",
       "    <tr>\n",
       "      <th>1</th>\n",
       "      <td>2</td>\n",
       "      <td>8855</td>\n",
       "    </tr>\n",
       "    <tr>\n",
       "      <th>2</th>\n",
       "      <td>3</td>\n",
       "      <td>9049</td>\n",
       "    </tr>\n",
       "    <tr>\n",
       "      <th>3</th>\n",
       "      <td>4</td>\n",
       "      <td>3273</td>\n",
       "    </tr>\n",
       "    <tr>\n",
       "      <th>4</th>\n",
       "      <td>5</td>\n",
       "      <td>4829</td>\n",
       "    </tr>\n",
       "  </tbody>\n",
       "</table>\n",
       "</div>"
      ],
      "text/plain": [
       "   user_id book_id\n",
       "0        1    4893\n",
       "1        2    8855\n",
       "2        3    9049\n",
       "3        4    3273\n",
       "4        5    4829"
      ]
     },
     "execution_count": 151,
     "metadata": {},
     "output_type": "execute_result"
    }
   ],
   "source": [
    "train.head()"
   ]
  },
  {
   "cell_type": "code",
   "execution_count": 154,
   "metadata": {
    "scrolled": true
   },
   "outputs": [],
   "source": [
    "# tag 정보가 있는 책이 있고 아닌 책이 있어서 해당 책만 추출 \n",
    "agg['type'] = '1'\n",
    "train = pd.merge(train, agg, how='left', on='book_id')"
   ]
  },
  {
   "cell_type": "code",
   "execution_count": 165,
   "metadata": {
    "scrolled": true
   },
   "outputs": [
    {
     "data": {
      "application/vnd.jupyter.widget-view+json": {
       "model_id": "216b06585264433ebb6021b0341967d7",
       "version_major": 2,
       "version_minor": 0
      },
      "text/plain": [
       "HBox(children=(FloatProgress(value=0.0, max=53382.0), HTML(value='')))"
      ]
     },
     "metadata": {},
     "output_type": "display_data"
    },
    {
     "name": "stdout",
     "output_type": "stream",
     "text": [
      "\n"
     ]
    }
   ],
   "source": [
    "## 전체 영화에 대해서 진행 \n",
    "total_rec_list = {}\n",
    "\n",
    "read_list1 = train.groupby(['user_id'])['book_id'].agg({'unique'}).reset_index()\n",
    "read_list2 = train[train['type'] == '1'].groupby(['user_id'])['book_id'].agg({'unique'}).reset_index()\n",
    "for user in tqdm(train['user_id'].unique()):\n",
    "    rec_list = []\n",
    "    if user in read_list2['user_id'].unique():\n",
    "        seen = read_list2[read_list2['user_id'] == user]['unique'].values[0]\n",
    "        doc2vec_dict = {}\n",
    "        for book in seen: \n",
    "            for i in doc_vectorizer.docvecs.most_similar(positive=[book], topn=300): \n",
    "                if i[0] not in doc2vec_dict.keys(): \n",
    "                    doc2vec_dict[i[0]] = i[1]\n",
    "                else:\n",
    "                    doc2vec_dict[i[0]] += i[1]\n",
    "\n",
    "        rec_list = list(dict(sorted(doc2vec_dict.items(), key = lambda x: x[1], reverse=True)).keys())\n",
    "    else:\n",
    "        \n",
    "        seen = read_list1[read_list1['user_id'] == user]['unique'].values[0]\n",
    "        for rec in popular_rec_model[0:300]:\n",
    "            if rec not in seen:\n",
    "                rec_list.append(rec)\n",
    "    total_rec_list[user] = rec_list[0:200]"
   ]
  },
  {
   "cell_type": "code",
   "execution_count": 167,
   "metadata": {},
   "outputs": [
    {
     "name": "stdout",
     "output_type": "stream",
     "text": [
      "MAP@200: 0.00016403839614223664\n",
      "NDCG@200: 0.0016668758871920964\n",
      "EntDiv@200: 6.988247617640543\n"
     ]
    }
   ],
   "source": [
    "evaluate_func = evaluate(recs=total_rec_list, gt = gt, topn=200)\n",
    "evaluate_func._evaluate()"
   ]
  }
 ],
 "metadata": {
  "kernelspec": {
   "display_name": "Python 3",
   "language": "python",
   "name": "python3"
  },
  "language_info": {
   "codemirror_mode": {
    "name": "ipython",
    "version": 3
   },
   "file_extension": ".py",
   "mimetype": "text/x-python",
   "name": "python",
   "nbconvert_exporter": "python",
   "pygments_lexer": "ipython3",
   "version": "3.8.3"
  }
 },
 "nbformat": 4,
 "nbformat_minor": 4
}
