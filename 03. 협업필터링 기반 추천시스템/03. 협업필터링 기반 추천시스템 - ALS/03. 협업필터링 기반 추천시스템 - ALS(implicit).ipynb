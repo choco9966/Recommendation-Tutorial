{
 "cells": [
  {
   "cell_type": "code",
   "execution_count": 7,
   "metadata": {
    "scrolled": true
   },
   "outputs": [],
   "source": [
    "import numpy as np \n",
    "import scipy \n",
    "\n",
    "R = np.array([\n",
    "    [1, 0, 0, 1, 3],\n",
    "    [2, 0, 3, 1, 1],\n",
    "    [1, 2, 0, 5, 0],\n",
    "    [1, 0, 0, 4, 4],\n",
    "    [2, 1, 5, 4, 0],\n",
    "    [5, 1, 5, 4, 0],\n",
    "    [0, 0, 0, 1, 0],\n",
    "])\n",
    "\n",
    "rating_matrix = scipy.sparse.csr_matrix(R)"
   ]
  },
  {
   "cell_type": "code",
   "execution_count": 8,
   "metadata": {},
   "outputs": [
    {
     "data": {
      "application/vnd.jupyter.widget-view+json": {
       "model_id": "324e32038d0640669b0cec21291d0070",
       "version_major": 2,
       "version_minor": 0
      },
      "text/plain": [
       "HBox(children=(FloatProgress(value=0.0), HTML(value='')))"
      ]
     },
     "metadata": {},
     "output_type": "display_data"
    },
    {
     "name": "stdout",
     "output_type": "stream",
     "text": [
      "\n"
     ]
    }
   ],
   "source": [
    "from implicit.evaluation import  *\n",
    "from implicit.als import AlternatingLeastSquares as ALS\n",
    "from implicit.bpr import BayesianPersonalizedRanking as BPR\n",
    "\n",
    "als_model = ALS(factors=3, regularization=0.01, iterations = 100)\n",
    "als_model.fit(rating_matrix.T)"
   ]
  },
  {
   "cell_type": "code",
   "execution_count": 14,
   "metadata": {},
   "outputs": [
    {
     "data": {
      "text/plain": [
       "array([[-0.43390596,  0.7792046 ,  0.72156245],\n",
       "       [ 0.25987417,  1.585035  , -0.07761745],\n",
       "       [ 0.5883245 ,  0.67921823,  1.4624232 ],\n",
       "       [-0.44013542,  0.76680833,  0.68539524],\n",
       "       [ 1.2584542 ,  1.5149189 ,  0.70578897],\n",
       "       [ 1.2584835 ,  1.5153128 ,  0.7062366 ],\n",
       "       [-0.01211063,  0.24986167,  0.54429907]], dtype=float32)"
      ]
     },
     "execution_count": 14,
     "metadata": {},
     "output_type": "execute_result"
    }
   ],
   "source": [
    "als_model.user_factors"
   ]
  },
  {
   "cell_type": "code",
   "execution_count": 13,
   "metadata": {},
   "outputs": [
    {
     "data": {
      "text/plain": [
       "array([[-0.2741828 ,  0.70229995,  0.39969537],\n",
       "       [ 0.6381009 , -0.07443979,  0.44144744],\n",
       "       [ 0.3407201 ,  0.5544682 , -0.38120595],\n",
       "       [-0.32385796,  0.68887347,  0.51305306],\n",
       "       [-0.9246371 ,  0.78346837, -0.02537217]], dtype=float32)"
      ]
     },
     "execution_count": 13,
     "metadata": {},
     "output_type": "execute_result"
    }
   ],
   "source": [
    "als_model.item_factors"
   ]
  },
  {
   "cell_type": "code",
   "execution_count": 19,
   "metadata": {},
   "outputs": [
    {
     "data": {
      "text/plain": [
       "array([[ 4.7730503 , -0.08173858,  0.04569907,  5.237486  ,  4.966901  ],\n",
       "       [ 5.054468  ,  0.06786128,  4.9849205 ,  4.8395214 ,  5.017524  ],\n",
       "       [ 4.5011516 ,  4.8521624 ,  0.09787245,  5.1383123 , -0.24472743],\n",
       "       [ 4.6657815 , -0.17682949,  0.06965568,  5.1120973 ,  4.9517283 ],\n",
       "       [ 5.0049076 ,  5.009096  ,  4.99852   ,  4.990671  ,  0.02685123],\n",
       "       [ 5.0071454 ,  5.0100317 ,  4.998809  ,  4.993129  ,  0.0282017 ],\n",
       "       [ 1.9817609 ,  1.0697598 , -0.3653801 ,  2.2764974 ,  0.96573305]],\n",
       "      dtype=float32)"
      ]
     },
     "execution_count": 19,
     "metadata": {},
     "output_type": "execute_result"
    }
   ],
   "source": [
    "np.dot(als_model.user_factors, als_model.item_factors.T) * 5"
   ]
  }
 ],
 "metadata": {
  "kernelspec": {
   "display_name": "Python 3",
   "language": "python",
   "name": "python3"
  },
  "language_info": {
   "codemirror_mode": {
    "name": "ipython",
    "version": 3
   },
   "file_extension": ".py",
   "mimetype": "text/x-python",
   "name": "python",
   "nbconvert_exporter": "python",
   "pygments_lexer": "ipython3",
   "version": "3.8.3"
  }
 },
 "nbformat": 4,
 "nbformat_minor": 4
}
